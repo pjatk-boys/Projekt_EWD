{
 "cells": [
  {
   "cell_type": "code",
   "execution_count": 89,
   "metadata": {
    "collapsed": true
   },
   "outputs": [],
   "source": [
    "import pandas as pd\n",
    "import plotly.express as px"
   ]
  },
  {
   "cell_type": "code",
   "execution_count": 90,
   "metadata": {
    "pycharm": {
     "name": "#%%\n"
    }
   },
   "outputs": [],
   "source": [
    "data_path_ludnosc = \"../ludnosc.csv\""
   ]
  },
  {
   "cell_type": "code",
   "execution_count": 91,
   "metadata": {
    "pycharm": {
     "name": "#%%\n"
    }
   },
   "outputs": [],
   "source": [
    "df_ludnosc = pd.read_csv(data_path_ludnosc, sep=\";\", decimal=\".\")"
   ]
  },
  {
   "cell_type": "code",
   "execution_count": 92,
   "metadata": {
    "pycharm": {
     "name": "#%%\n"
    }
   },
   "outputs": [
    {
     "data": {
      "text/plain": "array(['chłodziarka', 'automat pralniczy', 'zmywarka do naczyń',\n       'kuchenka mikrofalowa',\n       'kuchenka elektryczna z płytą ceramiczną, indukcyjną',\n       'samochód osobowy', 'odtwarzacz płyt kompaktowych',\n       'zestaw do odbioru, rejestracji i odtwarzania dźwięku (wieża HI-FI)',\n       'odbiornik telewizyjny', 'zestaw kina domowego', 'odtwarzacz DVD',\n       'telefon komórkowy', 'smartfon', 'magnetowid, odtwarzacz',\n       'urządzenie do odbioru telewizji satelitarnej',\n       'urządzenie do odbioru telewizji satelitarnej lub kablowej',\n       'komputer osobisty ogółem',\n       'komputer osobisty z dostępem do Internetu',\n       'komputer osobisty z szerokopasmowym dostępem do Internetu',\n       'urządzenie z dostępem do Internetu', 'drukarka',\n       'drukarka wielofunkcyjna'], dtype=object)"
     },
     "execution_count": 92,
     "metadata": {},
     "output_type": "execute_result"
    }
   ],
   "source": [
    "df_ludnosc[(df_ludnosc.Kategoria == \"Wyposażenie\")].Zmienna.unique()"
   ]
  },
  {
   "cell_type": "code",
   "execution_count": 93,
   "metadata": {
    "pycharm": {
     "name": "#%%\n"
    }
   },
   "outputs": [
    {
     "data": {
      "text/plain": "        Kategoria      Kod               Nazwa                  Zmienna   Rok  \\\n2618  Wyposażenie        0              POLSKA              chłodziarka  2003   \n2619  Wyposażenie        0              POLSKA              chłodziarka  2004   \n2620  Wyposażenie        0              POLSKA              chłodziarka  2005   \n2621  Wyposażenie        0              POLSKA              chłodziarka  2006   \n2622  Wyposażenie        0              POLSKA              chłodziarka  2007   \n...           ...      ...                 ...                      ...   ...   \n9345  Wyposażenie  3200000  ZACHODNIOPOMORSKIE  drukarka wielofunkcyjna  2016   \n9346  Wyposażenie  3200000  ZACHODNIOPOMORSKIE  drukarka wielofunkcyjna  2017   \n9347  Wyposażenie  3200000  ZACHODNIOPOMORSKIE  drukarka wielofunkcyjna  2018   \n9348  Wyposażenie  3200000  ZACHODNIOPOMORSKIE  drukarka wielofunkcyjna  2019   \n9349  Wyposażenie  3200000  ZACHODNIOPOMORSKIE  drukarka wielofunkcyjna  2020   \n\n     Wartosc Jednostka miary Atrybut  Unnamed: 8  \n2618    97,5               %     NaN         NaN  \n2619    97,7               %     NaN         NaN  \n2620    97,3               %     NaN         NaN  \n2621     NaN               %     NaN         NaN  \n2622     NaN               %     NaN         NaN  \n...      ...             ...     ...         ...  \n9345    15,3               %     NaN         NaN  \n9346    15,9               %     NaN         NaN  \n9347    20,8               %     NaN         NaN  \n9348    20,8               %     NaN         NaN  \n9349    19,8               %     NaN         NaN  \n\n[6732 rows x 9 columns]",
      "text/html": "<div>\n<style scoped>\n    .dataframe tbody tr th:only-of-type {\n        vertical-align: middle;\n    }\n\n    .dataframe tbody tr th {\n        vertical-align: top;\n    }\n\n    .dataframe thead th {\n        text-align: right;\n    }\n</style>\n<table border=\"1\" class=\"dataframe\">\n  <thead>\n    <tr style=\"text-align: right;\">\n      <th></th>\n      <th>Kategoria</th>\n      <th>Kod</th>\n      <th>Nazwa</th>\n      <th>Zmienna</th>\n      <th>Rok</th>\n      <th>Wartosc</th>\n      <th>Jednostka miary</th>\n      <th>Atrybut</th>\n      <th>Unnamed: 8</th>\n    </tr>\n  </thead>\n  <tbody>\n    <tr>\n      <th>2618</th>\n      <td>Wyposażenie</td>\n      <td>0</td>\n      <td>POLSKA</td>\n      <td>chłodziarka</td>\n      <td>2003</td>\n      <td>97,5</td>\n      <td>%</td>\n      <td>NaN</td>\n      <td>NaN</td>\n    </tr>\n    <tr>\n      <th>2619</th>\n      <td>Wyposażenie</td>\n      <td>0</td>\n      <td>POLSKA</td>\n      <td>chłodziarka</td>\n      <td>2004</td>\n      <td>97,7</td>\n      <td>%</td>\n      <td>NaN</td>\n      <td>NaN</td>\n    </tr>\n    <tr>\n      <th>2620</th>\n      <td>Wyposażenie</td>\n      <td>0</td>\n      <td>POLSKA</td>\n      <td>chłodziarka</td>\n      <td>2005</td>\n      <td>97,3</td>\n      <td>%</td>\n      <td>NaN</td>\n      <td>NaN</td>\n    </tr>\n    <tr>\n      <th>2621</th>\n      <td>Wyposażenie</td>\n      <td>0</td>\n      <td>POLSKA</td>\n      <td>chłodziarka</td>\n      <td>2006</td>\n      <td>NaN</td>\n      <td>%</td>\n      <td>NaN</td>\n      <td>NaN</td>\n    </tr>\n    <tr>\n      <th>2622</th>\n      <td>Wyposażenie</td>\n      <td>0</td>\n      <td>POLSKA</td>\n      <td>chłodziarka</td>\n      <td>2007</td>\n      <td>NaN</td>\n      <td>%</td>\n      <td>NaN</td>\n      <td>NaN</td>\n    </tr>\n    <tr>\n      <th>...</th>\n      <td>...</td>\n      <td>...</td>\n      <td>...</td>\n      <td>...</td>\n      <td>...</td>\n      <td>...</td>\n      <td>...</td>\n      <td>...</td>\n      <td>...</td>\n    </tr>\n    <tr>\n      <th>9345</th>\n      <td>Wyposażenie</td>\n      <td>3200000</td>\n      <td>ZACHODNIOPOMORSKIE</td>\n      <td>drukarka wielofunkcyjna</td>\n      <td>2016</td>\n      <td>15,3</td>\n      <td>%</td>\n      <td>NaN</td>\n      <td>NaN</td>\n    </tr>\n    <tr>\n      <th>9346</th>\n      <td>Wyposażenie</td>\n      <td>3200000</td>\n      <td>ZACHODNIOPOMORSKIE</td>\n      <td>drukarka wielofunkcyjna</td>\n      <td>2017</td>\n      <td>15,9</td>\n      <td>%</td>\n      <td>NaN</td>\n      <td>NaN</td>\n    </tr>\n    <tr>\n      <th>9347</th>\n      <td>Wyposażenie</td>\n      <td>3200000</td>\n      <td>ZACHODNIOPOMORSKIE</td>\n      <td>drukarka wielofunkcyjna</td>\n      <td>2018</td>\n      <td>20,8</td>\n      <td>%</td>\n      <td>NaN</td>\n      <td>NaN</td>\n    </tr>\n    <tr>\n      <th>9348</th>\n      <td>Wyposażenie</td>\n      <td>3200000</td>\n      <td>ZACHODNIOPOMORSKIE</td>\n      <td>drukarka wielofunkcyjna</td>\n      <td>2019</td>\n      <td>20,8</td>\n      <td>%</td>\n      <td>NaN</td>\n      <td>NaN</td>\n    </tr>\n    <tr>\n      <th>9349</th>\n      <td>Wyposażenie</td>\n      <td>3200000</td>\n      <td>ZACHODNIOPOMORSKIE</td>\n      <td>drukarka wielofunkcyjna</td>\n      <td>2020</td>\n      <td>19,8</td>\n      <td>%</td>\n      <td>NaN</td>\n      <td>NaN</td>\n    </tr>\n  </tbody>\n</table>\n<p>6732 rows × 9 columns</p>\n</div>"
     },
     "execution_count": 93,
     "metadata": {},
     "output_type": "execute_result"
    }
   ],
   "source": [
    "df_ludnosc[(df_ludnosc.Kategoria == \"Wyposażenie\")]"
   ]
  },
  {
   "cell_type": "code",
   "execution_count": 94,
   "metadata": {
    "pycharm": {
     "name": "#%%\n"
    }
   },
   "outputs": [
    {
     "name": "stdout",
     "output_type": "stream",
     "text": [
      "        Kategoria      Kod               Nazwa      Zmienna   Rok Wartosc  \\\n",
      "2618  Wyposażenie        0              POLSKA  chłodziarka  2003    97,5   \n",
      "2619  Wyposażenie        0              POLSKA  chłodziarka  2004    97,7   \n",
      "2620  Wyposażenie        0              POLSKA  chłodziarka  2005    97,3   \n",
      "2621  Wyposażenie        0              POLSKA  chłodziarka  2006     NaN   \n",
      "2622  Wyposażenie        0              POLSKA  chłodziarka  2007     NaN   \n",
      "...           ...      ...                 ...          ...   ...     ...   \n",
      "8967  Wyposażenie  3200000  ZACHODNIOPOMORSKIE  chłodziarka  2016     NaN   \n",
      "8968  Wyposażenie  3200000  ZACHODNIOPOMORSKIE  chłodziarka  2017     NaN   \n",
      "8969  Wyposażenie  3200000  ZACHODNIOPOMORSKIE  chłodziarka  2018     NaN   \n",
      "8970  Wyposażenie  3200000  ZACHODNIOPOMORSKIE  chłodziarka  2019     NaN   \n",
      "8971  Wyposażenie  3200000  ZACHODNIOPOMORSKIE  chłodziarka  2020     NaN   \n",
      "\n",
      "     Jednostka miary Atrybut  Unnamed: 8  \n",
      "2618               %     NaN         NaN  \n",
      "2619               %     NaN         NaN  \n",
      "2620               %     NaN         NaN  \n",
      "2621               %     NaN         NaN  \n",
      "2622               %     NaN         NaN  \n",
      "...              ...     ...         ...  \n",
      "8967               %     NaN         NaN  \n",
      "8968               %     NaN         NaN  \n",
      "8969               %     NaN         NaN  \n",
      "8970               %     NaN         NaN  \n",
      "8971               %     NaN         NaN  \n",
      "\n",
      "[306 rows x 9 columns]\n",
      "        Kategoria      Kod               Nazwa            Zmienna   Rok  \\\n",
      "2636  Wyposażenie        0              POLSKA  automat pralniczy  2003   \n",
      "2637  Wyposażenie        0              POLSKA  automat pralniczy  2004   \n",
      "2638  Wyposażenie        0              POLSKA  automat pralniczy  2005   \n",
      "2639  Wyposażenie        0              POLSKA  automat pralniczy  2006   \n",
      "2640  Wyposażenie        0              POLSKA  automat pralniczy  2007   \n",
      "...           ...      ...                 ...                ...   ...   \n",
      "8985  Wyposażenie  3200000  ZACHODNIOPOMORSKIE  automat pralniczy  2016   \n",
      "8986  Wyposażenie  3200000  ZACHODNIOPOMORSKIE  automat pralniczy  2017   \n",
      "8987  Wyposażenie  3200000  ZACHODNIOPOMORSKIE  automat pralniczy  2018   \n",
      "8988  Wyposażenie  3200000  ZACHODNIOPOMORSKIE  automat pralniczy  2019   \n",
      "8989  Wyposażenie  3200000  ZACHODNIOPOMORSKIE  automat pralniczy  2020   \n",
      "\n",
      "     Wartosc Jednostka miary Atrybut  Unnamed: 8  \n",
      "2636    75,7               %     NaN         NaN  \n",
      "2637    77,3               %     NaN         NaN  \n",
      "2638    79,8               %     NaN         NaN  \n",
      "2639    82,8               %     NaN         NaN  \n",
      "2640    84,7               %     NaN         NaN  \n",
      "...      ...             ...     ...         ...  \n",
      "8985    98,0               %     NaN         NaN  \n",
      "8986    97,4               %     NaN         NaN  \n",
      "8987    96,9               %     NaN         NaN  \n",
      "8988    95,8               %     NaN         NaN  \n",
      "8989    96,7               %     NaN         NaN  \n",
      "\n",
      "[306 rows x 9 columns]\n",
      "        Kategoria      Kod               Nazwa             Zmienna   Rok  \\\n",
      "2654  Wyposażenie        0              POLSKA  zmywarka do naczyń  2003   \n",
      "2655  Wyposażenie        0              POLSKA  zmywarka do naczyń  2004   \n",
      "2656  Wyposażenie        0              POLSKA  zmywarka do naczyń  2005   \n",
      "2657  Wyposażenie        0              POLSKA  zmywarka do naczyń  2006   \n",
      "2658  Wyposażenie        0              POLSKA  zmywarka do naczyń  2007   \n",
      "...           ...      ...                 ...                 ...   ...   \n",
      "9003  Wyposażenie  3200000  ZACHODNIOPOMORSKIE  zmywarka do naczyń  2016   \n",
      "9004  Wyposażenie  3200000  ZACHODNIOPOMORSKIE  zmywarka do naczyń  2017   \n",
      "9005  Wyposażenie  3200000  ZACHODNIOPOMORSKIE  zmywarka do naczyń  2018   \n",
      "9006  Wyposażenie  3200000  ZACHODNIOPOMORSKIE  zmywarka do naczyń  2019   \n",
      "9007  Wyposażenie  3200000  ZACHODNIOPOMORSKIE  zmywarka do naczyń  2020   \n",
      "\n",
      "     Wartosc Jednostka miary Atrybut  Unnamed: 8  \n",
      "2654     3,1               %     NaN         NaN  \n",
      "2655     4,0               %     NaN         NaN  \n",
      "2656     4,9               %     NaN         NaN  \n",
      "2657     6,2               %     NaN         NaN  \n",
      "2658     7,4               %     NaN         NaN  \n",
      "...      ...             ...     ...         ...  \n",
      "9003    31,2               %     NaN         NaN  \n",
      "9004    34,7               %     NaN         NaN  \n",
      "9005    43,5               %     NaN         NaN  \n",
      "9006    40,4               %     NaN         NaN  \n",
      "9007    45,4               %     NaN         NaN  \n",
      "\n",
      "[306 rows x 9 columns]\n",
      "        Kategoria      Kod               Nazwa               Zmienna   Rok  \\\n",
      "2672  Wyposażenie        0              POLSKA  kuchenka mikrofalowa  2003   \n",
      "2673  Wyposażenie        0              POLSKA  kuchenka mikrofalowa  2004   \n",
      "2674  Wyposażenie        0              POLSKA  kuchenka mikrofalowa  2005   \n",
      "2675  Wyposażenie        0              POLSKA  kuchenka mikrofalowa  2006   \n",
      "2676  Wyposażenie        0              POLSKA  kuchenka mikrofalowa  2007   \n",
      "...           ...      ...                 ...                   ...   ...   \n",
      "9021  Wyposażenie  3200000  ZACHODNIOPOMORSKIE  kuchenka mikrofalowa  2016   \n",
      "9022  Wyposażenie  3200000  ZACHODNIOPOMORSKIE  kuchenka mikrofalowa  2017   \n",
      "9023  Wyposażenie  3200000  ZACHODNIOPOMORSKIE  kuchenka mikrofalowa  2018   \n",
      "9024  Wyposażenie  3200000  ZACHODNIOPOMORSKIE  kuchenka mikrofalowa  2019   \n",
      "9025  Wyposażenie  3200000  ZACHODNIOPOMORSKIE  kuchenka mikrofalowa  2020   \n",
      "\n",
      "     Wartosc Jednostka miary Atrybut  Unnamed: 8  \n",
      "2672    24,9               %     NaN         NaN  \n",
      "2673    28,6               %     NaN         NaN  \n",
      "2674    33,3               %     NaN         NaN  \n",
      "2675    38,0               %     NaN         NaN  \n",
      "2676    42,5               %     NaN         NaN  \n",
      "...      ...             ...     ...         ...  \n",
      "9021    56,9               %     NaN         NaN  \n",
      "9022    56,5               %     NaN         NaN  \n",
      "9023    66,8               %     NaN         NaN  \n",
      "9024    71,3               %     NaN         NaN  \n",
      "9025    64,8               %     NaN         NaN  \n",
      "\n",
      "[306 rows x 9 columns]\n",
      "        Kategoria      Kod               Nazwa  \\\n",
      "2690  Wyposażenie        0              POLSKA   \n",
      "2691  Wyposażenie        0              POLSKA   \n",
      "2692  Wyposażenie        0              POLSKA   \n",
      "2693  Wyposażenie        0              POLSKA   \n",
      "2694  Wyposażenie        0              POLSKA   \n",
      "...           ...      ...                 ...   \n",
      "9039  Wyposażenie  3200000  ZACHODNIOPOMORSKIE   \n",
      "9040  Wyposażenie  3200000  ZACHODNIOPOMORSKIE   \n",
      "9041  Wyposażenie  3200000  ZACHODNIOPOMORSKIE   \n",
      "9042  Wyposażenie  3200000  ZACHODNIOPOMORSKIE   \n",
      "9043  Wyposażenie  3200000  ZACHODNIOPOMORSKIE   \n",
      "\n",
      "                                                Zmienna   Rok Wartosc  \\\n",
      "2690  kuchenka elektryczna z płytą ceramiczną, induk...  2003     NaN   \n",
      "2691  kuchenka elektryczna z płytą ceramiczną, induk...  2004     NaN   \n",
      "2692  kuchenka elektryczna z płytą ceramiczną, induk...  2005     NaN   \n",
      "2693  kuchenka elektryczna z płytą ceramiczną, induk...  2006     NaN   \n",
      "2694  kuchenka elektryczna z płytą ceramiczną, induk...  2007     NaN   \n",
      "...                                                 ...   ...     ...   \n",
      "9039  kuchenka elektryczna z płytą ceramiczną, induk...  2016    10,9   \n",
      "9040  kuchenka elektryczna z płytą ceramiczną, induk...  2017    15,5   \n",
      "9041  kuchenka elektryczna z płytą ceramiczną, induk...  2018    21,1   \n",
      "9042  kuchenka elektryczna z płytą ceramiczną, induk...  2019    22,8   \n",
      "9043  kuchenka elektryczna z płytą ceramiczną, induk...  2020    15,2   \n",
      "\n",
      "     Jednostka miary Atrybut  Unnamed: 8  \n",
      "2690               %     NaN         NaN  \n",
      "2691               %     NaN         NaN  \n",
      "2692               %     NaN         NaN  \n",
      "2693               %     NaN         NaN  \n",
      "2694               %     NaN         NaN  \n",
      "...              ...     ...         ...  \n",
      "9039               %     NaN         NaN  \n",
      "9040               %     NaN         NaN  \n",
      "9041               %     NaN         NaN  \n",
      "9042               %     NaN         NaN  \n",
      "9043               %     NaN         NaN  \n",
      "\n",
      "[306 rows x 9 columns]\n",
      "        Kategoria      Kod               Nazwa           Zmienna   Rok  \\\n",
      "2708  Wyposażenie        0              POLSKA  samochód osobowy  2003   \n",
      "2709  Wyposażenie        0              POLSKA  samochód osobowy  2004   \n",
      "2710  Wyposażenie        0              POLSKA  samochód osobowy  2005   \n",
      "2711  Wyposażenie        0              POLSKA  samochód osobowy  2006   \n",
      "2712  Wyposażenie        0              POLSKA  samochód osobowy  2007   \n",
      "...           ...      ...                 ...               ...   ...   \n",
      "9057  Wyposażenie  3200000  ZACHODNIOPOMORSKIE  samochód osobowy  2016   \n",
      "9058  Wyposażenie  3200000  ZACHODNIOPOMORSKIE  samochód osobowy  2017   \n",
      "9059  Wyposażenie  3200000  ZACHODNIOPOMORSKIE  samochód osobowy  2018   \n",
      "9060  Wyposażenie  3200000  ZACHODNIOPOMORSKIE  samochód osobowy  2019   \n",
      "9061  Wyposażenie  3200000  ZACHODNIOPOMORSKIE  samochód osobowy  2020   \n",
      "\n",
      "     Wartosc Jednostka miary Atrybut  Unnamed: 8  \n",
      "2708    44,7               %     NaN         NaN  \n",
      "2709    46,0               %     NaN         NaN  \n",
      "2710    47,4               %     NaN         NaN  \n",
      "2711    49,5               %     NaN         NaN  \n",
      "2712    52,5               %     NaN         NaN  \n",
      "...      ...             ...     ...         ...  \n",
      "9057    54,0               %     NaN         NaN  \n",
      "9058    56,7               %     NaN         NaN  \n",
      "9059    61,4               %     NaN         NaN  \n",
      "9060    62,6               %     NaN         NaN  \n",
      "9061    53,3               %     NaN         NaN  \n",
      "\n",
      "[306 rows x 9 columns]\n",
      "        Kategoria      Kod               Nazwa                       Zmienna  \\\n",
      "2726  Wyposażenie        0              POLSKA  odtwarzacz płyt kompaktowych   \n",
      "2727  Wyposażenie        0              POLSKA  odtwarzacz płyt kompaktowych   \n",
      "2728  Wyposażenie        0              POLSKA  odtwarzacz płyt kompaktowych   \n",
      "2729  Wyposażenie        0              POLSKA  odtwarzacz płyt kompaktowych   \n",
      "2730  Wyposażenie        0              POLSKA  odtwarzacz płyt kompaktowych   \n",
      "...           ...      ...                 ...                           ...   \n",
      "9075  Wyposażenie  3200000  ZACHODNIOPOMORSKIE  odtwarzacz płyt kompaktowych   \n",
      "9076  Wyposażenie  3200000  ZACHODNIOPOMORSKIE  odtwarzacz płyt kompaktowych   \n",
      "9077  Wyposażenie  3200000  ZACHODNIOPOMORSKIE  odtwarzacz płyt kompaktowych   \n",
      "9078  Wyposażenie  3200000  ZACHODNIOPOMORSKIE  odtwarzacz płyt kompaktowych   \n",
      "9079  Wyposażenie  3200000  ZACHODNIOPOMORSKIE  odtwarzacz płyt kompaktowych   \n",
      "\n",
      "       Rok Wartosc Jednostka miary Atrybut  Unnamed: 8  \n",
      "2726  2003     NaN               %     NaN         NaN  \n",
      "2727  2004     NaN               %     NaN         NaN  \n",
      "2728  2005     NaN               %     NaN         NaN  \n",
      "2729  2006    12,4               %     NaN         NaN  \n",
      "2730  2007    13,9               %     NaN         NaN  \n",
      "...    ...     ...             ...     ...         ...  \n",
      "9075  2016     NaN               %     NaN         NaN  \n",
      "9076  2017     NaN               %     NaN         NaN  \n",
      "9077  2018     NaN               %     NaN         NaN  \n",
      "9078  2019     NaN               %     NaN         NaN  \n",
      "9079  2020     NaN               %     NaN         NaN  \n",
      "\n",
      "[306 rows x 9 columns]\n",
      "        Kategoria      Kod               Nazwa  \\\n",
      "2744  Wyposażenie        0              POLSKA   \n",
      "2745  Wyposażenie        0              POLSKA   \n",
      "2746  Wyposażenie        0              POLSKA   \n",
      "2747  Wyposażenie        0              POLSKA   \n",
      "2748  Wyposażenie        0              POLSKA   \n",
      "...           ...      ...                 ...   \n",
      "9093  Wyposażenie  3200000  ZACHODNIOPOMORSKIE   \n",
      "9094  Wyposażenie  3200000  ZACHODNIOPOMORSKIE   \n",
      "9095  Wyposażenie  3200000  ZACHODNIOPOMORSKIE   \n",
      "9096  Wyposażenie  3200000  ZACHODNIOPOMORSKIE   \n",
      "9097  Wyposażenie  3200000  ZACHODNIOPOMORSKIE   \n",
      "\n",
      "                                                Zmienna   Rok Wartosc  \\\n",
      "2744  zestaw do odbioru, rejestracji i odtwarzania d...  2003    41,7   \n",
      "2745  zestaw do odbioru, rejestracji i odtwarzania d...  2004    42,3   \n",
      "2746  zestaw do odbioru, rejestracji i odtwarzania d...  2005    43,8   \n",
      "2747  zestaw do odbioru, rejestracji i odtwarzania d...  2006    44,1   \n",
      "2748  zestaw do odbioru, rejestracji i odtwarzania d...  2007    44,9   \n",
      "...                                                 ...   ...     ...   \n",
      "9093  zestaw do odbioru, rejestracji i odtwarzania d...  2016     NaN   \n",
      "9094  zestaw do odbioru, rejestracji i odtwarzania d...  2017     NaN   \n",
      "9095  zestaw do odbioru, rejestracji i odtwarzania d...  2018     NaN   \n",
      "9096  zestaw do odbioru, rejestracji i odtwarzania d...  2019     NaN   \n",
      "9097  zestaw do odbioru, rejestracji i odtwarzania d...  2020     NaN   \n",
      "\n",
      "     Jednostka miary Atrybut  Unnamed: 8  \n",
      "2744               %     NaN         NaN  \n",
      "2745               %     NaN         NaN  \n",
      "2746               %     NaN         NaN  \n",
      "2747               %     NaN         NaN  \n",
      "2748               %     NaN         NaN  \n",
      "...              ...     ...         ...  \n",
      "9093               %     NaN         NaN  \n",
      "9094               %     NaN         NaN  \n",
      "9095               %     NaN         NaN  \n",
      "9096               %     NaN         NaN  \n",
      "9097               %     NaN         NaN  \n",
      "\n",
      "[306 rows x 9 columns]\n",
      "        Kategoria      Kod               Nazwa                Zmienna   Rok  \\\n",
      "2762  Wyposażenie        0              POLSKA  odbiornik telewizyjny  2003   \n",
      "2763  Wyposażenie        0              POLSKA  odbiornik telewizyjny  2004   \n",
      "2764  Wyposażenie        0              POLSKA  odbiornik telewizyjny  2005   \n",
      "2765  Wyposażenie        0              POLSKA  odbiornik telewizyjny  2006   \n",
      "2766  Wyposażenie        0              POLSKA  odbiornik telewizyjny  2007   \n",
      "...           ...      ...                 ...                    ...   ...   \n",
      "9111  Wyposażenie  3200000  ZACHODNIOPOMORSKIE  odbiornik telewizyjny  2016   \n",
      "9112  Wyposażenie  3200000  ZACHODNIOPOMORSKIE  odbiornik telewizyjny  2017   \n",
      "9113  Wyposażenie  3200000  ZACHODNIOPOMORSKIE  odbiornik telewizyjny  2018   \n",
      "9114  Wyposażenie  3200000  ZACHODNIOPOMORSKIE  odbiornik telewizyjny  2019   \n",
      "9115  Wyposażenie  3200000  ZACHODNIOPOMORSKIE  odbiornik telewizyjny  2020   \n",
      "\n",
      "     Wartosc Jednostka miary Atrybut  Unnamed: 8  \n",
      "2762    98,0               %     NaN         NaN  \n",
      "2763    97,6               %     NaN         NaN  \n",
      "2764    98,2               %     NaN         NaN  \n",
      "2765     NaN               %     NaN         NaN  \n",
      "2766     NaN               %     NaN         NaN  \n",
      "...      ...             ...     ...         ...  \n",
      "9111     NaN               %     NaN         NaN  \n",
      "9112     NaN               %     NaN         NaN  \n",
      "9113     NaN               %     NaN         NaN  \n",
      "9114     NaN               %     NaN         NaN  \n",
      "9115     NaN               %     NaN         NaN  \n",
      "\n",
      "[306 rows x 9 columns]\n",
      "        Kategoria      Kod               Nazwa               Zmienna   Rok  \\\n",
      "2780  Wyposażenie        0              POLSKA  zestaw kina domowego  2003   \n",
      "2781  Wyposażenie        0              POLSKA  zestaw kina domowego  2004   \n",
      "2782  Wyposażenie        0              POLSKA  zestaw kina domowego  2005   \n",
      "2783  Wyposażenie        0              POLSKA  zestaw kina domowego  2006   \n",
      "2784  Wyposażenie        0              POLSKA  zestaw kina domowego  2007   \n",
      "...           ...      ...                 ...                   ...   ...   \n",
      "9129  Wyposażenie  3200000  ZACHODNIOPOMORSKIE  zestaw kina domowego  2016   \n",
      "9130  Wyposażenie  3200000  ZACHODNIOPOMORSKIE  zestaw kina domowego  2017   \n",
      "9131  Wyposażenie  3200000  ZACHODNIOPOMORSKIE  zestaw kina domowego  2018   \n",
      "9132  Wyposażenie  3200000  ZACHODNIOPOMORSKIE  zestaw kina domowego  2019   \n",
      "9133  Wyposażenie  3200000  ZACHODNIOPOMORSKIE  zestaw kina domowego  2020   \n",
      "\n",
      "     Wartosc Jednostka miary Atrybut  Unnamed: 8  \n",
      "2780     NaN               %     NaN         NaN  \n",
      "2781     NaN               %     NaN         NaN  \n",
      "2782     NaN               %     NaN         NaN  \n",
      "2783     NaN               %     NaN         NaN  \n",
      "2784     NaN               %     NaN         NaN  \n",
      "...      ...             ...     ...         ...  \n",
      "9129    12,7               %     NaN         NaN  \n",
      "9130    12,5               %     NaN         NaN  \n",
      "9131    15,2               %     NaN         NaN  \n",
      "9132    24,9               %     NaN         NaN  \n",
      "9133    11,6               %     NaN         NaN  \n",
      "\n",
      "[306 rows x 9 columns]\n",
      "        Kategoria      Kod               Nazwa         Zmienna   Rok Wartosc  \\\n",
      "2798  Wyposażenie        0              POLSKA  odtwarzacz DVD  2003     NaN   \n",
      "2799  Wyposażenie        0              POLSKA  odtwarzacz DVD  2004     NaN   \n",
      "2800  Wyposażenie        0              POLSKA  odtwarzacz DVD  2005     NaN   \n",
      "2801  Wyposażenie        0              POLSKA  odtwarzacz DVD  2006    31,4   \n",
      "2802  Wyposażenie        0              POLSKA  odtwarzacz DVD  2007    40,6   \n",
      "...           ...      ...                 ...             ...   ...     ...   \n",
      "9147  Wyposażenie  3200000  ZACHODNIOPOMORSKIE  odtwarzacz DVD  2016    25,4   \n",
      "9148  Wyposażenie  3200000  ZACHODNIOPOMORSKIE  odtwarzacz DVD  2017     NaN   \n",
      "9149  Wyposażenie  3200000  ZACHODNIOPOMORSKIE  odtwarzacz DVD  2018     NaN   \n",
      "9150  Wyposażenie  3200000  ZACHODNIOPOMORSKIE  odtwarzacz DVD  2019     NaN   \n",
      "9151  Wyposażenie  3200000  ZACHODNIOPOMORSKIE  odtwarzacz DVD  2020     NaN   \n",
      "\n",
      "     Jednostka miary Atrybut  Unnamed: 8  \n",
      "2798               %     NaN         NaN  \n",
      "2799               %     NaN         NaN  \n",
      "2800               %     NaN         NaN  \n",
      "2801               %     NaN         NaN  \n",
      "2802               %     NaN         NaN  \n",
      "...              ...     ...         ...  \n",
      "9147               %     NaN         NaN  \n",
      "9148               %     NaN         NaN  \n",
      "9149               %     NaN         NaN  \n",
      "9150               %     NaN         NaN  \n",
      "9151               %     NaN         NaN  \n",
      "\n",
      "[306 rows x 9 columns]\n",
      "        Kategoria      Kod               Nazwa            Zmienna   Rok  \\\n",
      "2816  Wyposażenie        0              POLSKA  telefon komórkowy  2003   \n",
      "2817  Wyposażenie        0              POLSKA  telefon komórkowy  2004   \n",
      "2818  Wyposażenie        0              POLSKA  telefon komórkowy  2005   \n",
      "2819  Wyposażenie        0              POLSKA  telefon komórkowy  2006   \n",
      "2820  Wyposażenie        0              POLSKA  telefon komórkowy  2007   \n",
      "...           ...      ...                 ...                ...   ...   \n",
      "9165  Wyposażenie  3200000  ZACHODNIOPOMORSKIE  telefon komórkowy  2016   \n",
      "9166  Wyposażenie  3200000  ZACHODNIOPOMORSKIE  telefon komórkowy  2017   \n",
      "9167  Wyposażenie  3200000  ZACHODNIOPOMORSKIE  telefon komórkowy  2018   \n",
      "9168  Wyposażenie  3200000  ZACHODNIOPOMORSKIE  telefon komórkowy  2019   \n",
      "9169  Wyposażenie  3200000  ZACHODNIOPOMORSKIE  telefon komórkowy  2020   \n",
      "\n",
      "     Wartosc Jednostka miary Atrybut  Unnamed: 8  \n",
      "2816    44,4               %     NaN         NaN  \n",
      "2817    54,0               %     NaN         NaN  \n",
      "2818    65,2               %     NaN         NaN  \n",
      "2819    73,1               %     NaN         NaN  \n",
      "2820    79,3               %     NaN         NaN  \n",
      "...      ...             ...     ...         ...  \n",
      "9165    96,4               %     NaN         NaN  \n",
      "9166    96,4               %     NaN         NaN  \n",
      "9167    98,7               %     NaN         NaN  \n",
      "9168    97,9               %     NaN         NaN  \n",
      "9169    98,6               %     NaN         NaN  \n",
      "\n",
      "[306 rows x 9 columns]\n",
      "        Kategoria      Kod               Nazwa   Zmienna   Rok Wartosc  \\\n",
      "2834  Wyposażenie        0              POLSKA  smartfon  2003     NaN   \n",
      "2835  Wyposażenie        0              POLSKA  smartfon  2004     NaN   \n",
      "2836  Wyposażenie        0              POLSKA  smartfon  2005     NaN   \n",
      "2837  Wyposażenie        0              POLSKA  smartfon  2006     NaN   \n",
      "2838  Wyposażenie        0              POLSKA  smartfon  2007     NaN   \n",
      "...           ...      ...                 ...       ...   ...     ...   \n",
      "9183  Wyposażenie  3200000  ZACHODNIOPOMORSKIE  smartfon  2016    54,5   \n",
      "9184  Wyposażenie  3200000  ZACHODNIOPOMORSKIE  smartfon  2017    57,7   \n",
      "9185  Wyposażenie  3200000  ZACHODNIOPOMORSKIE  smartfon  2018    68,1   \n",
      "9186  Wyposażenie  3200000  ZACHODNIOPOMORSKIE  smartfon  2019    68,2   \n",
      "9187  Wyposażenie  3200000  ZACHODNIOPOMORSKIE  smartfon  2020    78,6   \n",
      "\n",
      "     Jednostka miary Atrybut  Unnamed: 8  \n",
      "2834               %     NaN         NaN  \n",
      "2835               %     NaN         NaN  \n",
      "2836               %     NaN         NaN  \n",
      "2837               %     NaN         NaN  \n",
      "2838               %     NaN         NaN  \n",
      "...              ...     ...         ...  \n",
      "9183               %     NaN         NaN  \n",
      "9184               %     NaN         NaN  \n",
      "9185               %     NaN         NaN  \n",
      "9186               %     NaN         NaN  \n",
      "9187               %     NaN         NaN  \n",
      "\n",
      "[306 rows x 9 columns]\n",
      "        Kategoria      Kod               Nazwa                 Zmienna   Rok  \\\n",
      "2852  Wyposażenie        0              POLSKA  magnetowid, odtwarzacz  2003   \n",
      "2853  Wyposażenie        0              POLSKA  magnetowid, odtwarzacz  2004   \n",
      "2854  Wyposażenie        0              POLSKA  magnetowid, odtwarzacz  2005   \n",
      "2855  Wyposażenie        0              POLSKA  magnetowid, odtwarzacz  2006   \n",
      "2856  Wyposażenie        0              POLSKA  magnetowid, odtwarzacz  2007   \n",
      "...           ...      ...                 ...                     ...   ...   \n",
      "9201  Wyposażenie  3200000  ZACHODNIOPOMORSKIE  magnetowid, odtwarzacz  2016   \n",
      "9202  Wyposażenie  3200000  ZACHODNIOPOMORSKIE  magnetowid, odtwarzacz  2017   \n",
      "9203  Wyposażenie  3200000  ZACHODNIOPOMORSKIE  magnetowid, odtwarzacz  2018   \n",
      "9204  Wyposażenie  3200000  ZACHODNIOPOMORSKIE  magnetowid, odtwarzacz  2019   \n",
      "9205  Wyposażenie  3200000  ZACHODNIOPOMORSKIE  magnetowid, odtwarzacz  2020   \n",
      "\n",
      "     Wartosc Jednostka miary Atrybut  Unnamed: 8  \n",
      "2852    50,0               %     NaN         NaN  \n",
      "2853    47,6               %     NaN         NaN  \n",
      "2854    46,7               %     NaN         NaN  \n",
      "2855     NaN               %     NaN         NaN  \n",
      "2856     NaN               %     NaN         NaN  \n",
      "...      ...             ...     ...         ...  \n",
      "9201     NaN               %     NaN         NaN  \n",
      "9202     NaN               %     NaN         NaN  \n",
      "9203     NaN               %     NaN         NaN  \n",
      "9204     NaN               %     NaN         NaN  \n",
      "9205     NaN               %     NaN         NaN  \n",
      "\n",
      "[306 rows x 9 columns]\n",
      "        Kategoria      Kod               Nazwa  \\\n",
      "2870  Wyposażenie        0              POLSKA   \n",
      "2871  Wyposażenie        0              POLSKA   \n",
      "2872  Wyposażenie        0              POLSKA   \n",
      "2873  Wyposażenie        0              POLSKA   \n",
      "2874  Wyposażenie        0              POLSKA   \n",
      "...           ...      ...                 ...   \n",
      "9219  Wyposażenie  3200000  ZACHODNIOPOMORSKIE   \n",
      "9220  Wyposażenie  3200000  ZACHODNIOPOMORSKIE   \n",
      "9221  Wyposażenie  3200000  ZACHODNIOPOMORSKIE   \n",
      "9222  Wyposażenie  3200000  ZACHODNIOPOMORSKIE   \n",
      "9223  Wyposażenie  3200000  ZACHODNIOPOMORSKIE   \n",
      "\n",
      "                                           Zmienna   Rok Wartosc  \\\n",
      "2870  urządzenie do odbioru telewizji satelitarnej  2003    48,8   \n",
      "2871  urządzenie do odbioru telewizji satelitarnej  2004    48,9   \n",
      "2872  urządzenie do odbioru telewizji satelitarnej  2005    48,2   \n",
      "2873  urządzenie do odbioru telewizji satelitarnej  2006     NaN   \n",
      "2874  urządzenie do odbioru telewizji satelitarnej  2007     NaN   \n",
      "...                                            ...   ...     ...   \n",
      "9219  urządzenie do odbioru telewizji satelitarnej  2016     NaN   \n",
      "9220  urządzenie do odbioru telewizji satelitarnej  2017     NaN   \n",
      "9221  urządzenie do odbioru telewizji satelitarnej  2018     NaN   \n",
      "9222  urządzenie do odbioru telewizji satelitarnej  2019     NaN   \n",
      "9223  urządzenie do odbioru telewizji satelitarnej  2020     NaN   \n",
      "\n",
      "     Jednostka miary Atrybut  Unnamed: 8  \n",
      "2870               %     NaN         NaN  \n",
      "2871               %     NaN         NaN  \n",
      "2872               %     NaN         NaN  \n",
      "2873               %     NaN         NaN  \n",
      "2874               %     NaN         NaN  \n",
      "...              ...     ...         ...  \n",
      "9219               %     NaN         NaN  \n",
      "9220               %     NaN         NaN  \n",
      "9221               %     NaN         NaN  \n",
      "9222               %     NaN         NaN  \n",
      "9223               %     NaN         NaN  \n",
      "\n",
      "[306 rows x 9 columns]\n",
      "        Kategoria      Kod               Nazwa  \\\n",
      "2888  Wyposażenie        0              POLSKA   \n",
      "2889  Wyposażenie        0              POLSKA   \n",
      "2890  Wyposażenie        0              POLSKA   \n",
      "2891  Wyposażenie        0              POLSKA   \n",
      "2892  Wyposażenie        0              POLSKA   \n",
      "...           ...      ...                 ...   \n",
      "9237  Wyposażenie  3200000  ZACHODNIOPOMORSKIE   \n",
      "9238  Wyposażenie  3200000  ZACHODNIOPOMORSKIE   \n",
      "9239  Wyposażenie  3200000  ZACHODNIOPOMORSKIE   \n",
      "9240  Wyposażenie  3200000  ZACHODNIOPOMORSKIE   \n",
      "9241  Wyposażenie  3200000  ZACHODNIOPOMORSKIE   \n",
      "\n",
      "                                                Zmienna   Rok Wartosc  \\\n",
      "2888  urządzenie do odbioru telewizji satelitarnej l...  2003     NaN   \n",
      "2889  urządzenie do odbioru telewizji satelitarnej l...  2004     NaN   \n",
      "2890  urządzenie do odbioru telewizji satelitarnej l...  2005     NaN   \n",
      "2891  urządzenie do odbioru telewizji satelitarnej l...  2006    48,9   \n",
      "2892  urządzenie do odbioru telewizji satelitarnej l...  2007    51,8   \n",
      "...                                                 ...   ...     ...   \n",
      "9237  urządzenie do odbioru telewizji satelitarnej l...  2016    70,0   \n",
      "9238  urządzenie do odbioru telewizji satelitarnej l...  2017    69,0   \n",
      "9239  urządzenie do odbioru telewizji satelitarnej l...  2018    72,7   \n",
      "9240  urządzenie do odbioru telewizji satelitarnej l...  2019    75,4   \n",
      "9241  urządzenie do odbioru telewizji satelitarnej l...  2020    75,8   \n",
      "\n",
      "     Jednostka miary Atrybut  Unnamed: 8  \n",
      "2888               %     NaN         NaN  \n",
      "2889               %     NaN         NaN  \n",
      "2890               %     NaN         NaN  \n",
      "2891               %     NaN         NaN  \n",
      "2892               %     NaN         NaN  \n",
      "...              ...     ...         ...  \n",
      "9237               %     NaN         NaN  \n",
      "9238               %     NaN         NaN  \n",
      "9239               %     NaN         NaN  \n",
      "9240               %     NaN         NaN  \n",
      "9241               %     NaN         NaN  \n",
      "\n",
      "[306 rows x 9 columns]\n",
      "        Kategoria      Kod               Nazwa                   Zmienna  \\\n",
      "2906  Wyposażenie        0              POLSKA  komputer osobisty ogółem   \n",
      "2907  Wyposażenie        0              POLSKA  komputer osobisty ogółem   \n",
      "2908  Wyposażenie        0              POLSKA  komputer osobisty ogółem   \n",
      "2909  Wyposażenie        0              POLSKA  komputer osobisty ogółem   \n",
      "2910  Wyposażenie        0              POLSKA  komputer osobisty ogółem   \n",
      "...           ...      ...                 ...                       ...   \n",
      "9255  Wyposażenie  3200000  ZACHODNIOPOMORSKIE  komputer osobisty ogółem   \n",
      "9256  Wyposażenie  3200000  ZACHODNIOPOMORSKIE  komputer osobisty ogółem   \n",
      "9257  Wyposażenie  3200000  ZACHODNIOPOMORSKIE  komputer osobisty ogółem   \n",
      "9258  Wyposażenie  3200000  ZACHODNIOPOMORSKIE  komputer osobisty ogółem   \n",
      "9259  Wyposażenie  3200000  ZACHODNIOPOMORSKIE  komputer osobisty ogółem   \n",
      "\n",
      "       Rok Wartosc Jednostka miary Atrybut  Unnamed: 8  \n",
      "2906  2003    26,7               %     NaN         NaN  \n",
      "2907  2004    32,9               %     NaN         NaN  \n",
      "2908  2005    38,6               %     NaN         NaN  \n",
      "2909  2006    43,7               %     NaN         NaN  \n",
      "2910  2007    50,1               %     NaN         NaN  \n",
      "...    ...     ...             ...     ...         ...  \n",
      "9255  2016    73,0               %     NaN         NaN  \n",
      "9256  2017    73,3               %     NaN         NaN  \n",
      "9257  2018    75,7               %     NaN         NaN  \n",
      "9258  2019    68,5               %     NaN         NaN  \n",
      "9259  2020    75,5               %     NaN         NaN  \n",
      "\n",
      "[306 rows x 9 columns]\n",
      "        Kategoria      Kod               Nazwa  \\\n",
      "2924  Wyposażenie        0              POLSKA   \n",
      "2925  Wyposażenie        0              POLSKA   \n",
      "2926  Wyposażenie        0              POLSKA   \n",
      "2927  Wyposażenie        0              POLSKA   \n",
      "2928  Wyposażenie        0              POLSKA   \n",
      "...           ...      ...                 ...   \n",
      "9273  Wyposażenie  3200000  ZACHODNIOPOMORSKIE   \n",
      "9274  Wyposażenie  3200000  ZACHODNIOPOMORSKIE   \n",
      "9275  Wyposażenie  3200000  ZACHODNIOPOMORSKIE   \n",
      "9276  Wyposażenie  3200000  ZACHODNIOPOMORSKIE   \n",
      "9277  Wyposażenie  3200000  ZACHODNIOPOMORSKIE   \n",
      "\n",
      "                                        Zmienna   Rok Wartosc Jednostka miary  \\\n",
      "2924  komputer osobisty z dostępem do Internetu  2003    12,8               %   \n",
      "2925  komputer osobisty z dostępem do Internetu  2004    16,9               %   \n",
      "2926  komputer osobisty z dostępem do Internetu  2005    22,5               %   \n",
      "2927  komputer osobisty z dostępem do Internetu  2006    28,4               %   \n",
      "2928  komputer osobisty z dostępem do Internetu  2007    36,6               %   \n",
      "...                                         ...   ...     ...             ...   \n",
      "9273  komputer osobisty z dostępem do Internetu  2016    71,5               %   \n",
      "9274  komputer osobisty z dostępem do Internetu  2017    72,1               %   \n",
      "9275  komputer osobisty z dostępem do Internetu  2018     NaN               %   \n",
      "9276  komputer osobisty z dostępem do Internetu  2019     NaN               %   \n",
      "9277  komputer osobisty z dostępem do Internetu  2020     NaN               %   \n",
      "\n",
      "     Atrybut  Unnamed: 8  \n",
      "2924     NaN         NaN  \n",
      "2925     NaN         NaN  \n",
      "2926     NaN         NaN  \n",
      "2927     NaN         NaN  \n",
      "2928     NaN         NaN  \n",
      "...      ...         ...  \n",
      "9273     NaN         NaN  \n",
      "9274     NaN         NaN  \n",
      "9275     NaN         NaN  \n",
      "9276     NaN         NaN  \n",
      "9277     NaN         NaN  \n",
      "\n",
      "[306 rows x 9 columns]\n",
      "        Kategoria      Kod               Nazwa  \\\n",
      "2942  Wyposażenie        0              POLSKA   \n",
      "2943  Wyposażenie        0              POLSKA   \n",
      "2944  Wyposażenie        0              POLSKA   \n",
      "2945  Wyposażenie        0              POLSKA   \n",
      "2946  Wyposażenie        0              POLSKA   \n",
      "...           ...      ...                 ...   \n",
      "9291  Wyposażenie  3200000  ZACHODNIOPOMORSKIE   \n",
      "9292  Wyposażenie  3200000  ZACHODNIOPOMORSKIE   \n",
      "9293  Wyposażenie  3200000  ZACHODNIOPOMORSKIE   \n",
      "9294  Wyposażenie  3200000  ZACHODNIOPOMORSKIE   \n",
      "9295  Wyposażenie  3200000  ZACHODNIOPOMORSKIE   \n",
      "\n",
      "                                                Zmienna   Rok Wartosc  \\\n",
      "2942  komputer osobisty z szerokopasmowym dostępem d...  2003     NaN   \n",
      "2943  komputer osobisty z szerokopasmowym dostępem d...  2004     NaN   \n",
      "2944  komputer osobisty z szerokopasmowym dostępem d...  2005     NaN   \n",
      "2945  komputer osobisty z szerokopasmowym dostępem d...  2006     NaN   \n",
      "2946  komputer osobisty z szerokopasmowym dostępem d...  2007     NaN   \n",
      "...                                                 ...   ...     ...   \n",
      "9291  komputer osobisty z szerokopasmowym dostępem d...  2016    58,1   \n",
      "9292  komputer osobisty z szerokopasmowym dostępem d...  2017    61,0   \n",
      "9293  komputer osobisty z szerokopasmowym dostępem d...  2018     NaN   \n",
      "9294  komputer osobisty z szerokopasmowym dostępem d...  2019     NaN   \n",
      "9295  komputer osobisty z szerokopasmowym dostępem d...  2020     NaN   \n",
      "\n",
      "     Jednostka miary Atrybut  Unnamed: 8  \n",
      "2942               %     NaN         NaN  \n",
      "2943               %     NaN         NaN  \n",
      "2944               %     NaN         NaN  \n",
      "2945               %     NaN         NaN  \n",
      "2946               %     NaN         NaN  \n",
      "...              ...     ...         ...  \n",
      "9291               %     NaN         NaN  \n",
      "9292               %     NaN         NaN  \n",
      "9293               %     NaN         NaN  \n",
      "9294               %     NaN         NaN  \n",
      "9295               %     NaN         NaN  \n",
      "\n",
      "[306 rows x 9 columns]\n",
      "        Kategoria      Kod               Nazwa  \\\n",
      "2960  Wyposażenie        0              POLSKA   \n",
      "2961  Wyposażenie        0              POLSKA   \n",
      "2962  Wyposażenie        0              POLSKA   \n",
      "2963  Wyposażenie        0              POLSKA   \n",
      "2964  Wyposażenie        0              POLSKA   \n",
      "...           ...      ...                 ...   \n",
      "9309  Wyposażenie  3200000  ZACHODNIOPOMORSKIE   \n",
      "9310  Wyposażenie  3200000  ZACHODNIOPOMORSKIE   \n",
      "9311  Wyposażenie  3200000  ZACHODNIOPOMORSKIE   \n",
      "9312  Wyposażenie  3200000  ZACHODNIOPOMORSKIE   \n",
      "9313  Wyposażenie  3200000  ZACHODNIOPOMORSKIE   \n",
      "\n",
      "                                 Zmienna   Rok Wartosc Jednostka miary  \\\n",
      "2960  urządzenie z dostępem do Internetu  2003     NaN               %   \n",
      "2961  urządzenie z dostępem do Internetu  2004     NaN               %   \n",
      "2962  urządzenie z dostępem do Internetu  2005     NaN               %   \n",
      "2963  urządzenie z dostępem do Internetu  2006     NaN               %   \n",
      "2964  urządzenie z dostępem do Internetu  2007     NaN               %   \n",
      "...                                  ...   ...     ...             ...   \n",
      "9309  urządzenie z dostępem do Internetu  2016     NaN               %   \n",
      "9310  urządzenie z dostępem do Internetu  2017     NaN               %   \n",
      "9311  urządzenie z dostępem do Internetu  2018    77,2               %   \n",
      "9312  urządzenie z dostępem do Internetu  2019    75,8               %   \n",
      "9313  urządzenie z dostępem do Internetu  2020    82,9               %   \n",
      "\n",
      "     Atrybut  Unnamed: 8  \n",
      "2960     NaN         NaN  \n",
      "2961     NaN         NaN  \n",
      "2962     NaN         NaN  \n",
      "2963     NaN         NaN  \n",
      "2964     NaN         NaN  \n",
      "...      ...         ...  \n",
      "9309     NaN         NaN  \n",
      "9310     NaN         NaN  \n",
      "9311     NaN         NaN  \n",
      "9312     NaN         NaN  \n",
      "9313     NaN         NaN  \n",
      "\n",
      "[306 rows x 9 columns]\n",
      "        Kategoria      Kod               Nazwa   Zmienna   Rok Wartosc  \\\n",
      "2978  Wyposażenie        0              POLSKA  drukarka  2003     NaN   \n",
      "2979  Wyposażenie        0              POLSKA  drukarka  2004     NaN   \n",
      "2980  Wyposażenie        0              POLSKA  drukarka  2005     NaN   \n",
      "2981  Wyposażenie        0              POLSKA  drukarka  2006    29,5   \n",
      "2982  Wyposażenie        0              POLSKA  drukarka  2007    33,6   \n",
      "...           ...      ...                 ...       ...   ...     ...   \n",
      "9327  Wyposażenie  3200000  ZACHODNIOPOMORSKIE  drukarka  2016    24,5   \n",
      "9328  Wyposażenie  3200000  ZACHODNIOPOMORSKIE  drukarka  2017    24,5   \n",
      "9329  Wyposażenie  3200000  ZACHODNIOPOMORSKIE  drukarka  2018    28,0   \n",
      "9330  Wyposażenie  3200000  ZACHODNIOPOMORSKIE  drukarka  2019    28,8   \n",
      "9331  Wyposażenie  3200000  ZACHODNIOPOMORSKIE  drukarka  2020    30,9   \n",
      "\n",
      "     Jednostka miary Atrybut  Unnamed: 8  \n",
      "2978               %     NaN         NaN  \n",
      "2979               %     NaN         NaN  \n",
      "2980               %     NaN         NaN  \n",
      "2981               %     NaN         NaN  \n",
      "2982               %     NaN         NaN  \n",
      "...              ...     ...         ...  \n",
      "9327               %     NaN         NaN  \n",
      "9328               %     NaN         NaN  \n",
      "9329               %     NaN         NaN  \n",
      "9330               %     NaN         NaN  \n",
      "9331               %     NaN         NaN  \n",
      "\n",
      "[306 rows x 9 columns]\n",
      "        Kategoria      Kod               Nazwa                  Zmienna   Rok  \\\n",
      "2996  Wyposażenie        0              POLSKA  drukarka wielofunkcyjna  2003   \n",
      "2997  Wyposażenie        0              POLSKA  drukarka wielofunkcyjna  2004   \n",
      "2998  Wyposażenie        0              POLSKA  drukarka wielofunkcyjna  2005   \n",
      "2999  Wyposażenie        0              POLSKA  drukarka wielofunkcyjna  2006   \n",
      "3000  Wyposażenie        0              POLSKA  drukarka wielofunkcyjna  2007   \n",
      "...           ...      ...                 ...                      ...   ...   \n",
      "9345  Wyposażenie  3200000  ZACHODNIOPOMORSKIE  drukarka wielofunkcyjna  2016   \n",
      "9346  Wyposażenie  3200000  ZACHODNIOPOMORSKIE  drukarka wielofunkcyjna  2017   \n",
      "9347  Wyposażenie  3200000  ZACHODNIOPOMORSKIE  drukarka wielofunkcyjna  2018   \n",
      "9348  Wyposażenie  3200000  ZACHODNIOPOMORSKIE  drukarka wielofunkcyjna  2019   \n",
      "9349  Wyposażenie  3200000  ZACHODNIOPOMORSKIE  drukarka wielofunkcyjna  2020   \n",
      "\n",
      "     Wartosc Jednostka miary Atrybut  Unnamed: 8  \n",
      "2996     NaN               %     NaN         NaN  \n",
      "2997     NaN               %     NaN         NaN  \n",
      "2998     NaN               %     NaN         NaN  \n",
      "2999     NaN               %     NaN         NaN  \n",
      "3000     NaN               %     NaN         NaN  \n",
      "...      ...             ...     ...         ...  \n",
      "9345    15,3               %     NaN         NaN  \n",
      "9346    15,9               %     NaN         NaN  \n",
      "9347    20,8               %     NaN         NaN  \n",
      "9348    20,8               %     NaN         NaN  \n",
      "9349    19,8               %     NaN         NaN  \n",
      "\n",
      "[306 rows x 9 columns]\n"
     ]
    }
   ],
   "source": [
    "for item in df_ludnosc[(df_ludnosc.Kategoria == \"Wyposażenie\")].Zmienna.unique():\n",
    "    print(df_ludnosc[df_ludnosc.Zmienna == item])"
   ]
  },
  {
   "cell_type": "code",
   "execution_count": 95,
   "metadata": {
    "pycharm": {
     "name": "#%%\n"
    }
   },
   "outputs": [],
   "source": [
    "df_ludnosc.Wartosc = df_ludnosc.Wartosc.str.replace(',', '.').astype(float)\n",
    "wartosc_std = {}\n",
    "for item in df_ludnosc[(df_ludnosc.Kategoria == \"Wyposażenie\")].Zmienna.unique():\n",
    "    df = df_ludnosc[(df_ludnosc.Kategoria == \"Wyposażenie\") & (df_ludnosc.Zmienna == item)]\n",
    "    df = df[df.Wartosc.notna()]\n",
    "    # print(df.Wartosc.std())\n",
    "    if len(df.Rok.astype('int32').unique()) > 7:\n",
    "        wartosc_std[item] = df\n",
    "    # fig = px.line(df,\n",
    "    #               x=\"Rok\", y=\"Wartosc\", color=\"Nazwa\", hover_name=\"Nazwa\",title=item,\n",
    "    #               line_shape=\"spline\", render_mode=\"svg\")\n",
    "    #\n",
    "    # fig.show()"
   ]
  },
  {
   "cell_type": "code",
   "execution_count": 96,
   "metadata": {
    "pycharm": {
     "name": "#%%\n"
    }
   },
   "outputs": [
    {
     "data": {
      "application/vnd.plotly.v1+json": {
       "data": [
        {
         "hovertemplate": "<b>%{hovertext}</b><br><br>Nazwa=POLSKA<br>Rok=%{x}<br>Wartosc=%{y}<extra></extra>",
         "hovertext": [
          "POLSKA",
          "POLSKA",
          "POLSKA",
          "POLSKA",
          "POLSKA",
          "POLSKA",
          "POLSKA",
          "POLSKA"
         ],
         "legendgroup": "POLSKA",
         "line": {
          "color": "#636efa",
          "dash": "solid",
          "shape": "spline"
         },
         "marker": {
          "symbol": "circle"
         },
         "mode": "lines",
         "name": "POLSKA",
         "orientation": "v",
         "showlegend": true,
         "x": [
          2013,
          2014,
          2015,
          2016,
          2017,
          2018,
          2019,
          2020
         ],
         "xaxis": "x",
         "y": [
          21.9,
          22.0,
          23.1,
          21.6,
          21.4,
          24.8,
          23.1,
          26.9
         ],
         "yaxis": "y",
         "type": "scatter"
        },
        {
         "hovertemplate": "<b>%{hovertext}</b><br><br>Nazwa=DOLNOŚLĄSKIE<br>Rok=%{x}<br>Wartosc=%{y}<extra></extra>",
         "hovertext": [
          "DOLNOŚLĄSKIE",
          "DOLNOŚLĄSKIE",
          "DOLNOŚLĄSKIE",
          "DOLNOŚLĄSKIE",
          "DOLNOŚLĄSKIE",
          "DOLNOŚLĄSKIE",
          "DOLNOŚLĄSKIE",
          "DOLNOŚLĄSKIE"
         ],
         "legendgroup": "DOLNOŚLĄSKIE",
         "line": {
          "color": "#EF553B",
          "dash": "solid",
          "shape": "spline"
         },
         "marker": {
          "symbol": "circle"
         },
         "mode": "lines",
         "name": "DOLNOŚLĄSKIE",
         "orientation": "v",
         "showlegend": true,
         "x": [
          2013,
          2014,
          2015,
          2016,
          2017,
          2018,
          2019,
          2020
         ],
         "xaxis": "x",
         "y": [
          21.5,
          21.1,
          23.8,
          21.1,
          19.7,
          20.6,
          23.0,
          28.1
         ],
         "yaxis": "y",
         "type": "scatter"
        },
        {
         "hovertemplate": "<b>%{hovertext}</b><br><br>Nazwa=KUJAWSKO-POMORSKIE<br>Rok=%{x}<br>Wartosc=%{y}<extra></extra>",
         "hovertext": [
          "KUJAWSKO-POMORSKIE",
          "KUJAWSKO-POMORSKIE",
          "KUJAWSKO-POMORSKIE",
          "KUJAWSKO-POMORSKIE",
          "KUJAWSKO-POMORSKIE",
          "KUJAWSKO-POMORSKIE",
          "KUJAWSKO-POMORSKIE",
          "KUJAWSKO-POMORSKIE"
         ],
         "legendgroup": "KUJAWSKO-POMORSKIE",
         "line": {
          "color": "#00cc96",
          "dash": "solid",
          "shape": "spline"
         },
         "marker": {
          "symbol": "circle"
         },
         "mode": "lines",
         "name": "KUJAWSKO-POMORSKIE",
         "orientation": "v",
         "showlegend": true,
         "x": [
          2013,
          2014,
          2015,
          2016,
          2017,
          2018,
          2019,
          2020
         ],
         "xaxis": "x",
         "y": [
          23.6,
          24.8,
          22.8,
          24.1,
          21.6,
          26.9,
          28.5,
          25.1
         ],
         "yaxis": "y",
         "type": "scatter"
        },
        {
         "hovertemplate": "<b>%{hovertext}</b><br><br>Nazwa=LUBELSKIE<br>Rok=%{x}<br>Wartosc=%{y}<extra></extra>",
         "hovertext": [
          "LUBELSKIE",
          "LUBELSKIE",
          "LUBELSKIE",
          "LUBELSKIE",
          "LUBELSKIE",
          "LUBELSKIE",
          "LUBELSKIE",
          "LUBELSKIE"
         ],
         "legendgroup": "LUBELSKIE",
         "line": {
          "color": "#ab63fa",
          "dash": "solid",
          "shape": "spline"
         },
         "marker": {
          "symbol": "circle"
         },
         "mode": "lines",
         "name": "LUBELSKIE",
         "orientation": "v",
         "showlegend": true,
         "x": [
          2013,
          2014,
          2015,
          2016,
          2017,
          2018,
          2019,
          2020
         ],
         "xaxis": "x",
         "y": [
          26.0,
          25.8,
          25.9,
          24.8,
          23.6,
          25.4,
          22.0,
          29.9
         ],
         "yaxis": "y",
         "type": "scatter"
        },
        {
         "hovertemplate": "<b>%{hovertext}</b><br><br>Nazwa=LUBUSKIE<br>Rok=%{x}<br>Wartosc=%{y}<extra></extra>",
         "hovertext": [
          "LUBUSKIE",
          "LUBUSKIE",
          "LUBUSKIE",
          "LUBUSKIE",
          "LUBUSKIE",
          "LUBUSKIE",
          "LUBUSKIE",
          "LUBUSKIE"
         ],
         "legendgroup": "LUBUSKIE",
         "line": {
          "color": "#FFA15A",
          "dash": "solid",
          "shape": "spline"
         },
         "marker": {
          "symbol": "circle"
         },
         "mode": "lines",
         "name": "LUBUSKIE",
         "orientation": "v",
         "showlegend": true,
         "x": [
          2013,
          2014,
          2015,
          2016,
          2017,
          2018,
          2019,
          2020
         ],
         "xaxis": "x",
         "y": [
          19.7,
          16.9,
          21.3,
          21.1,
          17.4,
          22.0,
          19.5,
          15.8
         ],
         "yaxis": "y",
         "type": "scatter"
        },
        {
         "hovertemplate": "<b>%{hovertext}</b><br><br>Nazwa=ŁÓDZKIE<br>Rok=%{x}<br>Wartosc=%{y}<extra></extra>",
         "hovertext": [
          "ŁÓDZKIE",
          "ŁÓDZKIE",
          "ŁÓDZKIE",
          "ŁÓDZKIE",
          "ŁÓDZKIE",
          "ŁÓDZKIE",
          "ŁÓDZKIE",
          "ŁÓDZKIE"
         ],
         "legendgroup": "ŁÓDZKIE",
         "line": {
          "color": "#19d3f3",
          "dash": "solid",
          "shape": "spline"
         },
         "marker": {
          "symbol": "circle"
         },
         "mode": "lines",
         "name": "ŁÓDZKIE",
         "orientation": "v",
         "showlegend": true,
         "x": [
          2013,
          2014,
          2015,
          2016,
          2017,
          2018,
          2019,
          2020
         ],
         "xaxis": "x",
         "y": [
          18.0,
          20.4,
          23.3,
          23.2,
          23.0,
          25.8,
          24.2,
          30.8
         ],
         "yaxis": "y",
         "type": "scatter"
        },
        {
         "hovertemplate": "<b>%{hovertext}</b><br><br>Nazwa=MAŁOPOLSKIE<br>Rok=%{x}<br>Wartosc=%{y}<extra></extra>",
         "hovertext": [
          "MAŁOPOLSKIE",
          "MAŁOPOLSKIE",
          "MAŁOPOLSKIE",
          "MAŁOPOLSKIE",
          "MAŁOPOLSKIE",
          "MAŁOPOLSKIE",
          "MAŁOPOLSKIE",
          "MAŁOPOLSKIE"
         ],
         "legendgroup": "MAŁOPOLSKIE",
         "line": {
          "color": "#FF6692",
          "dash": "solid",
          "shape": "spline"
         },
         "marker": {
          "symbol": "circle"
         },
         "mode": "lines",
         "name": "MAŁOPOLSKIE",
         "orientation": "v",
         "showlegend": true,
         "x": [
          2013,
          2014,
          2015,
          2016,
          2017,
          2018,
          2019,
          2020
         ],
         "xaxis": "x",
         "y": [
          19.6,
          21.4,
          20.9,
          18.9,
          17.7,
          24.6,
          18.7,
          24.4
         ],
         "yaxis": "y",
         "type": "scatter"
        },
        {
         "hovertemplate": "<b>%{hovertext}</b><br><br>Nazwa=MAZOWIECKIE<br>Rok=%{x}<br>Wartosc=%{y}<extra></extra>",
         "hovertext": [
          "MAZOWIECKIE",
          "MAZOWIECKIE",
          "MAZOWIECKIE",
          "MAZOWIECKIE",
          "MAZOWIECKIE",
          "MAZOWIECKIE",
          "MAZOWIECKIE",
          "MAZOWIECKIE"
         ],
         "legendgroup": "MAZOWIECKIE",
         "line": {
          "color": "#B6E880",
          "dash": "solid",
          "shape": "spline"
         },
         "marker": {
          "symbol": "circle"
         },
         "mode": "lines",
         "name": "MAZOWIECKIE",
         "orientation": "v",
         "showlegend": true,
         "x": [
          2013,
          2014,
          2015,
          2016,
          2017,
          2018,
          2019,
          2020
         ],
         "xaxis": "x",
         "y": [
          24.3,
          24.7,
          25.8,
          23.2,
          22.4,
          26.1,
          26.3,
          27.6
         ],
         "yaxis": "y",
         "type": "scatter"
        },
        {
         "hovertemplate": "<b>%{hovertext}</b><br><br>Nazwa=OPOLSKIE<br>Rok=%{x}<br>Wartosc=%{y}<extra></extra>",
         "hovertext": [
          "OPOLSKIE",
          "OPOLSKIE",
          "OPOLSKIE",
          "OPOLSKIE",
          "OPOLSKIE",
          "OPOLSKIE",
          "OPOLSKIE",
          "OPOLSKIE"
         ],
         "legendgroup": "OPOLSKIE",
         "line": {
          "color": "#FF97FF",
          "dash": "solid",
          "shape": "spline"
         },
         "marker": {
          "symbol": "circle"
         },
         "mode": "lines",
         "name": "OPOLSKIE",
         "orientation": "v",
         "showlegend": true,
         "x": [
          2013,
          2014,
          2015,
          2016,
          2017,
          2018,
          2019,
          2020
         ],
         "xaxis": "x",
         "y": [
          27.7,
          27.3,
          26.3,
          25.7,
          26.7,
          30.4,
          26.7,
          32.0
         ],
         "yaxis": "y",
         "type": "scatter"
        },
        {
         "hovertemplate": "<b>%{hovertext}</b><br><br>Nazwa=PODKARPACKIE<br>Rok=%{x}<br>Wartosc=%{y}<extra></extra>",
         "hovertext": [
          "PODKARPACKIE",
          "PODKARPACKIE",
          "PODKARPACKIE",
          "PODKARPACKIE",
          "PODKARPACKIE",
          "PODKARPACKIE",
          "PODKARPACKIE",
          "PODKARPACKIE"
         ],
         "legendgroup": "PODKARPACKIE",
         "line": {
          "color": "#FECB52",
          "dash": "solid",
          "shape": "spline"
         },
         "marker": {
          "symbol": "circle"
         },
         "mode": "lines",
         "name": "PODKARPACKIE",
         "orientation": "v",
         "showlegend": true,
         "x": [
          2013,
          2014,
          2015,
          2016,
          2017,
          2018,
          2019,
          2020
         ],
         "xaxis": "x",
         "y": [
          24.4,
          25.5,
          29.6,
          26.3,
          24.8,
          21.1,
          20.5,
          30.0
         ],
         "yaxis": "y",
         "type": "scatter"
        },
        {
         "hovertemplate": "<b>%{hovertext}</b><br><br>Nazwa=PODLASKIE<br>Rok=%{x}<br>Wartosc=%{y}<extra></extra>",
         "hovertext": [
          "PODLASKIE",
          "PODLASKIE",
          "PODLASKIE",
          "PODLASKIE",
          "PODLASKIE",
          "PODLASKIE",
          "PODLASKIE",
          "PODLASKIE"
         ],
         "legendgroup": "PODLASKIE",
         "line": {
          "color": "#636efa",
          "dash": "solid",
          "shape": "spline"
         },
         "marker": {
          "symbol": "circle"
         },
         "mode": "lines",
         "name": "PODLASKIE",
         "orientation": "v",
         "showlegend": true,
         "x": [
          2013,
          2014,
          2015,
          2016,
          2017,
          2018,
          2019,
          2020
         ],
         "xaxis": "x",
         "y": [
          15.9,
          16.8,
          22.3,
          18.5,
          19.3,
          24.5,
          21.0,
          24.1
         ],
         "yaxis": "y",
         "type": "scatter"
        },
        {
         "hovertemplate": "<b>%{hovertext}</b><br><br>Nazwa=POMORSKIE<br>Rok=%{x}<br>Wartosc=%{y}<extra></extra>",
         "hovertext": [
          "POMORSKIE",
          "POMORSKIE",
          "POMORSKIE",
          "POMORSKIE",
          "POMORSKIE",
          "POMORSKIE",
          "POMORSKIE",
          "POMORSKIE"
         ],
         "legendgroup": "POMORSKIE",
         "line": {
          "color": "#EF553B",
          "dash": "solid",
          "shape": "spline"
         },
         "marker": {
          "symbol": "circle"
         },
         "mode": "lines",
         "name": "POMORSKIE",
         "orientation": "v",
         "showlegend": true,
         "x": [
          2013,
          2014,
          2015,
          2016,
          2017,
          2018,
          2019,
          2020
         ],
         "xaxis": "x",
         "y": [
          23.2,
          21.0,
          19.9,
          22.9,
          22.6,
          28.6,
          25.0,
          28.8
         ],
         "yaxis": "y",
         "type": "scatter"
        },
        {
         "hovertemplate": "<b>%{hovertext}</b><br><br>Nazwa=ŚLĄSKIE<br>Rok=%{x}<br>Wartosc=%{y}<extra></extra>",
         "hovertext": [
          "ŚLĄSKIE",
          "ŚLĄSKIE",
          "ŚLĄSKIE",
          "ŚLĄSKIE",
          "ŚLĄSKIE",
          "ŚLĄSKIE",
          "ŚLĄSKIE",
          "ŚLĄSKIE"
         ],
         "legendgroup": "ŚLĄSKIE",
         "line": {
          "color": "#00cc96",
          "dash": "solid",
          "shape": "spline"
         },
         "marker": {
          "symbol": "circle"
         },
         "mode": "lines",
         "name": "ŚLĄSKIE",
         "orientation": "v",
         "showlegend": true,
         "x": [
          2013,
          2014,
          2015,
          2016,
          2017,
          2018,
          2019,
          2020
         ],
         "xaxis": "x",
         "y": [
          20.0,
          19.7,
          21.1,
          19.8,
          21.2,
          26.1,
          21.5,
          27.3
         ],
         "yaxis": "y",
         "type": "scatter"
        },
        {
         "hovertemplate": "<b>%{hovertext}</b><br><br>Nazwa=ŚWIĘTOKRZYSKIE<br>Rok=%{x}<br>Wartosc=%{y}<extra></extra>",
         "hovertext": [
          "ŚWIĘTOKRZYSKIE",
          "ŚWIĘTOKRZYSKIE",
          "ŚWIĘTOKRZYSKIE",
          "ŚWIĘTOKRZYSKIE",
          "ŚWIĘTOKRZYSKIE",
          "ŚWIĘTOKRZYSKIE",
          "ŚWIĘTOKRZYSKIE",
          "ŚWIĘTOKRZYSKIE"
         ],
         "legendgroup": "ŚWIĘTOKRZYSKIE",
         "line": {
          "color": "#ab63fa",
          "dash": "solid",
          "shape": "spline"
         },
         "marker": {
          "symbol": "circle"
         },
         "mode": "lines",
         "name": "ŚWIĘTOKRZYSKIE",
         "orientation": "v",
         "showlegend": true,
         "x": [
          2013,
          2014,
          2015,
          2016,
          2017,
          2018,
          2019,
          2020
         ],
         "xaxis": "x",
         "y": [
          18.0,
          20.8,
          18.8,
          16.8,
          21.3,
          20.8,
          18.8,
          24.8
         ],
         "yaxis": "y",
         "type": "scatter"
        },
        {
         "hovertemplate": "<b>%{hovertext}</b><br><br>Nazwa=WARMIŃSKO-MAZURSKIE<br>Rok=%{x}<br>Wartosc=%{y}<extra></extra>",
         "hovertext": [
          "WARMIŃSKO-MAZURSKIE",
          "WARMIŃSKO-MAZURSKIE",
          "WARMIŃSKO-MAZURSKIE",
          "WARMIŃSKO-MAZURSKIE",
          "WARMIŃSKO-MAZURSKIE",
          "WARMIŃSKO-MAZURSKIE",
          "WARMIŃSKO-MAZURSKIE",
          "WARMIŃSKO-MAZURSKIE"
         ],
         "legendgroup": "WARMIŃSKO-MAZURSKIE",
         "line": {
          "color": "#FFA15A",
          "dash": "solid",
          "shape": "spline"
         },
         "marker": {
          "symbol": "circle"
         },
         "mode": "lines",
         "name": "WARMIŃSKO-MAZURSKIE",
         "orientation": "v",
         "showlegend": true,
         "x": [
          2013,
          2014,
          2015,
          2016,
          2017,
          2018,
          2019,
          2020
         ],
         "xaxis": "x",
         "y": [
          16.4,
          16.2,
          15.0,
          16.3,
          17.2,
          20.9,
          17.2,
          20.8
         ],
         "yaxis": "y",
         "type": "scatter"
        },
        {
         "hovertemplate": "<b>%{hovertext}</b><br><br>Nazwa=WIELKOPOLSKIE<br>Rok=%{x}<br>Wartosc=%{y}<extra></extra>",
         "hovertext": [
          "WIELKOPOLSKIE",
          "WIELKOPOLSKIE",
          "WIELKOPOLSKIE",
          "WIELKOPOLSKIE",
          "WIELKOPOLSKIE",
          "WIELKOPOLSKIE",
          "WIELKOPOLSKIE",
          "WIELKOPOLSKIE"
         ],
         "legendgroup": "WIELKOPOLSKIE",
         "line": {
          "color": "#19d3f3",
          "dash": "solid",
          "shape": "spline"
         },
         "marker": {
          "symbol": "circle"
         },
         "mode": "lines",
         "name": "WIELKOPOLSKIE",
         "orientation": "v",
         "showlegend": true,
         "x": [
          2013,
          2014,
          2015,
          2016,
          2017,
          2018,
          2019,
          2020
         ],
         "xaxis": "x",
         "y": [
          26.9,
          25.7,
          25.8,
          22.9,
          24.3,
          26.1,
          27.0,
          29.3
         ],
         "yaxis": "y",
         "type": "scatter"
        },
        {
         "hovertemplate": "<b>%{hovertext}</b><br><br>Nazwa=ZACHODNIOPOMORSKIE<br>Rok=%{x}<br>Wartosc=%{y}<extra></extra>",
         "hovertext": [
          "ZACHODNIOPOMORSKIE",
          "ZACHODNIOPOMORSKIE",
          "ZACHODNIOPOMORSKIE",
          "ZACHODNIOPOMORSKIE",
          "ZACHODNIOPOMORSKIE",
          "ZACHODNIOPOMORSKIE",
          "ZACHODNIOPOMORSKIE",
          "ZACHODNIOPOMORSKIE"
         ],
         "legendgroup": "ZACHODNIOPOMORSKIE",
         "line": {
          "color": "#FF6692",
          "dash": "solid",
          "shape": "spline"
         },
         "marker": {
          "symbol": "circle"
         },
         "mode": "lines",
         "name": "ZACHODNIOPOMORSKIE",
         "orientation": "v",
         "showlegend": true,
         "x": [
          2013,
          2014,
          2015,
          2016,
          2017,
          2018,
          2019,
          2020
         ],
         "xaxis": "x",
         "y": [
          18.2,
          15.5,
          19.8,
          15.3,
          15.9,
          20.8,
          20.8,
          19.8
         ],
         "yaxis": "y",
         "type": "scatter"
        }
       ],
       "layout": {
        "template": {
         "data": {
          "bar": [
           {
            "error_x": {
             "color": "#2a3f5f"
            },
            "error_y": {
             "color": "#2a3f5f"
            },
            "marker": {
             "line": {
              "color": "#E5ECF6",
              "width": 0.5
             },
             "pattern": {
              "fillmode": "overlay",
              "size": 10,
              "solidity": 0.2
             }
            },
            "type": "bar"
           }
          ],
          "barpolar": [
           {
            "marker": {
             "line": {
              "color": "#E5ECF6",
              "width": 0.5
             },
             "pattern": {
              "fillmode": "overlay",
              "size": 10,
              "solidity": 0.2
             }
            },
            "type": "barpolar"
           }
          ],
          "carpet": [
           {
            "aaxis": {
             "endlinecolor": "#2a3f5f",
             "gridcolor": "white",
             "linecolor": "white",
             "minorgridcolor": "white",
             "startlinecolor": "#2a3f5f"
            },
            "baxis": {
             "endlinecolor": "#2a3f5f",
             "gridcolor": "white",
             "linecolor": "white",
             "minorgridcolor": "white",
             "startlinecolor": "#2a3f5f"
            },
            "type": "carpet"
           }
          ],
          "choropleth": [
           {
            "colorbar": {
             "outlinewidth": 0,
             "ticks": ""
            },
            "type": "choropleth"
           }
          ],
          "contour": [
           {
            "colorbar": {
             "outlinewidth": 0,
             "ticks": ""
            },
            "colorscale": [
             [
              0.0,
              "#0d0887"
             ],
             [
              0.1111111111111111,
              "#46039f"
             ],
             [
              0.2222222222222222,
              "#7201a8"
             ],
             [
              0.3333333333333333,
              "#9c179e"
             ],
             [
              0.4444444444444444,
              "#bd3786"
             ],
             [
              0.5555555555555556,
              "#d8576b"
             ],
             [
              0.6666666666666666,
              "#ed7953"
             ],
             [
              0.7777777777777778,
              "#fb9f3a"
             ],
             [
              0.8888888888888888,
              "#fdca26"
             ],
             [
              1.0,
              "#f0f921"
             ]
            ],
            "type": "contour"
           }
          ],
          "contourcarpet": [
           {
            "colorbar": {
             "outlinewidth": 0,
             "ticks": ""
            },
            "type": "contourcarpet"
           }
          ],
          "heatmap": [
           {
            "colorbar": {
             "outlinewidth": 0,
             "ticks": ""
            },
            "colorscale": [
             [
              0.0,
              "#0d0887"
             ],
             [
              0.1111111111111111,
              "#46039f"
             ],
             [
              0.2222222222222222,
              "#7201a8"
             ],
             [
              0.3333333333333333,
              "#9c179e"
             ],
             [
              0.4444444444444444,
              "#bd3786"
             ],
             [
              0.5555555555555556,
              "#d8576b"
             ],
             [
              0.6666666666666666,
              "#ed7953"
             ],
             [
              0.7777777777777778,
              "#fb9f3a"
             ],
             [
              0.8888888888888888,
              "#fdca26"
             ],
             [
              1.0,
              "#f0f921"
             ]
            ],
            "type": "heatmap"
           }
          ],
          "heatmapgl": [
           {
            "colorbar": {
             "outlinewidth": 0,
             "ticks": ""
            },
            "colorscale": [
             [
              0.0,
              "#0d0887"
             ],
             [
              0.1111111111111111,
              "#46039f"
             ],
             [
              0.2222222222222222,
              "#7201a8"
             ],
             [
              0.3333333333333333,
              "#9c179e"
             ],
             [
              0.4444444444444444,
              "#bd3786"
             ],
             [
              0.5555555555555556,
              "#d8576b"
             ],
             [
              0.6666666666666666,
              "#ed7953"
             ],
             [
              0.7777777777777778,
              "#fb9f3a"
             ],
             [
              0.8888888888888888,
              "#fdca26"
             ],
             [
              1.0,
              "#f0f921"
             ]
            ],
            "type": "heatmapgl"
           }
          ],
          "histogram": [
           {
            "marker": {
             "pattern": {
              "fillmode": "overlay",
              "size": 10,
              "solidity": 0.2
             }
            },
            "type": "histogram"
           }
          ],
          "histogram2d": [
           {
            "colorbar": {
             "outlinewidth": 0,
             "ticks": ""
            },
            "colorscale": [
             [
              0.0,
              "#0d0887"
             ],
             [
              0.1111111111111111,
              "#46039f"
             ],
             [
              0.2222222222222222,
              "#7201a8"
             ],
             [
              0.3333333333333333,
              "#9c179e"
             ],
             [
              0.4444444444444444,
              "#bd3786"
             ],
             [
              0.5555555555555556,
              "#d8576b"
             ],
             [
              0.6666666666666666,
              "#ed7953"
             ],
             [
              0.7777777777777778,
              "#fb9f3a"
             ],
             [
              0.8888888888888888,
              "#fdca26"
             ],
             [
              1.0,
              "#f0f921"
             ]
            ],
            "type": "histogram2d"
           }
          ],
          "histogram2dcontour": [
           {
            "colorbar": {
             "outlinewidth": 0,
             "ticks": ""
            },
            "colorscale": [
             [
              0.0,
              "#0d0887"
             ],
             [
              0.1111111111111111,
              "#46039f"
             ],
             [
              0.2222222222222222,
              "#7201a8"
             ],
             [
              0.3333333333333333,
              "#9c179e"
             ],
             [
              0.4444444444444444,
              "#bd3786"
             ],
             [
              0.5555555555555556,
              "#d8576b"
             ],
             [
              0.6666666666666666,
              "#ed7953"
             ],
             [
              0.7777777777777778,
              "#fb9f3a"
             ],
             [
              0.8888888888888888,
              "#fdca26"
             ],
             [
              1.0,
              "#f0f921"
             ]
            ],
            "type": "histogram2dcontour"
           }
          ],
          "mesh3d": [
           {
            "colorbar": {
             "outlinewidth": 0,
             "ticks": ""
            },
            "type": "mesh3d"
           }
          ],
          "parcoords": [
           {
            "line": {
             "colorbar": {
              "outlinewidth": 0,
              "ticks": ""
             }
            },
            "type": "parcoords"
           }
          ],
          "pie": [
           {
            "automargin": true,
            "type": "pie"
           }
          ],
          "scatter": [
           {
            "marker": {
             "colorbar": {
              "outlinewidth": 0,
              "ticks": ""
             }
            },
            "type": "scatter"
           }
          ],
          "scatter3d": [
           {
            "line": {
             "colorbar": {
              "outlinewidth": 0,
              "ticks": ""
             }
            },
            "marker": {
             "colorbar": {
              "outlinewidth": 0,
              "ticks": ""
             }
            },
            "type": "scatter3d"
           }
          ],
          "scattercarpet": [
           {
            "marker": {
             "colorbar": {
              "outlinewidth": 0,
              "ticks": ""
             }
            },
            "type": "scattercarpet"
           }
          ],
          "scattergeo": [
           {
            "marker": {
             "colorbar": {
              "outlinewidth": 0,
              "ticks": ""
             }
            },
            "type": "scattergeo"
           }
          ],
          "scattergl": [
           {
            "marker": {
             "colorbar": {
              "outlinewidth": 0,
              "ticks": ""
             }
            },
            "type": "scattergl"
           }
          ],
          "scattermapbox": [
           {
            "marker": {
             "colorbar": {
              "outlinewidth": 0,
              "ticks": ""
             }
            },
            "type": "scattermapbox"
           }
          ],
          "scatterpolar": [
           {
            "marker": {
             "colorbar": {
              "outlinewidth": 0,
              "ticks": ""
             }
            },
            "type": "scatterpolar"
           }
          ],
          "scatterpolargl": [
           {
            "marker": {
             "colorbar": {
              "outlinewidth": 0,
              "ticks": ""
             }
            },
            "type": "scatterpolargl"
           }
          ],
          "scatterternary": [
           {
            "marker": {
             "colorbar": {
              "outlinewidth": 0,
              "ticks": ""
             }
            },
            "type": "scatterternary"
           }
          ],
          "surface": [
           {
            "colorbar": {
             "outlinewidth": 0,
             "ticks": ""
            },
            "colorscale": [
             [
              0.0,
              "#0d0887"
             ],
             [
              0.1111111111111111,
              "#46039f"
             ],
             [
              0.2222222222222222,
              "#7201a8"
             ],
             [
              0.3333333333333333,
              "#9c179e"
             ],
             [
              0.4444444444444444,
              "#bd3786"
             ],
             [
              0.5555555555555556,
              "#d8576b"
             ],
             [
              0.6666666666666666,
              "#ed7953"
             ],
             [
              0.7777777777777778,
              "#fb9f3a"
             ],
             [
              0.8888888888888888,
              "#fdca26"
             ],
             [
              1.0,
              "#f0f921"
             ]
            ],
            "type": "surface"
           }
          ],
          "table": [
           {
            "cells": {
             "fill": {
              "color": "#EBF0F8"
             },
             "line": {
              "color": "white"
             }
            },
            "header": {
             "fill": {
              "color": "#C8D4E3"
             },
             "line": {
              "color": "white"
             }
            },
            "type": "table"
           }
          ]
         },
         "layout": {
          "annotationdefaults": {
           "arrowcolor": "#2a3f5f",
           "arrowhead": 0,
           "arrowwidth": 1
          },
          "autotypenumbers": "strict",
          "coloraxis": {
           "colorbar": {
            "outlinewidth": 0,
            "ticks": ""
           }
          },
          "colorscale": {
           "diverging": [
            [
             0,
             "#8e0152"
            ],
            [
             0.1,
             "#c51b7d"
            ],
            [
             0.2,
             "#de77ae"
            ],
            [
             0.3,
             "#f1b6da"
            ],
            [
             0.4,
             "#fde0ef"
            ],
            [
             0.5,
             "#f7f7f7"
            ],
            [
             0.6,
             "#e6f5d0"
            ],
            [
             0.7,
             "#b8e186"
            ],
            [
             0.8,
             "#7fbc41"
            ],
            [
             0.9,
             "#4d9221"
            ],
            [
             1,
             "#276419"
            ]
           ],
           "sequential": [
            [
             0.0,
             "#0d0887"
            ],
            [
             0.1111111111111111,
             "#46039f"
            ],
            [
             0.2222222222222222,
             "#7201a8"
            ],
            [
             0.3333333333333333,
             "#9c179e"
            ],
            [
             0.4444444444444444,
             "#bd3786"
            ],
            [
             0.5555555555555556,
             "#d8576b"
            ],
            [
             0.6666666666666666,
             "#ed7953"
            ],
            [
             0.7777777777777778,
             "#fb9f3a"
            ],
            [
             0.8888888888888888,
             "#fdca26"
            ],
            [
             1.0,
             "#f0f921"
            ]
           ],
           "sequentialminus": [
            [
             0.0,
             "#0d0887"
            ],
            [
             0.1111111111111111,
             "#46039f"
            ],
            [
             0.2222222222222222,
             "#7201a8"
            ],
            [
             0.3333333333333333,
             "#9c179e"
            ],
            [
             0.4444444444444444,
             "#bd3786"
            ],
            [
             0.5555555555555556,
             "#d8576b"
            ],
            [
             0.6666666666666666,
             "#ed7953"
            ],
            [
             0.7777777777777778,
             "#fb9f3a"
            ],
            [
             0.8888888888888888,
             "#fdca26"
            ],
            [
             1.0,
             "#f0f921"
            ]
           ]
          },
          "colorway": [
           "#636efa",
           "#EF553B",
           "#00cc96",
           "#ab63fa",
           "#FFA15A",
           "#19d3f3",
           "#FF6692",
           "#B6E880",
           "#FF97FF",
           "#FECB52"
          ],
          "font": {
           "color": "#2a3f5f"
          },
          "geo": {
           "bgcolor": "white",
           "lakecolor": "white",
           "landcolor": "#E5ECF6",
           "showlakes": true,
           "showland": true,
           "subunitcolor": "white"
          },
          "hoverlabel": {
           "align": "left"
          },
          "hovermode": "closest",
          "mapbox": {
           "style": "light"
          },
          "paper_bgcolor": "white",
          "plot_bgcolor": "#E5ECF6",
          "polar": {
           "angularaxis": {
            "gridcolor": "white",
            "linecolor": "white",
            "ticks": ""
           },
           "bgcolor": "#E5ECF6",
           "radialaxis": {
            "gridcolor": "white",
            "linecolor": "white",
            "ticks": ""
           }
          },
          "scene": {
           "xaxis": {
            "backgroundcolor": "#E5ECF6",
            "gridcolor": "white",
            "gridwidth": 2,
            "linecolor": "white",
            "showbackground": true,
            "ticks": "",
            "zerolinecolor": "white"
           },
           "yaxis": {
            "backgroundcolor": "#E5ECF6",
            "gridcolor": "white",
            "gridwidth": 2,
            "linecolor": "white",
            "showbackground": true,
            "ticks": "",
            "zerolinecolor": "white"
           },
           "zaxis": {
            "backgroundcolor": "#E5ECF6",
            "gridcolor": "white",
            "gridwidth": 2,
            "linecolor": "white",
            "showbackground": true,
            "ticks": "",
            "zerolinecolor": "white"
           }
          },
          "shapedefaults": {
           "line": {
            "color": "#2a3f5f"
           }
          },
          "ternary": {
           "aaxis": {
            "gridcolor": "white",
            "linecolor": "white",
            "ticks": ""
           },
           "baxis": {
            "gridcolor": "white",
            "linecolor": "white",
            "ticks": ""
           },
           "bgcolor": "#E5ECF6",
           "caxis": {
            "gridcolor": "white",
            "linecolor": "white",
            "ticks": ""
           }
          },
          "title": {
           "x": 0.05
          },
          "xaxis": {
           "automargin": true,
           "gridcolor": "white",
           "linecolor": "white",
           "ticks": "",
           "title": {
            "standoff": 15
           },
           "zerolinecolor": "white",
           "zerolinewidth": 2
          },
          "yaxis": {
           "automargin": true,
           "gridcolor": "white",
           "linecolor": "white",
           "ticks": "",
           "title": {
            "standoff": 15
           },
           "zerolinecolor": "white",
           "zerolinewidth": 2
          }
         }
        },
        "xaxis": {
         "anchor": "y",
         "domain": [
          0.0,
          1.0
         ],
         "title": {
          "text": "Rok"
         }
        },
        "yaxis": {
         "anchor": "x",
         "domain": [
          0.0,
          1.0
         ],
         "title": {
          "text": "Wartosc"
         }
        },
        "legend": {
         "title": {
          "text": "Nazwa"
         },
         "tracegroupgap": 0
        },
        "title": {
         "text": "Good with lowest variance: drukarka wielofunkcyjna"
        }
       },
       "config": {
        "plotlyServerURL": "https://plot.ly"
       }
      },
      "text/html": "<div>                            <div id=\"6b3793d4-1863-469a-bbda-45c9b5f2084a\" class=\"plotly-graph-div\" style=\"height:525px; width:100%;\"></div>            <script type=\"text/javascript\">                require([\"plotly\"], function(Plotly) {                    window.PLOTLYENV=window.PLOTLYENV || {};                                    if (document.getElementById(\"6b3793d4-1863-469a-bbda-45c9b5f2084a\")) {                    Plotly.newPlot(                        \"6b3793d4-1863-469a-bbda-45c9b5f2084a\",                        [{\"hovertemplate\":\"<b>%{hovertext}</b><br><br>Nazwa=POLSKA<br>Rok=%{x}<br>Wartosc=%{y}<extra></extra>\",\"hovertext\":[\"POLSKA\",\"POLSKA\",\"POLSKA\",\"POLSKA\",\"POLSKA\",\"POLSKA\",\"POLSKA\",\"POLSKA\"],\"legendgroup\":\"POLSKA\",\"line\":{\"color\":\"#636efa\",\"dash\":\"solid\",\"shape\":\"spline\"},\"marker\":{\"symbol\":\"circle\"},\"mode\":\"lines\",\"name\":\"POLSKA\",\"orientation\":\"v\",\"showlegend\":true,\"x\":[2013,2014,2015,2016,2017,2018,2019,2020],\"xaxis\":\"x\",\"y\":[21.9,22.0,23.1,21.6,21.4,24.8,23.1,26.9],\"yaxis\":\"y\",\"type\":\"scatter\"},{\"hovertemplate\":\"<b>%{hovertext}</b><br><br>Nazwa=DOLNO\\u015aL\\u0104SKIE<br>Rok=%{x}<br>Wartosc=%{y}<extra></extra>\",\"hovertext\":[\"DOLNO\\u015aL\\u0104SKIE\",\"DOLNO\\u015aL\\u0104SKIE\",\"DOLNO\\u015aL\\u0104SKIE\",\"DOLNO\\u015aL\\u0104SKIE\",\"DOLNO\\u015aL\\u0104SKIE\",\"DOLNO\\u015aL\\u0104SKIE\",\"DOLNO\\u015aL\\u0104SKIE\",\"DOLNO\\u015aL\\u0104SKIE\"],\"legendgroup\":\"DOLNO\\u015aL\\u0104SKIE\",\"line\":{\"color\":\"#EF553B\",\"dash\":\"solid\",\"shape\":\"spline\"},\"marker\":{\"symbol\":\"circle\"},\"mode\":\"lines\",\"name\":\"DOLNO\\u015aL\\u0104SKIE\",\"orientation\":\"v\",\"showlegend\":true,\"x\":[2013,2014,2015,2016,2017,2018,2019,2020],\"xaxis\":\"x\",\"y\":[21.5,21.1,23.8,21.1,19.7,20.6,23.0,28.1],\"yaxis\":\"y\",\"type\":\"scatter\"},{\"hovertemplate\":\"<b>%{hovertext}</b><br><br>Nazwa=KUJAWSKO-POMORSKIE<br>Rok=%{x}<br>Wartosc=%{y}<extra></extra>\",\"hovertext\":[\"KUJAWSKO-POMORSKIE\",\"KUJAWSKO-POMORSKIE\",\"KUJAWSKO-POMORSKIE\",\"KUJAWSKO-POMORSKIE\",\"KUJAWSKO-POMORSKIE\",\"KUJAWSKO-POMORSKIE\",\"KUJAWSKO-POMORSKIE\",\"KUJAWSKO-POMORSKIE\"],\"legendgroup\":\"KUJAWSKO-POMORSKIE\",\"line\":{\"color\":\"#00cc96\",\"dash\":\"solid\",\"shape\":\"spline\"},\"marker\":{\"symbol\":\"circle\"},\"mode\":\"lines\",\"name\":\"KUJAWSKO-POMORSKIE\",\"orientation\":\"v\",\"showlegend\":true,\"x\":[2013,2014,2015,2016,2017,2018,2019,2020],\"xaxis\":\"x\",\"y\":[23.6,24.8,22.8,24.1,21.6,26.9,28.5,25.1],\"yaxis\":\"y\",\"type\":\"scatter\"},{\"hovertemplate\":\"<b>%{hovertext}</b><br><br>Nazwa=LUBELSKIE<br>Rok=%{x}<br>Wartosc=%{y}<extra></extra>\",\"hovertext\":[\"LUBELSKIE\",\"LUBELSKIE\",\"LUBELSKIE\",\"LUBELSKIE\",\"LUBELSKIE\",\"LUBELSKIE\",\"LUBELSKIE\",\"LUBELSKIE\"],\"legendgroup\":\"LUBELSKIE\",\"line\":{\"color\":\"#ab63fa\",\"dash\":\"solid\",\"shape\":\"spline\"},\"marker\":{\"symbol\":\"circle\"},\"mode\":\"lines\",\"name\":\"LUBELSKIE\",\"orientation\":\"v\",\"showlegend\":true,\"x\":[2013,2014,2015,2016,2017,2018,2019,2020],\"xaxis\":\"x\",\"y\":[26.0,25.8,25.9,24.8,23.6,25.4,22.0,29.9],\"yaxis\":\"y\",\"type\":\"scatter\"},{\"hovertemplate\":\"<b>%{hovertext}</b><br><br>Nazwa=LUBUSKIE<br>Rok=%{x}<br>Wartosc=%{y}<extra></extra>\",\"hovertext\":[\"LUBUSKIE\",\"LUBUSKIE\",\"LUBUSKIE\",\"LUBUSKIE\",\"LUBUSKIE\",\"LUBUSKIE\",\"LUBUSKIE\",\"LUBUSKIE\"],\"legendgroup\":\"LUBUSKIE\",\"line\":{\"color\":\"#FFA15A\",\"dash\":\"solid\",\"shape\":\"spline\"},\"marker\":{\"symbol\":\"circle\"},\"mode\":\"lines\",\"name\":\"LUBUSKIE\",\"orientation\":\"v\",\"showlegend\":true,\"x\":[2013,2014,2015,2016,2017,2018,2019,2020],\"xaxis\":\"x\",\"y\":[19.7,16.9,21.3,21.1,17.4,22.0,19.5,15.8],\"yaxis\":\"y\",\"type\":\"scatter\"},{\"hovertemplate\":\"<b>%{hovertext}</b><br><br>Nazwa=\\u0141\\u00d3DZKIE<br>Rok=%{x}<br>Wartosc=%{y}<extra></extra>\",\"hovertext\":[\"\\u0141\\u00d3DZKIE\",\"\\u0141\\u00d3DZKIE\",\"\\u0141\\u00d3DZKIE\",\"\\u0141\\u00d3DZKIE\",\"\\u0141\\u00d3DZKIE\",\"\\u0141\\u00d3DZKIE\",\"\\u0141\\u00d3DZKIE\",\"\\u0141\\u00d3DZKIE\"],\"legendgroup\":\"\\u0141\\u00d3DZKIE\",\"line\":{\"color\":\"#19d3f3\",\"dash\":\"solid\",\"shape\":\"spline\"},\"marker\":{\"symbol\":\"circle\"},\"mode\":\"lines\",\"name\":\"\\u0141\\u00d3DZKIE\",\"orientation\":\"v\",\"showlegend\":true,\"x\":[2013,2014,2015,2016,2017,2018,2019,2020],\"xaxis\":\"x\",\"y\":[18.0,20.4,23.3,23.2,23.0,25.8,24.2,30.8],\"yaxis\":\"y\",\"type\":\"scatter\"},{\"hovertemplate\":\"<b>%{hovertext}</b><br><br>Nazwa=MA\\u0141OPOLSKIE<br>Rok=%{x}<br>Wartosc=%{y}<extra></extra>\",\"hovertext\":[\"MA\\u0141OPOLSKIE\",\"MA\\u0141OPOLSKIE\",\"MA\\u0141OPOLSKIE\",\"MA\\u0141OPOLSKIE\",\"MA\\u0141OPOLSKIE\",\"MA\\u0141OPOLSKIE\",\"MA\\u0141OPOLSKIE\",\"MA\\u0141OPOLSKIE\"],\"legendgroup\":\"MA\\u0141OPOLSKIE\",\"line\":{\"color\":\"#FF6692\",\"dash\":\"solid\",\"shape\":\"spline\"},\"marker\":{\"symbol\":\"circle\"},\"mode\":\"lines\",\"name\":\"MA\\u0141OPOLSKIE\",\"orientation\":\"v\",\"showlegend\":true,\"x\":[2013,2014,2015,2016,2017,2018,2019,2020],\"xaxis\":\"x\",\"y\":[19.6,21.4,20.9,18.9,17.7,24.6,18.7,24.4],\"yaxis\":\"y\",\"type\":\"scatter\"},{\"hovertemplate\":\"<b>%{hovertext}</b><br><br>Nazwa=MAZOWIECKIE<br>Rok=%{x}<br>Wartosc=%{y}<extra></extra>\",\"hovertext\":[\"MAZOWIECKIE\",\"MAZOWIECKIE\",\"MAZOWIECKIE\",\"MAZOWIECKIE\",\"MAZOWIECKIE\",\"MAZOWIECKIE\",\"MAZOWIECKIE\",\"MAZOWIECKIE\"],\"legendgroup\":\"MAZOWIECKIE\",\"line\":{\"color\":\"#B6E880\",\"dash\":\"solid\",\"shape\":\"spline\"},\"marker\":{\"symbol\":\"circle\"},\"mode\":\"lines\",\"name\":\"MAZOWIECKIE\",\"orientation\":\"v\",\"showlegend\":true,\"x\":[2013,2014,2015,2016,2017,2018,2019,2020],\"xaxis\":\"x\",\"y\":[24.3,24.7,25.8,23.2,22.4,26.1,26.3,27.6],\"yaxis\":\"y\",\"type\":\"scatter\"},{\"hovertemplate\":\"<b>%{hovertext}</b><br><br>Nazwa=OPOLSKIE<br>Rok=%{x}<br>Wartosc=%{y}<extra></extra>\",\"hovertext\":[\"OPOLSKIE\",\"OPOLSKIE\",\"OPOLSKIE\",\"OPOLSKIE\",\"OPOLSKIE\",\"OPOLSKIE\",\"OPOLSKIE\",\"OPOLSKIE\"],\"legendgroup\":\"OPOLSKIE\",\"line\":{\"color\":\"#FF97FF\",\"dash\":\"solid\",\"shape\":\"spline\"},\"marker\":{\"symbol\":\"circle\"},\"mode\":\"lines\",\"name\":\"OPOLSKIE\",\"orientation\":\"v\",\"showlegend\":true,\"x\":[2013,2014,2015,2016,2017,2018,2019,2020],\"xaxis\":\"x\",\"y\":[27.7,27.3,26.3,25.7,26.7,30.4,26.7,32.0],\"yaxis\":\"y\",\"type\":\"scatter\"},{\"hovertemplate\":\"<b>%{hovertext}</b><br><br>Nazwa=PODKARPACKIE<br>Rok=%{x}<br>Wartosc=%{y}<extra></extra>\",\"hovertext\":[\"PODKARPACKIE\",\"PODKARPACKIE\",\"PODKARPACKIE\",\"PODKARPACKIE\",\"PODKARPACKIE\",\"PODKARPACKIE\",\"PODKARPACKIE\",\"PODKARPACKIE\"],\"legendgroup\":\"PODKARPACKIE\",\"line\":{\"color\":\"#FECB52\",\"dash\":\"solid\",\"shape\":\"spline\"},\"marker\":{\"symbol\":\"circle\"},\"mode\":\"lines\",\"name\":\"PODKARPACKIE\",\"orientation\":\"v\",\"showlegend\":true,\"x\":[2013,2014,2015,2016,2017,2018,2019,2020],\"xaxis\":\"x\",\"y\":[24.4,25.5,29.6,26.3,24.8,21.1,20.5,30.0],\"yaxis\":\"y\",\"type\":\"scatter\"},{\"hovertemplate\":\"<b>%{hovertext}</b><br><br>Nazwa=PODLASKIE<br>Rok=%{x}<br>Wartosc=%{y}<extra></extra>\",\"hovertext\":[\"PODLASKIE\",\"PODLASKIE\",\"PODLASKIE\",\"PODLASKIE\",\"PODLASKIE\",\"PODLASKIE\",\"PODLASKIE\",\"PODLASKIE\"],\"legendgroup\":\"PODLASKIE\",\"line\":{\"color\":\"#636efa\",\"dash\":\"solid\",\"shape\":\"spline\"},\"marker\":{\"symbol\":\"circle\"},\"mode\":\"lines\",\"name\":\"PODLASKIE\",\"orientation\":\"v\",\"showlegend\":true,\"x\":[2013,2014,2015,2016,2017,2018,2019,2020],\"xaxis\":\"x\",\"y\":[15.9,16.8,22.3,18.5,19.3,24.5,21.0,24.1],\"yaxis\":\"y\",\"type\":\"scatter\"},{\"hovertemplate\":\"<b>%{hovertext}</b><br><br>Nazwa=POMORSKIE<br>Rok=%{x}<br>Wartosc=%{y}<extra></extra>\",\"hovertext\":[\"POMORSKIE\",\"POMORSKIE\",\"POMORSKIE\",\"POMORSKIE\",\"POMORSKIE\",\"POMORSKIE\",\"POMORSKIE\",\"POMORSKIE\"],\"legendgroup\":\"POMORSKIE\",\"line\":{\"color\":\"#EF553B\",\"dash\":\"solid\",\"shape\":\"spline\"},\"marker\":{\"symbol\":\"circle\"},\"mode\":\"lines\",\"name\":\"POMORSKIE\",\"orientation\":\"v\",\"showlegend\":true,\"x\":[2013,2014,2015,2016,2017,2018,2019,2020],\"xaxis\":\"x\",\"y\":[23.2,21.0,19.9,22.9,22.6,28.6,25.0,28.8],\"yaxis\":\"y\",\"type\":\"scatter\"},{\"hovertemplate\":\"<b>%{hovertext}</b><br><br>Nazwa=\\u015aL\\u0104SKIE<br>Rok=%{x}<br>Wartosc=%{y}<extra></extra>\",\"hovertext\":[\"\\u015aL\\u0104SKIE\",\"\\u015aL\\u0104SKIE\",\"\\u015aL\\u0104SKIE\",\"\\u015aL\\u0104SKIE\",\"\\u015aL\\u0104SKIE\",\"\\u015aL\\u0104SKIE\",\"\\u015aL\\u0104SKIE\",\"\\u015aL\\u0104SKIE\"],\"legendgroup\":\"\\u015aL\\u0104SKIE\",\"line\":{\"color\":\"#00cc96\",\"dash\":\"solid\",\"shape\":\"spline\"},\"marker\":{\"symbol\":\"circle\"},\"mode\":\"lines\",\"name\":\"\\u015aL\\u0104SKIE\",\"orientation\":\"v\",\"showlegend\":true,\"x\":[2013,2014,2015,2016,2017,2018,2019,2020],\"xaxis\":\"x\",\"y\":[20.0,19.7,21.1,19.8,21.2,26.1,21.5,27.3],\"yaxis\":\"y\",\"type\":\"scatter\"},{\"hovertemplate\":\"<b>%{hovertext}</b><br><br>Nazwa=\\u015aWI\\u0118TOKRZYSKIE<br>Rok=%{x}<br>Wartosc=%{y}<extra></extra>\",\"hovertext\":[\"\\u015aWI\\u0118TOKRZYSKIE\",\"\\u015aWI\\u0118TOKRZYSKIE\",\"\\u015aWI\\u0118TOKRZYSKIE\",\"\\u015aWI\\u0118TOKRZYSKIE\",\"\\u015aWI\\u0118TOKRZYSKIE\",\"\\u015aWI\\u0118TOKRZYSKIE\",\"\\u015aWI\\u0118TOKRZYSKIE\",\"\\u015aWI\\u0118TOKRZYSKIE\"],\"legendgroup\":\"\\u015aWI\\u0118TOKRZYSKIE\",\"line\":{\"color\":\"#ab63fa\",\"dash\":\"solid\",\"shape\":\"spline\"},\"marker\":{\"symbol\":\"circle\"},\"mode\":\"lines\",\"name\":\"\\u015aWI\\u0118TOKRZYSKIE\",\"orientation\":\"v\",\"showlegend\":true,\"x\":[2013,2014,2015,2016,2017,2018,2019,2020],\"xaxis\":\"x\",\"y\":[18.0,20.8,18.8,16.8,21.3,20.8,18.8,24.8],\"yaxis\":\"y\",\"type\":\"scatter\"},{\"hovertemplate\":\"<b>%{hovertext}</b><br><br>Nazwa=WARMI\\u0143SKO-MAZURSKIE<br>Rok=%{x}<br>Wartosc=%{y}<extra></extra>\",\"hovertext\":[\"WARMI\\u0143SKO-MAZURSKIE\",\"WARMI\\u0143SKO-MAZURSKIE\",\"WARMI\\u0143SKO-MAZURSKIE\",\"WARMI\\u0143SKO-MAZURSKIE\",\"WARMI\\u0143SKO-MAZURSKIE\",\"WARMI\\u0143SKO-MAZURSKIE\",\"WARMI\\u0143SKO-MAZURSKIE\",\"WARMI\\u0143SKO-MAZURSKIE\"],\"legendgroup\":\"WARMI\\u0143SKO-MAZURSKIE\",\"line\":{\"color\":\"#FFA15A\",\"dash\":\"solid\",\"shape\":\"spline\"},\"marker\":{\"symbol\":\"circle\"},\"mode\":\"lines\",\"name\":\"WARMI\\u0143SKO-MAZURSKIE\",\"orientation\":\"v\",\"showlegend\":true,\"x\":[2013,2014,2015,2016,2017,2018,2019,2020],\"xaxis\":\"x\",\"y\":[16.4,16.2,15.0,16.3,17.2,20.9,17.2,20.8],\"yaxis\":\"y\",\"type\":\"scatter\"},{\"hovertemplate\":\"<b>%{hovertext}</b><br><br>Nazwa=WIELKOPOLSKIE<br>Rok=%{x}<br>Wartosc=%{y}<extra></extra>\",\"hovertext\":[\"WIELKOPOLSKIE\",\"WIELKOPOLSKIE\",\"WIELKOPOLSKIE\",\"WIELKOPOLSKIE\",\"WIELKOPOLSKIE\",\"WIELKOPOLSKIE\",\"WIELKOPOLSKIE\",\"WIELKOPOLSKIE\"],\"legendgroup\":\"WIELKOPOLSKIE\",\"line\":{\"color\":\"#19d3f3\",\"dash\":\"solid\",\"shape\":\"spline\"},\"marker\":{\"symbol\":\"circle\"},\"mode\":\"lines\",\"name\":\"WIELKOPOLSKIE\",\"orientation\":\"v\",\"showlegend\":true,\"x\":[2013,2014,2015,2016,2017,2018,2019,2020],\"xaxis\":\"x\",\"y\":[26.9,25.7,25.8,22.9,24.3,26.1,27.0,29.3],\"yaxis\":\"y\",\"type\":\"scatter\"},{\"hovertemplate\":\"<b>%{hovertext}</b><br><br>Nazwa=ZACHODNIOPOMORSKIE<br>Rok=%{x}<br>Wartosc=%{y}<extra></extra>\",\"hovertext\":[\"ZACHODNIOPOMORSKIE\",\"ZACHODNIOPOMORSKIE\",\"ZACHODNIOPOMORSKIE\",\"ZACHODNIOPOMORSKIE\",\"ZACHODNIOPOMORSKIE\",\"ZACHODNIOPOMORSKIE\",\"ZACHODNIOPOMORSKIE\",\"ZACHODNIOPOMORSKIE\"],\"legendgroup\":\"ZACHODNIOPOMORSKIE\",\"line\":{\"color\":\"#FF6692\",\"dash\":\"solid\",\"shape\":\"spline\"},\"marker\":{\"symbol\":\"circle\"},\"mode\":\"lines\",\"name\":\"ZACHODNIOPOMORSKIE\",\"orientation\":\"v\",\"showlegend\":true,\"x\":[2013,2014,2015,2016,2017,2018,2019,2020],\"xaxis\":\"x\",\"y\":[18.2,15.5,19.8,15.3,15.9,20.8,20.8,19.8],\"yaxis\":\"y\",\"type\":\"scatter\"}],                        {\"template\":{\"data\":{\"bar\":[{\"error_x\":{\"color\":\"#2a3f5f\"},\"error_y\":{\"color\":\"#2a3f5f\"},\"marker\":{\"line\":{\"color\":\"#E5ECF6\",\"width\":0.5},\"pattern\":{\"fillmode\":\"overlay\",\"size\":10,\"solidity\":0.2}},\"type\":\"bar\"}],\"barpolar\":[{\"marker\":{\"line\":{\"color\":\"#E5ECF6\",\"width\":0.5},\"pattern\":{\"fillmode\":\"overlay\",\"size\":10,\"solidity\":0.2}},\"type\":\"barpolar\"}],\"carpet\":[{\"aaxis\":{\"endlinecolor\":\"#2a3f5f\",\"gridcolor\":\"white\",\"linecolor\":\"white\",\"minorgridcolor\":\"white\",\"startlinecolor\":\"#2a3f5f\"},\"baxis\":{\"endlinecolor\":\"#2a3f5f\",\"gridcolor\":\"white\",\"linecolor\":\"white\",\"minorgridcolor\":\"white\",\"startlinecolor\":\"#2a3f5f\"},\"type\":\"carpet\"}],\"choropleth\":[{\"colorbar\":{\"outlinewidth\":0,\"ticks\":\"\"},\"type\":\"choropleth\"}],\"contour\":[{\"colorbar\":{\"outlinewidth\":0,\"ticks\":\"\"},\"colorscale\":[[0.0,\"#0d0887\"],[0.1111111111111111,\"#46039f\"],[0.2222222222222222,\"#7201a8\"],[0.3333333333333333,\"#9c179e\"],[0.4444444444444444,\"#bd3786\"],[0.5555555555555556,\"#d8576b\"],[0.6666666666666666,\"#ed7953\"],[0.7777777777777778,\"#fb9f3a\"],[0.8888888888888888,\"#fdca26\"],[1.0,\"#f0f921\"]],\"type\":\"contour\"}],\"contourcarpet\":[{\"colorbar\":{\"outlinewidth\":0,\"ticks\":\"\"},\"type\":\"contourcarpet\"}],\"heatmap\":[{\"colorbar\":{\"outlinewidth\":0,\"ticks\":\"\"},\"colorscale\":[[0.0,\"#0d0887\"],[0.1111111111111111,\"#46039f\"],[0.2222222222222222,\"#7201a8\"],[0.3333333333333333,\"#9c179e\"],[0.4444444444444444,\"#bd3786\"],[0.5555555555555556,\"#d8576b\"],[0.6666666666666666,\"#ed7953\"],[0.7777777777777778,\"#fb9f3a\"],[0.8888888888888888,\"#fdca26\"],[1.0,\"#f0f921\"]],\"type\":\"heatmap\"}],\"heatmapgl\":[{\"colorbar\":{\"outlinewidth\":0,\"ticks\":\"\"},\"colorscale\":[[0.0,\"#0d0887\"],[0.1111111111111111,\"#46039f\"],[0.2222222222222222,\"#7201a8\"],[0.3333333333333333,\"#9c179e\"],[0.4444444444444444,\"#bd3786\"],[0.5555555555555556,\"#d8576b\"],[0.6666666666666666,\"#ed7953\"],[0.7777777777777778,\"#fb9f3a\"],[0.8888888888888888,\"#fdca26\"],[1.0,\"#f0f921\"]],\"type\":\"heatmapgl\"}],\"histogram\":[{\"marker\":{\"pattern\":{\"fillmode\":\"overlay\",\"size\":10,\"solidity\":0.2}},\"type\":\"histogram\"}],\"histogram2d\":[{\"colorbar\":{\"outlinewidth\":0,\"ticks\":\"\"},\"colorscale\":[[0.0,\"#0d0887\"],[0.1111111111111111,\"#46039f\"],[0.2222222222222222,\"#7201a8\"],[0.3333333333333333,\"#9c179e\"],[0.4444444444444444,\"#bd3786\"],[0.5555555555555556,\"#d8576b\"],[0.6666666666666666,\"#ed7953\"],[0.7777777777777778,\"#fb9f3a\"],[0.8888888888888888,\"#fdca26\"],[1.0,\"#f0f921\"]],\"type\":\"histogram2d\"}],\"histogram2dcontour\":[{\"colorbar\":{\"outlinewidth\":0,\"ticks\":\"\"},\"colorscale\":[[0.0,\"#0d0887\"],[0.1111111111111111,\"#46039f\"],[0.2222222222222222,\"#7201a8\"],[0.3333333333333333,\"#9c179e\"],[0.4444444444444444,\"#bd3786\"],[0.5555555555555556,\"#d8576b\"],[0.6666666666666666,\"#ed7953\"],[0.7777777777777778,\"#fb9f3a\"],[0.8888888888888888,\"#fdca26\"],[1.0,\"#f0f921\"]],\"type\":\"histogram2dcontour\"}],\"mesh3d\":[{\"colorbar\":{\"outlinewidth\":0,\"ticks\":\"\"},\"type\":\"mesh3d\"}],\"parcoords\":[{\"line\":{\"colorbar\":{\"outlinewidth\":0,\"ticks\":\"\"}},\"type\":\"parcoords\"}],\"pie\":[{\"automargin\":true,\"type\":\"pie\"}],\"scatter\":[{\"marker\":{\"colorbar\":{\"outlinewidth\":0,\"ticks\":\"\"}},\"type\":\"scatter\"}],\"scatter3d\":[{\"line\":{\"colorbar\":{\"outlinewidth\":0,\"ticks\":\"\"}},\"marker\":{\"colorbar\":{\"outlinewidth\":0,\"ticks\":\"\"}},\"type\":\"scatter3d\"}],\"scattercarpet\":[{\"marker\":{\"colorbar\":{\"outlinewidth\":0,\"ticks\":\"\"}},\"type\":\"scattercarpet\"}],\"scattergeo\":[{\"marker\":{\"colorbar\":{\"outlinewidth\":0,\"ticks\":\"\"}},\"type\":\"scattergeo\"}],\"scattergl\":[{\"marker\":{\"colorbar\":{\"outlinewidth\":0,\"ticks\":\"\"}},\"type\":\"scattergl\"}],\"scattermapbox\":[{\"marker\":{\"colorbar\":{\"outlinewidth\":0,\"ticks\":\"\"}},\"type\":\"scattermapbox\"}],\"scatterpolar\":[{\"marker\":{\"colorbar\":{\"outlinewidth\":0,\"ticks\":\"\"}},\"type\":\"scatterpolar\"}],\"scatterpolargl\":[{\"marker\":{\"colorbar\":{\"outlinewidth\":0,\"ticks\":\"\"}},\"type\":\"scatterpolargl\"}],\"scatterternary\":[{\"marker\":{\"colorbar\":{\"outlinewidth\":0,\"ticks\":\"\"}},\"type\":\"scatterternary\"}],\"surface\":[{\"colorbar\":{\"outlinewidth\":0,\"ticks\":\"\"},\"colorscale\":[[0.0,\"#0d0887\"],[0.1111111111111111,\"#46039f\"],[0.2222222222222222,\"#7201a8\"],[0.3333333333333333,\"#9c179e\"],[0.4444444444444444,\"#bd3786\"],[0.5555555555555556,\"#d8576b\"],[0.6666666666666666,\"#ed7953\"],[0.7777777777777778,\"#fb9f3a\"],[0.8888888888888888,\"#fdca26\"],[1.0,\"#f0f921\"]],\"type\":\"surface\"}],\"table\":[{\"cells\":{\"fill\":{\"color\":\"#EBF0F8\"},\"line\":{\"color\":\"white\"}},\"header\":{\"fill\":{\"color\":\"#C8D4E3\"},\"line\":{\"color\":\"white\"}},\"type\":\"table\"}]},\"layout\":{\"annotationdefaults\":{\"arrowcolor\":\"#2a3f5f\",\"arrowhead\":0,\"arrowwidth\":1},\"autotypenumbers\":\"strict\",\"coloraxis\":{\"colorbar\":{\"outlinewidth\":0,\"ticks\":\"\"}},\"colorscale\":{\"diverging\":[[0,\"#8e0152\"],[0.1,\"#c51b7d\"],[0.2,\"#de77ae\"],[0.3,\"#f1b6da\"],[0.4,\"#fde0ef\"],[0.5,\"#f7f7f7\"],[0.6,\"#e6f5d0\"],[0.7,\"#b8e186\"],[0.8,\"#7fbc41\"],[0.9,\"#4d9221\"],[1,\"#276419\"]],\"sequential\":[[0.0,\"#0d0887\"],[0.1111111111111111,\"#46039f\"],[0.2222222222222222,\"#7201a8\"],[0.3333333333333333,\"#9c179e\"],[0.4444444444444444,\"#bd3786\"],[0.5555555555555556,\"#d8576b\"],[0.6666666666666666,\"#ed7953\"],[0.7777777777777778,\"#fb9f3a\"],[0.8888888888888888,\"#fdca26\"],[1.0,\"#f0f921\"]],\"sequentialminus\":[[0.0,\"#0d0887\"],[0.1111111111111111,\"#46039f\"],[0.2222222222222222,\"#7201a8\"],[0.3333333333333333,\"#9c179e\"],[0.4444444444444444,\"#bd3786\"],[0.5555555555555556,\"#d8576b\"],[0.6666666666666666,\"#ed7953\"],[0.7777777777777778,\"#fb9f3a\"],[0.8888888888888888,\"#fdca26\"],[1.0,\"#f0f921\"]]},\"colorway\":[\"#636efa\",\"#EF553B\",\"#00cc96\",\"#ab63fa\",\"#FFA15A\",\"#19d3f3\",\"#FF6692\",\"#B6E880\",\"#FF97FF\",\"#FECB52\"],\"font\":{\"color\":\"#2a3f5f\"},\"geo\":{\"bgcolor\":\"white\",\"lakecolor\":\"white\",\"landcolor\":\"#E5ECF6\",\"showlakes\":true,\"showland\":true,\"subunitcolor\":\"white\"},\"hoverlabel\":{\"align\":\"left\"},\"hovermode\":\"closest\",\"mapbox\":{\"style\":\"light\"},\"paper_bgcolor\":\"white\",\"plot_bgcolor\":\"#E5ECF6\",\"polar\":{\"angularaxis\":{\"gridcolor\":\"white\",\"linecolor\":\"white\",\"ticks\":\"\"},\"bgcolor\":\"#E5ECF6\",\"radialaxis\":{\"gridcolor\":\"white\",\"linecolor\":\"white\",\"ticks\":\"\"}},\"scene\":{\"xaxis\":{\"backgroundcolor\":\"#E5ECF6\",\"gridcolor\":\"white\",\"gridwidth\":2,\"linecolor\":\"white\",\"showbackground\":true,\"ticks\":\"\",\"zerolinecolor\":\"white\"},\"yaxis\":{\"backgroundcolor\":\"#E5ECF6\",\"gridcolor\":\"white\",\"gridwidth\":2,\"linecolor\":\"white\",\"showbackground\":true,\"ticks\":\"\",\"zerolinecolor\":\"white\"},\"zaxis\":{\"backgroundcolor\":\"#E5ECF6\",\"gridcolor\":\"white\",\"gridwidth\":2,\"linecolor\":\"white\",\"showbackground\":true,\"ticks\":\"\",\"zerolinecolor\":\"white\"}},\"shapedefaults\":{\"line\":{\"color\":\"#2a3f5f\"}},\"ternary\":{\"aaxis\":{\"gridcolor\":\"white\",\"linecolor\":\"white\",\"ticks\":\"\"},\"baxis\":{\"gridcolor\":\"white\",\"linecolor\":\"white\",\"ticks\":\"\"},\"bgcolor\":\"#E5ECF6\",\"caxis\":{\"gridcolor\":\"white\",\"linecolor\":\"white\",\"ticks\":\"\"}},\"title\":{\"x\":0.05},\"xaxis\":{\"automargin\":true,\"gridcolor\":\"white\",\"linecolor\":\"white\",\"ticks\":\"\",\"title\":{\"standoff\":15},\"zerolinecolor\":\"white\",\"zerolinewidth\":2},\"yaxis\":{\"automargin\":true,\"gridcolor\":\"white\",\"linecolor\":\"white\",\"ticks\":\"\",\"title\":{\"standoff\":15},\"zerolinecolor\":\"white\",\"zerolinewidth\":2}}},\"xaxis\":{\"anchor\":\"y\",\"domain\":[0.0,1.0],\"title\":{\"text\":\"Rok\"}},\"yaxis\":{\"anchor\":\"x\",\"domain\":[0.0,1.0],\"title\":{\"text\":\"Wartosc\"}},\"legend\":{\"title\":{\"text\":\"Nazwa\"},\"tracegroupgap\":0},\"title\":{\"text\":\"Good with lowest variance: drukarka wielofunkcyjna\"}},                        {\"responsive\": true}                    ).then(function(){\n                            \nvar gd = document.getElementById('6b3793d4-1863-469a-bbda-45c9b5f2084a');\nvar x = new MutationObserver(function (mutations, observer) {{\n        var display = window.getComputedStyle(gd).display;\n        if (!display || display === 'none') {{\n            console.log([gd, 'removed!']);\n            Plotly.purge(gd);\n            observer.disconnect();\n        }}\n}});\n\n// Listen for the removal of the full notebook cells\nvar notebookContainer = gd.closest('#notebook-container');\nif (notebookContainer) {{\n    x.observe(notebookContainer, {childList: true});\n}}\n\n// Listen for the clearing of the current output cell\nvar outputEl = gd.closest('.output');\nif (outputEl) {{\n    x.observe(outputEl, {childList: true});\n}}\n\n                        })                };                });            </script>        </div>"
     },
     "metadata": {},
     "output_type": "display_data"
    }
   ],
   "source": [
    "good_with_lowest_variance = min(wartosc_std.values(), key=lambda k: k.Wartosc.std())\n",
    "good_with_lowest_variance_name = good_with_lowest_variance.Zmienna.iloc[0]\n",
    "fig = px.line(good_with_lowest_variance,\n",
    "              x=\"Rok\", y=\"Wartosc\", color=\"Nazwa\", hover_name=\"Nazwa\",title=f\"Good with lowest variance: {good_with_lowest_variance_name}\",\n",
    "              line_shape=\"spline\", render_mode=\"svg\")\n",
    "\n",
    "fig.show()"
   ]
  },
  {
   "cell_type": "code",
   "execution_count": 97,
   "outputs": [
    {
     "data": {
      "application/vnd.plotly.v1+json": {
       "data": [
        {
         "hovertemplate": "<b>%{hovertext}</b><br><br>Nazwa=POLSKA<br>Rok=%{x}<br>Wartosc=%{y}<extra></extra>",
         "hovertext": [
          "POLSKA",
          "POLSKA",
          "POLSKA",
          "POLSKA",
          "POLSKA",
          "POLSKA",
          "POLSKA",
          "POLSKA",
          "POLSKA",
          "POLSKA",
          "POLSKA",
          "POLSKA",
          "POLSKA",
          "POLSKA",
          "POLSKA"
         ],
         "legendgroup": "POLSKA",
         "line": {
          "color": "#636efa",
          "dash": "solid",
          "shape": "spline"
         },
         "marker": {
          "symbol": "circle"
         },
         "mode": "lines",
         "name": "POLSKA",
         "orientation": "v",
         "showlegend": true,
         "x": [
          2003,
          2004,
          2005,
          2006,
          2007,
          2008,
          2009,
          2010,
          2011,
          2012,
          2013,
          2014,
          2015,
          2016,
          2017
         ],
         "xaxis": "x",
         "y": [
          12.8,
          16.9,
          22.5,
          28.4,
          36.6,
          45.7,
          53.4,
          59.6,
          62.3,
          64.7,
          68.8,
          71.2,
          72.8,
          74.0,
          74.8
         ],
         "yaxis": "y",
         "type": "scatter"
        },
        {
         "hovertemplate": "<b>%{hovertext}</b><br><br>Nazwa=DOLNOŚLĄSKIE<br>Rok=%{x}<br>Wartosc=%{y}<extra></extra>",
         "hovertext": [
          "DOLNOŚLĄSKIE",
          "DOLNOŚLĄSKIE",
          "DOLNOŚLĄSKIE",
          "DOLNOŚLĄSKIE",
          "DOLNOŚLĄSKIE",
          "DOLNOŚLĄSKIE",
          "DOLNOŚLĄSKIE",
          "DOLNOŚLĄSKIE",
          "DOLNOŚLĄSKIE",
          "DOLNOŚLĄSKIE",
          "DOLNOŚLĄSKIE",
          "DOLNOŚLĄSKIE",
          "DOLNOŚLĄSKIE",
          "DOLNOŚLĄSKIE",
          "DOLNOŚLĄSKIE"
         ],
         "legendgroup": "DOLNOŚLĄSKIE",
         "line": {
          "color": "#EF553B",
          "dash": "solid",
          "shape": "spline"
         },
         "marker": {
          "symbol": "circle"
         },
         "mode": "lines",
         "name": "DOLNOŚLĄSKIE",
         "orientation": "v",
         "showlegend": true,
         "x": [
          2003,
          2004,
          2005,
          2006,
          2007,
          2008,
          2009,
          2010,
          2011,
          2012,
          2013,
          2014,
          2015,
          2016,
          2017
         ],
         "xaxis": "x",
         "y": [
          13.9,
          17.1,
          22.7,
          28.4,
          36.2,
          46.4,
          53.6,
          59.3,
          60.9,
          62.6,
          66.0,
          68.4,
          72.2,
          72.9,
          73.4
         ],
         "yaxis": "y",
         "type": "scatter"
        },
        {
         "hovertemplate": "<b>%{hovertext}</b><br><br>Nazwa=KUJAWSKO-POMORSKIE<br>Rok=%{x}<br>Wartosc=%{y}<extra></extra>",
         "hovertext": [
          "KUJAWSKO-POMORSKIE",
          "KUJAWSKO-POMORSKIE",
          "KUJAWSKO-POMORSKIE",
          "KUJAWSKO-POMORSKIE",
          "KUJAWSKO-POMORSKIE",
          "KUJAWSKO-POMORSKIE",
          "KUJAWSKO-POMORSKIE",
          "KUJAWSKO-POMORSKIE",
          "KUJAWSKO-POMORSKIE",
          "KUJAWSKO-POMORSKIE",
          "KUJAWSKO-POMORSKIE",
          "KUJAWSKO-POMORSKIE",
          "KUJAWSKO-POMORSKIE",
          "KUJAWSKO-POMORSKIE",
          "KUJAWSKO-POMORSKIE"
         ],
         "legendgroup": "KUJAWSKO-POMORSKIE",
         "line": {
          "color": "#00cc96",
          "dash": "solid",
          "shape": "spline"
         },
         "marker": {
          "symbol": "circle"
         },
         "mode": "lines",
         "name": "KUJAWSKO-POMORSKIE",
         "orientation": "v",
         "showlegend": true,
         "x": [
          2003,
          2004,
          2005,
          2006,
          2007,
          2008,
          2009,
          2010,
          2011,
          2012,
          2013,
          2014,
          2015,
          2016,
          2017
         ],
         "xaxis": "x",
         "y": [
          9.9,
          14.9,
          16.8,
          20.8,
          33.6,
          43.1,
          53.7,
          58.6,
          59.5,
          59.2,
          64.5,
          70.2,
          69.5,
          74.4,
          74.3
         ],
         "yaxis": "y",
         "type": "scatter"
        },
        {
         "hovertemplate": "<b>%{hovertext}</b><br><br>Nazwa=LUBELSKIE<br>Rok=%{x}<br>Wartosc=%{y}<extra></extra>",
         "hovertext": [
          "LUBELSKIE",
          "LUBELSKIE",
          "LUBELSKIE",
          "LUBELSKIE",
          "LUBELSKIE",
          "LUBELSKIE",
          "LUBELSKIE",
          "LUBELSKIE",
          "LUBELSKIE",
          "LUBELSKIE",
          "LUBELSKIE",
          "LUBELSKIE",
          "LUBELSKIE",
          "LUBELSKIE",
          "LUBELSKIE"
         ],
         "legendgroup": "LUBELSKIE",
         "line": {
          "color": "#ab63fa",
          "dash": "solid",
          "shape": "spline"
         },
         "marker": {
          "symbol": "circle"
         },
         "mode": "lines",
         "name": "LUBELSKIE",
         "orientation": "v",
         "showlegend": true,
         "x": [
          2003,
          2004,
          2005,
          2006,
          2007,
          2008,
          2009,
          2010,
          2011,
          2012,
          2013,
          2014,
          2015,
          2016,
          2017
         ],
         "xaxis": "x",
         "y": [
          10.7,
          14.6,
          16.4,
          19.4,
          28.1,
          36.4,
          46.0,
          50.6,
          55.4,
          59.5,
          65.4,
          67.9,
          68.4,
          69.5,
          68.5
         ],
         "yaxis": "y",
         "type": "scatter"
        },
        {
         "hovertemplate": "<b>%{hovertext}</b><br><br>Nazwa=LUBUSKIE<br>Rok=%{x}<br>Wartosc=%{y}<extra></extra>",
         "hovertext": [
          "LUBUSKIE",
          "LUBUSKIE",
          "LUBUSKIE",
          "LUBUSKIE",
          "LUBUSKIE",
          "LUBUSKIE",
          "LUBUSKIE",
          "LUBUSKIE",
          "LUBUSKIE",
          "LUBUSKIE",
          "LUBUSKIE",
          "LUBUSKIE",
          "LUBUSKIE",
          "LUBUSKIE",
          "LUBUSKIE"
         ],
         "legendgroup": "LUBUSKIE",
         "line": {
          "color": "#FFA15A",
          "dash": "solid",
          "shape": "spline"
         },
         "marker": {
          "symbol": "circle"
         },
         "mode": "lines",
         "name": "LUBUSKIE",
         "orientation": "v",
         "showlegend": true,
         "x": [
          2003,
          2004,
          2005,
          2006,
          2007,
          2008,
          2009,
          2010,
          2011,
          2012,
          2013,
          2014,
          2015,
          2016,
          2017
         ],
         "xaxis": "x",
         "y": [
          9.7,
          13.1,
          24.5,
          31.1,
          34.7,
          45.8,
          55.9,
          60.5,
          59.9,
          59.7,
          65.9,
          71.0,
          74.1,
          75.1,
          74.1
         ],
         "yaxis": "y",
         "type": "scatter"
        },
        {
         "hovertemplate": "<b>%{hovertext}</b><br><br>Nazwa=ŁÓDZKIE<br>Rok=%{x}<br>Wartosc=%{y}<extra></extra>",
         "hovertext": [
          "ŁÓDZKIE",
          "ŁÓDZKIE",
          "ŁÓDZKIE",
          "ŁÓDZKIE",
          "ŁÓDZKIE",
          "ŁÓDZKIE",
          "ŁÓDZKIE",
          "ŁÓDZKIE",
          "ŁÓDZKIE",
          "ŁÓDZKIE",
          "ŁÓDZKIE",
          "ŁÓDZKIE",
          "ŁÓDZKIE",
          "ŁÓDZKIE",
          "ŁÓDZKIE"
         ],
         "legendgroup": "ŁÓDZKIE",
         "line": {
          "color": "#19d3f3",
          "dash": "solid",
          "shape": "spline"
         },
         "marker": {
          "symbol": "circle"
         },
         "mode": "lines",
         "name": "ŁÓDZKIE",
         "orientation": "v",
         "showlegend": true,
         "x": [
          2003,
          2004,
          2005,
          2006,
          2007,
          2008,
          2009,
          2010,
          2011,
          2012,
          2013,
          2014,
          2015,
          2016,
          2017
         ],
         "xaxis": "x",
         "y": [
          12.2,
          14.4,
          18.4,
          25.4,
          32.5,
          40.6,
          47.0,
          52.3,
          54.9,
          59.2,
          62.8,
          67.3,
          71.1,
          71.8,
          70.8
         ],
         "yaxis": "y",
         "type": "scatter"
        },
        {
         "hovertemplate": "<b>%{hovertext}</b><br><br>Nazwa=MAŁOPOLSKIE<br>Rok=%{x}<br>Wartosc=%{y}<extra></extra>",
         "hovertext": [
          "MAŁOPOLSKIE",
          "MAŁOPOLSKIE",
          "MAŁOPOLSKIE",
          "MAŁOPOLSKIE",
          "MAŁOPOLSKIE",
          "MAŁOPOLSKIE",
          "MAŁOPOLSKIE",
          "MAŁOPOLSKIE",
          "MAŁOPOLSKIE",
          "MAŁOPOLSKIE",
          "MAŁOPOLSKIE",
          "MAŁOPOLSKIE",
          "MAŁOPOLSKIE",
          "MAŁOPOLSKIE",
          "MAŁOPOLSKIE"
         ],
         "legendgroup": "MAŁOPOLSKIE",
         "line": {
          "color": "#FF6692",
          "dash": "solid",
          "shape": "spline"
         },
         "marker": {
          "symbol": "circle"
         },
         "mode": "lines",
         "name": "MAŁOPOLSKIE",
         "orientation": "v",
         "showlegend": true,
         "x": [
          2003,
          2004,
          2005,
          2006,
          2007,
          2008,
          2009,
          2010,
          2011,
          2012,
          2013,
          2014,
          2015,
          2016,
          2017
         ],
         "xaxis": "x",
         "y": [
          12.5,
          20.0,
          27.7,
          32.5,
          41.8,
          51.0,
          57.4,
          63.6,
          64.2,
          67.2,
          72.7,
          74.6,
          75.2,
          76.1,
          78.1
         ],
         "yaxis": "y",
         "type": "scatter"
        },
        {
         "hovertemplate": "<b>%{hovertext}</b><br><br>Nazwa=MAZOWIECKIE<br>Rok=%{x}<br>Wartosc=%{y}<extra></extra>",
         "hovertext": [
          "MAZOWIECKIE",
          "MAZOWIECKIE",
          "MAZOWIECKIE",
          "MAZOWIECKIE",
          "MAZOWIECKIE",
          "MAZOWIECKIE",
          "MAZOWIECKIE",
          "MAZOWIECKIE",
          "MAZOWIECKIE",
          "MAZOWIECKIE",
          "MAZOWIECKIE",
          "MAZOWIECKIE",
          "MAZOWIECKIE",
          "MAZOWIECKIE",
          "MAZOWIECKIE"
         ],
         "legendgroup": "MAZOWIECKIE",
         "line": {
          "color": "#B6E880",
          "dash": "solid",
          "shape": "spline"
         },
         "marker": {
          "symbol": "circle"
         },
         "mode": "lines",
         "name": "MAZOWIECKIE",
         "orientation": "v",
         "showlegend": true,
         "x": [
          2003,
          2004,
          2005,
          2006,
          2007,
          2008,
          2009,
          2010,
          2011,
          2012,
          2013,
          2014,
          2015,
          2016,
          2017
         ],
         "xaxis": "x",
         "y": [
          16.0,
          20.2,
          26.9,
          32.5,
          40.5,
          49.4,
          56.5,
          64.2,
          67.5,
          69.2,
          73.0,
          75.5,
          77.3,
          77.5,
          78.6
         ],
         "yaxis": "y",
         "type": "scatter"
        },
        {
         "hovertemplate": "<b>%{hovertext}</b><br><br>Nazwa=OPOLSKIE<br>Rok=%{x}<br>Wartosc=%{y}<extra></extra>",
         "hovertext": [
          "OPOLSKIE",
          "OPOLSKIE",
          "OPOLSKIE",
          "OPOLSKIE",
          "OPOLSKIE",
          "OPOLSKIE",
          "OPOLSKIE",
          "OPOLSKIE",
          "OPOLSKIE",
          "OPOLSKIE",
          "OPOLSKIE",
          "OPOLSKIE",
          "OPOLSKIE",
          "OPOLSKIE",
          "OPOLSKIE"
         ],
         "legendgroup": "OPOLSKIE",
         "line": {
          "color": "#FF97FF",
          "dash": "solid",
          "shape": "spline"
         },
         "marker": {
          "symbol": "circle"
         },
         "mode": "lines",
         "name": "OPOLSKIE",
         "orientation": "v",
         "showlegend": true,
         "x": [
          2003,
          2004,
          2005,
          2006,
          2007,
          2008,
          2009,
          2010,
          2011,
          2012,
          2013,
          2014,
          2015,
          2016,
          2017
         ],
         "xaxis": "x",
         "y": [
          8.8,
          13.1,
          19.3,
          23.9,
          34.3,
          44.1,
          52.5,
          57.3,
          63.4,
          66.7,
          66.5,
          66.7,
          68.6,
          70.8,
          71.4
         ],
         "yaxis": "y",
         "type": "scatter"
        },
        {
         "hovertemplate": "<b>%{hovertext}</b><br><br>Nazwa=PODKARPACKIE<br>Rok=%{x}<br>Wartosc=%{y}<extra></extra>",
         "hovertext": [
          "PODKARPACKIE",
          "PODKARPACKIE",
          "PODKARPACKIE",
          "PODKARPACKIE",
          "PODKARPACKIE",
          "PODKARPACKIE",
          "PODKARPACKIE",
          "PODKARPACKIE",
          "PODKARPACKIE",
          "PODKARPACKIE",
          "PODKARPACKIE",
          "PODKARPACKIE",
          "PODKARPACKIE",
          "PODKARPACKIE",
          "PODKARPACKIE"
         ],
         "legendgroup": "PODKARPACKIE",
         "line": {
          "color": "#FECB52",
          "dash": "solid",
          "shape": "spline"
         },
         "marker": {
          "symbol": "circle"
         },
         "mode": "lines",
         "name": "PODKARPACKIE",
         "orientation": "v",
         "showlegend": true,
         "x": [
          2003,
          2004,
          2005,
          2006,
          2007,
          2008,
          2009,
          2010,
          2011,
          2012,
          2013,
          2014,
          2015,
          2016,
          2017
         ],
         "xaxis": "x",
         "y": [
          12.3,
          15.8,
          22.0,
          24.8,
          30.9,
          41.9,
          50.4,
          59.5,
          62.2,
          62.6,
          67.6,
          71.4,
          73.8,
          74.8,
          74.9
         ],
         "yaxis": "y",
         "type": "scatter"
        },
        {
         "hovertemplate": "<b>%{hovertext}</b><br><br>Nazwa=PODLASKIE<br>Rok=%{x}<br>Wartosc=%{y}<extra></extra>",
         "hovertext": [
          "PODLASKIE",
          "PODLASKIE",
          "PODLASKIE",
          "PODLASKIE",
          "PODLASKIE",
          "PODLASKIE",
          "PODLASKIE",
          "PODLASKIE",
          "PODLASKIE",
          "PODLASKIE",
          "PODLASKIE",
          "PODLASKIE",
          "PODLASKIE",
          "PODLASKIE",
          "PODLASKIE"
         ],
         "legendgroup": "PODLASKIE",
         "line": {
          "color": "#636efa",
          "dash": "solid",
          "shape": "spline"
         },
         "marker": {
          "symbol": "circle"
         },
         "mode": "lines",
         "name": "PODLASKIE",
         "orientation": "v",
         "showlegend": true,
         "x": [
          2003,
          2004,
          2005,
          2006,
          2007,
          2008,
          2009,
          2010,
          2011,
          2012,
          2013,
          2014,
          2015,
          2016,
          2017
         ],
         "xaxis": "x",
         "y": [
          15.3,
          17.4,
          19.7,
          28.0,
          33.9,
          44.1,
          51.5,
          52.6,
          57.5,
          59.4,
          61.0,
          65.4,
          67.1,
          66.4,
          66.6
         ],
         "yaxis": "y",
         "type": "scatter"
        },
        {
         "hovertemplate": "<b>%{hovertext}</b><br><br>Nazwa=POMORSKIE<br>Rok=%{x}<br>Wartosc=%{y}<extra></extra>",
         "hovertext": [
          "POMORSKIE",
          "POMORSKIE",
          "POMORSKIE",
          "POMORSKIE",
          "POMORSKIE",
          "POMORSKIE",
          "POMORSKIE",
          "POMORSKIE",
          "POMORSKIE",
          "POMORSKIE",
          "POMORSKIE",
          "POMORSKIE",
          "POMORSKIE",
          "POMORSKIE",
          "POMORSKIE"
         ],
         "legendgroup": "POMORSKIE",
         "line": {
          "color": "#EF553B",
          "dash": "solid",
          "shape": "spline"
         },
         "marker": {
          "symbol": "circle"
         },
         "mode": "lines",
         "name": "POMORSKIE",
         "orientation": "v",
         "showlegend": true,
         "x": [
          2003,
          2004,
          2005,
          2006,
          2007,
          2008,
          2009,
          2010,
          2011,
          2012,
          2013,
          2014,
          2015,
          2016,
          2017
         ],
         "xaxis": "x",
         "y": [
          18.0,
          21.8,
          24.8,
          37.3,
          47.0,
          53.0,
          58.0,
          64.2,
          69.4,
          71.0,
          76.1,
          76.6,
          75.1,
          76.5,
          76.8
         ],
         "yaxis": "y",
         "type": "scatter"
        },
        {
         "hovertemplate": "<b>%{hovertext}</b><br><br>Nazwa=ŚLĄSKIE<br>Rok=%{x}<br>Wartosc=%{y}<extra></extra>",
         "hovertext": [
          "ŚLĄSKIE",
          "ŚLĄSKIE",
          "ŚLĄSKIE",
          "ŚLĄSKIE",
          "ŚLĄSKIE",
          "ŚLĄSKIE",
          "ŚLĄSKIE",
          "ŚLĄSKIE",
          "ŚLĄSKIE",
          "ŚLĄSKIE",
          "ŚLĄSKIE",
          "ŚLĄSKIE",
          "ŚLĄSKIE",
          "ŚLĄSKIE",
          "ŚLĄSKIE"
         ],
         "legendgroup": "ŚLĄSKIE",
         "line": {
          "color": "#00cc96",
          "dash": "solid",
          "shape": "spline"
         },
         "marker": {
          "symbol": "circle"
         },
         "mode": "lines",
         "name": "ŚLĄSKIE",
         "orientation": "v",
         "showlegend": true,
         "x": [
          2003,
          2004,
          2005,
          2006,
          2007,
          2008,
          2009,
          2010,
          2011,
          2012,
          2013,
          2014,
          2015,
          2016,
          2017
         ],
         "xaxis": "x",
         "y": [
          12.6,
          18.3,
          27.3,
          33.9,
          42.2,
          51.3,
          57.6,
          64.1,
          65.2,
          67.9,
          72.9,
          72.5,
          75.1,
          75.5,
          77.0
         ],
         "yaxis": "y",
         "type": "scatter"
        },
        {
         "hovertemplate": "<b>%{hovertext}</b><br><br>Nazwa=ŚWIĘTOKRZYSKIE<br>Rok=%{x}<br>Wartosc=%{y}<extra></extra>",
         "hovertext": [
          "ŚWIĘTOKRZYSKIE",
          "ŚWIĘTOKRZYSKIE",
          "ŚWIĘTOKRZYSKIE",
          "ŚWIĘTOKRZYSKIE",
          "ŚWIĘTOKRZYSKIE",
          "ŚWIĘTOKRZYSKIE",
          "ŚWIĘTOKRZYSKIE",
          "ŚWIĘTOKRZYSKIE",
          "ŚWIĘTOKRZYSKIE",
          "ŚWIĘTOKRZYSKIE",
          "ŚWIĘTOKRZYSKIE",
          "ŚWIĘTOKRZYSKIE",
          "ŚWIĘTOKRZYSKIE",
          "ŚWIĘTOKRZYSKIE",
          "ŚWIĘTOKRZYSKIE"
         ],
         "legendgroup": "ŚWIĘTOKRZYSKIE",
         "line": {
          "color": "#ab63fa",
          "dash": "solid",
          "shape": "spline"
         },
         "marker": {
          "symbol": "circle"
         },
         "mode": "lines",
         "name": "ŚWIĘTOKRZYSKIE",
         "orientation": "v",
         "showlegend": true,
         "x": [
          2003,
          2004,
          2005,
          2006,
          2007,
          2008,
          2009,
          2010,
          2011,
          2012,
          2013,
          2014,
          2015,
          2016,
          2017
         ],
         "xaxis": "x",
         "y": [
          7.7,
          11.0,
          13.5,
          18.2,
          22.2,
          32.5,
          43.3,
          52.2,
          52.5,
          56.7,
          64.3,
          65.0,
          65.7,
          67.1,
          68.2
         ],
         "yaxis": "y",
         "type": "scatter"
        },
        {
         "hovertemplate": "<b>%{hovertext}</b><br><br>Nazwa=WARMIŃSKO-MAZURSKIE<br>Rok=%{x}<br>Wartosc=%{y}<extra></extra>",
         "hovertext": [
          "WARMIŃSKO-MAZURSKIE",
          "WARMIŃSKO-MAZURSKIE",
          "WARMIŃSKO-MAZURSKIE",
          "WARMIŃSKO-MAZURSKIE",
          "WARMIŃSKO-MAZURSKIE",
          "WARMIŃSKO-MAZURSKIE",
          "WARMIŃSKO-MAZURSKIE",
          "WARMIŃSKO-MAZURSKIE",
          "WARMIŃSKO-MAZURSKIE",
          "WARMIŃSKO-MAZURSKIE",
          "WARMIŃSKO-MAZURSKIE",
          "WARMIŃSKO-MAZURSKIE",
          "WARMIŃSKO-MAZURSKIE",
          "WARMIŃSKO-MAZURSKIE",
          "WARMIŃSKO-MAZURSKIE"
         ],
         "legendgroup": "WARMIŃSKO-MAZURSKIE",
         "line": {
          "color": "#FFA15A",
          "dash": "solid",
          "shape": "spline"
         },
         "marker": {
          "symbol": "circle"
         },
         "mode": "lines",
         "name": "WARMIŃSKO-MAZURSKIE",
         "orientation": "v",
         "showlegend": true,
         "x": [
          2003,
          2004,
          2005,
          2006,
          2007,
          2008,
          2009,
          2010,
          2011,
          2012,
          2013,
          2014,
          2015,
          2016,
          2017
         ],
         "xaxis": "x",
         "y": [
          11.6,
          13.9,
          17.8,
          22.1,
          28.7,
          39.0,
          48.8,
          55.8,
          58.1,
          58.2,
          61.5,
          65.1,
          65.9,
          71.4,
          73.6
         ],
         "yaxis": "y",
         "type": "scatter"
        },
        {
         "hovertemplate": "<b>%{hovertext}</b><br><br>Nazwa=WIELKOPOLSKIE<br>Rok=%{x}<br>Wartosc=%{y}<extra></extra>",
         "hovertext": [
          "WIELKOPOLSKIE",
          "WIELKOPOLSKIE",
          "WIELKOPOLSKIE",
          "WIELKOPOLSKIE",
          "WIELKOPOLSKIE",
          "WIELKOPOLSKIE",
          "WIELKOPOLSKIE",
          "WIELKOPOLSKIE",
          "WIELKOPOLSKIE",
          "WIELKOPOLSKIE",
          "WIELKOPOLSKIE",
          "WIELKOPOLSKIE",
          "WIELKOPOLSKIE",
          "WIELKOPOLSKIE",
          "WIELKOPOLSKIE"
         ],
         "legendgroup": "WIELKOPOLSKIE",
         "line": {
          "color": "#19d3f3",
          "dash": "solid",
          "shape": "spline"
         },
         "marker": {
          "symbol": "circle"
         },
         "mode": "lines",
         "name": "WIELKOPOLSKIE",
         "orientation": "v",
         "showlegend": true,
         "x": [
          2003,
          2004,
          2005,
          2006,
          2007,
          2008,
          2009,
          2010,
          2011,
          2012,
          2013,
          2014,
          2015,
          2016,
          2017
         ],
         "xaxis": "x",
         "y": [
          12.4,
          14.1,
          20.4,
          26.7,
          36.5,
          42.9,
          51.0,
          59.4,
          64.3,
          68.5,
          71.7,
          72.7,
          72.9,
          75.5,
          77.5
         ],
         "yaxis": "y",
         "type": "scatter"
        },
        {
         "hovertemplate": "<b>%{hovertext}</b><br><br>Nazwa=ZACHODNIOPOMORSKIE<br>Rok=%{x}<br>Wartosc=%{y}<extra></extra>",
         "hovertext": [
          "ZACHODNIOPOMORSKIE",
          "ZACHODNIOPOMORSKIE",
          "ZACHODNIOPOMORSKIE",
          "ZACHODNIOPOMORSKIE",
          "ZACHODNIOPOMORSKIE",
          "ZACHODNIOPOMORSKIE",
          "ZACHODNIOPOMORSKIE",
          "ZACHODNIOPOMORSKIE",
          "ZACHODNIOPOMORSKIE",
          "ZACHODNIOPOMORSKIE",
          "ZACHODNIOPOMORSKIE",
          "ZACHODNIOPOMORSKIE",
          "ZACHODNIOPOMORSKIE",
          "ZACHODNIOPOMORSKIE",
          "ZACHODNIOPOMORSKIE"
         ],
         "legendgroup": "ZACHODNIOPOMORSKIE",
         "line": {
          "color": "#FF6692",
          "dash": "solid",
          "shape": "spline"
         },
         "marker": {
          "symbol": "circle"
         },
         "mode": "lines",
         "name": "ZACHODNIOPOMORSKIE",
         "orientation": "v",
         "showlegend": true,
         "x": [
          2003,
          2004,
          2005,
          2006,
          2007,
          2008,
          2009,
          2010,
          2011,
          2012,
          2013,
          2014,
          2015,
          2016,
          2017
         ],
         "xaxis": "x",
         "y": [
          12.1,
          16.2,
          20.3,
          27.6,
          35.6,
          46.4,
          55.3,
          57.4,
          61.0,
          64.0,
          65.5,
          68.2,
          70.6,
          71.5,
          72.1
         ],
         "yaxis": "y",
         "type": "scatter"
        }
       ],
       "layout": {
        "template": {
         "data": {
          "bar": [
           {
            "error_x": {
             "color": "#2a3f5f"
            },
            "error_y": {
             "color": "#2a3f5f"
            },
            "marker": {
             "line": {
              "color": "#E5ECF6",
              "width": 0.5
             },
             "pattern": {
              "fillmode": "overlay",
              "size": 10,
              "solidity": 0.2
             }
            },
            "type": "bar"
           }
          ],
          "barpolar": [
           {
            "marker": {
             "line": {
              "color": "#E5ECF6",
              "width": 0.5
             },
             "pattern": {
              "fillmode": "overlay",
              "size": 10,
              "solidity": 0.2
             }
            },
            "type": "barpolar"
           }
          ],
          "carpet": [
           {
            "aaxis": {
             "endlinecolor": "#2a3f5f",
             "gridcolor": "white",
             "linecolor": "white",
             "minorgridcolor": "white",
             "startlinecolor": "#2a3f5f"
            },
            "baxis": {
             "endlinecolor": "#2a3f5f",
             "gridcolor": "white",
             "linecolor": "white",
             "minorgridcolor": "white",
             "startlinecolor": "#2a3f5f"
            },
            "type": "carpet"
           }
          ],
          "choropleth": [
           {
            "colorbar": {
             "outlinewidth": 0,
             "ticks": ""
            },
            "type": "choropleth"
           }
          ],
          "contour": [
           {
            "colorbar": {
             "outlinewidth": 0,
             "ticks": ""
            },
            "colorscale": [
             [
              0.0,
              "#0d0887"
             ],
             [
              0.1111111111111111,
              "#46039f"
             ],
             [
              0.2222222222222222,
              "#7201a8"
             ],
             [
              0.3333333333333333,
              "#9c179e"
             ],
             [
              0.4444444444444444,
              "#bd3786"
             ],
             [
              0.5555555555555556,
              "#d8576b"
             ],
             [
              0.6666666666666666,
              "#ed7953"
             ],
             [
              0.7777777777777778,
              "#fb9f3a"
             ],
             [
              0.8888888888888888,
              "#fdca26"
             ],
             [
              1.0,
              "#f0f921"
             ]
            ],
            "type": "contour"
           }
          ],
          "contourcarpet": [
           {
            "colorbar": {
             "outlinewidth": 0,
             "ticks": ""
            },
            "type": "contourcarpet"
           }
          ],
          "heatmap": [
           {
            "colorbar": {
             "outlinewidth": 0,
             "ticks": ""
            },
            "colorscale": [
             [
              0.0,
              "#0d0887"
             ],
             [
              0.1111111111111111,
              "#46039f"
             ],
             [
              0.2222222222222222,
              "#7201a8"
             ],
             [
              0.3333333333333333,
              "#9c179e"
             ],
             [
              0.4444444444444444,
              "#bd3786"
             ],
             [
              0.5555555555555556,
              "#d8576b"
             ],
             [
              0.6666666666666666,
              "#ed7953"
             ],
             [
              0.7777777777777778,
              "#fb9f3a"
             ],
             [
              0.8888888888888888,
              "#fdca26"
             ],
             [
              1.0,
              "#f0f921"
             ]
            ],
            "type": "heatmap"
           }
          ],
          "heatmapgl": [
           {
            "colorbar": {
             "outlinewidth": 0,
             "ticks": ""
            },
            "colorscale": [
             [
              0.0,
              "#0d0887"
             ],
             [
              0.1111111111111111,
              "#46039f"
             ],
             [
              0.2222222222222222,
              "#7201a8"
             ],
             [
              0.3333333333333333,
              "#9c179e"
             ],
             [
              0.4444444444444444,
              "#bd3786"
             ],
             [
              0.5555555555555556,
              "#d8576b"
             ],
             [
              0.6666666666666666,
              "#ed7953"
             ],
             [
              0.7777777777777778,
              "#fb9f3a"
             ],
             [
              0.8888888888888888,
              "#fdca26"
             ],
             [
              1.0,
              "#f0f921"
             ]
            ],
            "type": "heatmapgl"
           }
          ],
          "histogram": [
           {
            "marker": {
             "pattern": {
              "fillmode": "overlay",
              "size": 10,
              "solidity": 0.2
             }
            },
            "type": "histogram"
           }
          ],
          "histogram2d": [
           {
            "colorbar": {
             "outlinewidth": 0,
             "ticks": ""
            },
            "colorscale": [
             [
              0.0,
              "#0d0887"
             ],
             [
              0.1111111111111111,
              "#46039f"
             ],
             [
              0.2222222222222222,
              "#7201a8"
             ],
             [
              0.3333333333333333,
              "#9c179e"
             ],
             [
              0.4444444444444444,
              "#bd3786"
             ],
             [
              0.5555555555555556,
              "#d8576b"
             ],
             [
              0.6666666666666666,
              "#ed7953"
             ],
             [
              0.7777777777777778,
              "#fb9f3a"
             ],
             [
              0.8888888888888888,
              "#fdca26"
             ],
             [
              1.0,
              "#f0f921"
             ]
            ],
            "type": "histogram2d"
           }
          ],
          "histogram2dcontour": [
           {
            "colorbar": {
             "outlinewidth": 0,
             "ticks": ""
            },
            "colorscale": [
             [
              0.0,
              "#0d0887"
             ],
             [
              0.1111111111111111,
              "#46039f"
             ],
             [
              0.2222222222222222,
              "#7201a8"
             ],
             [
              0.3333333333333333,
              "#9c179e"
             ],
             [
              0.4444444444444444,
              "#bd3786"
             ],
             [
              0.5555555555555556,
              "#d8576b"
             ],
             [
              0.6666666666666666,
              "#ed7953"
             ],
             [
              0.7777777777777778,
              "#fb9f3a"
             ],
             [
              0.8888888888888888,
              "#fdca26"
             ],
             [
              1.0,
              "#f0f921"
             ]
            ],
            "type": "histogram2dcontour"
           }
          ],
          "mesh3d": [
           {
            "colorbar": {
             "outlinewidth": 0,
             "ticks": ""
            },
            "type": "mesh3d"
           }
          ],
          "parcoords": [
           {
            "line": {
             "colorbar": {
              "outlinewidth": 0,
              "ticks": ""
             }
            },
            "type": "parcoords"
           }
          ],
          "pie": [
           {
            "automargin": true,
            "type": "pie"
           }
          ],
          "scatter": [
           {
            "marker": {
             "colorbar": {
              "outlinewidth": 0,
              "ticks": ""
             }
            },
            "type": "scatter"
           }
          ],
          "scatter3d": [
           {
            "line": {
             "colorbar": {
              "outlinewidth": 0,
              "ticks": ""
             }
            },
            "marker": {
             "colorbar": {
              "outlinewidth": 0,
              "ticks": ""
             }
            },
            "type": "scatter3d"
           }
          ],
          "scattercarpet": [
           {
            "marker": {
             "colorbar": {
              "outlinewidth": 0,
              "ticks": ""
             }
            },
            "type": "scattercarpet"
           }
          ],
          "scattergeo": [
           {
            "marker": {
             "colorbar": {
              "outlinewidth": 0,
              "ticks": ""
             }
            },
            "type": "scattergeo"
           }
          ],
          "scattergl": [
           {
            "marker": {
             "colorbar": {
              "outlinewidth": 0,
              "ticks": ""
             }
            },
            "type": "scattergl"
           }
          ],
          "scattermapbox": [
           {
            "marker": {
             "colorbar": {
              "outlinewidth": 0,
              "ticks": ""
             }
            },
            "type": "scattermapbox"
           }
          ],
          "scatterpolar": [
           {
            "marker": {
             "colorbar": {
              "outlinewidth": 0,
              "ticks": ""
             }
            },
            "type": "scatterpolar"
           }
          ],
          "scatterpolargl": [
           {
            "marker": {
             "colorbar": {
              "outlinewidth": 0,
              "ticks": ""
             }
            },
            "type": "scatterpolargl"
           }
          ],
          "scatterternary": [
           {
            "marker": {
             "colorbar": {
              "outlinewidth": 0,
              "ticks": ""
             }
            },
            "type": "scatterternary"
           }
          ],
          "surface": [
           {
            "colorbar": {
             "outlinewidth": 0,
             "ticks": ""
            },
            "colorscale": [
             [
              0.0,
              "#0d0887"
             ],
             [
              0.1111111111111111,
              "#46039f"
             ],
             [
              0.2222222222222222,
              "#7201a8"
             ],
             [
              0.3333333333333333,
              "#9c179e"
             ],
             [
              0.4444444444444444,
              "#bd3786"
             ],
             [
              0.5555555555555556,
              "#d8576b"
             ],
             [
              0.6666666666666666,
              "#ed7953"
             ],
             [
              0.7777777777777778,
              "#fb9f3a"
             ],
             [
              0.8888888888888888,
              "#fdca26"
             ],
             [
              1.0,
              "#f0f921"
             ]
            ],
            "type": "surface"
           }
          ],
          "table": [
           {
            "cells": {
             "fill": {
              "color": "#EBF0F8"
             },
             "line": {
              "color": "white"
             }
            },
            "header": {
             "fill": {
              "color": "#C8D4E3"
             },
             "line": {
              "color": "white"
             }
            },
            "type": "table"
           }
          ]
         },
         "layout": {
          "annotationdefaults": {
           "arrowcolor": "#2a3f5f",
           "arrowhead": 0,
           "arrowwidth": 1
          },
          "autotypenumbers": "strict",
          "coloraxis": {
           "colorbar": {
            "outlinewidth": 0,
            "ticks": ""
           }
          },
          "colorscale": {
           "diverging": [
            [
             0,
             "#8e0152"
            ],
            [
             0.1,
             "#c51b7d"
            ],
            [
             0.2,
             "#de77ae"
            ],
            [
             0.3,
             "#f1b6da"
            ],
            [
             0.4,
             "#fde0ef"
            ],
            [
             0.5,
             "#f7f7f7"
            ],
            [
             0.6,
             "#e6f5d0"
            ],
            [
             0.7,
             "#b8e186"
            ],
            [
             0.8,
             "#7fbc41"
            ],
            [
             0.9,
             "#4d9221"
            ],
            [
             1,
             "#276419"
            ]
           ],
           "sequential": [
            [
             0.0,
             "#0d0887"
            ],
            [
             0.1111111111111111,
             "#46039f"
            ],
            [
             0.2222222222222222,
             "#7201a8"
            ],
            [
             0.3333333333333333,
             "#9c179e"
            ],
            [
             0.4444444444444444,
             "#bd3786"
            ],
            [
             0.5555555555555556,
             "#d8576b"
            ],
            [
             0.6666666666666666,
             "#ed7953"
            ],
            [
             0.7777777777777778,
             "#fb9f3a"
            ],
            [
             0.8888888888888888,
             "#fdca26"
            ],
            [
             1.0,
             "#f0f921"
            ]
           ],
           "sequentialminus": [
            [
             0.0,
             "#0d0887"
            ],
            [
             0.1111111111111111,
             "#46039f"
            ],
            [
             0.2222222222222222,
             "#7201a8"
            ],
            [
             0.3333333333333333,
             "#9c179e"
            ],
            [
             0.4444444444444444,
             "#bd3786"
            ],
            [
             0.5555555555555556,
             "#d8576b"
            ],
            [
             0.6666666666666666,
             "#ed7953"
            ],
            [
             0.7777777777777778,
             "#fb9f3a"
            ],
            [
             0.8888888888888888,
             "#fdca26"
            ],
            [
             1.0,
             "#f0f921"
            ]
           ]
          },
          "colorway": [
           "#636efa",
           "#EF553B",
           "#00cc96",
           "#ab63fa",
           "#FFA15A",
           "#19d3f3",
           "#FF6692",
           "#B6E880",
           "#FF97FF",
           "#FECB52"
          ],
          "font": {
           "color": "#2a3f5f"
          },
          "geo": {
           "bgcolor": "white",
           "lakecolor": "white",
           "landcolor": "#E5ECF6",
           "showlakes": true,
           "showland": true,
           "subunitcolor": "white"
          },
          "hoverlabel": {
           "align": "left"
          },
          "hovermode": "closest",
          "mapbox": {
           "style": "light"
          },
          "paper_bgcolor": "white",
          "plot_bgcolor": "#E5ECF6",
          "polar": {
           "angularaxis": {
            "gridcolor": "white",
            "linecolor": "white",
            "ticks": ""
           },
           "bgcolor": "#E5ECF6",
           "radialaxis": {
            "gridcolor": "white",
            "linecolor": "white",
            "ticks": ""
           }
          },
          "scene": {
           "xaxis": {
            "backgroundcolor": "#E5ECF6",
            "gridcolor": "white",
            "gridwidth": 2,
            "linecolor": "white",
            "showbackground": true,
            "ticks": "",
            "zerolinecolor": "white"
           },
           "yaxis": {
            "backgroundcolor": "#E5ECF6",
            "gridcolor": "white",
            "gridwidth": 2,
            "linecolor": "white",
            "showbackground": true,
            "ticks": "",
            "zerolinecolor": "white"
           },
           "zaxis": {
            "backgroundcolor": "#E5ECF6",
            "gridcolor": "white",
            "gridwidth": 2,
            "linecolor": "white",
            "showbackground": true,
            "ticks": "",
            "zerolinecolor": "white"
           }
          },
          "shapedefaults": {
           "line": {
            "color": "#2a3f5f"
           }
          },
          "ternary": {
           "aaxis": {
            "gridcolor": "white",
            "linecolor": "white",
            "ticks": ""
           },
           "baxis": {
            "gridcolor": "white",
            "linecolor": "white",
            "ticks": ""
           },
           "bgcolor": "#E5ECF6",
           "caxis": {
            "gridcolor": "white",
            "linecolor": "white",
            "ticks": ""
           }
          },
          "title": {
           "x": 0.05
          },
          "xaxis": {
           "automargin": true,
           "gridcolor": "white",
           "linecolor": "white",
           "ticks": "",
           "title": {
            "standoff": 15
           },
           "zerolinecolor": "white",
           "zerolinewidth": 2
          },
          "yaxis": {
           "automargin": true,
           "gridcolor": "white",
           "linecolor": "white",
           "ticks": "",
           "title": {
            "standoff": 15
           },
           "zerolinecolor": "white",
           "zerolinewidth": 2
          }
         }
        },
        "xaxis": {
         "anchor": "y",
         "domain": [
          0.0,
          1.0
         ],
         "title": {
          "text": "Rok"
         }
        },
        "yaxis": {
         "anchor": "x",
         "domain": [
          0.0,
          1.0
         ],
         "title": {
          "text": "Wartosc"
         }
        },
        "legend": {
         "title": {
          "text": "Nazwa"
         },
         "tracegroupgap": 0
        },
        "title": {
         "text": "Good with highest variance: komputer osobisty z dostępem do Internetu"
        }
       },
       "config": {
        "plotlyServerURL": "https://plot.ly"
       }
      },
      "text/html": "<div>                            <div id=\"935a99ba-1d9e-49d4-8220-a349955b6b6c\" class=\"plotly-graph-div\" style=\"height:525px; width:100%;\"></div>            <script type=\"text/javascript\">                require([\"plotly\"], function(Plotly) {                    window.PLOTLYENV=window.PLOTLYENV || {};                                    if (document.getElementById(\"935a99ba-1d9e-49d4-8220-a349955b6b6c\")) {                    Plotly.newPlot(                        \"935a99ba-1d9e-49d4-8220-a349955b6b6c\",                        [{\"hovertemplate\":\"<b>%{hovertext}</b><br><br>Nazwa=POLSKA<br>Rok=%{x}<br>Wartosc=%{y}<extra></extra>\",\"hovertext\":[\"POLSKA\",\"POLSKA\",\"POLSKA\",\"POLSKA\",\"POLSKA\",\"POLSKA\",\"POLSKA\",\"POLSKA\",\"POLSKA\",\"POLSKA\",\"POLSKA\",\"POLSKA\",\"POLSKA\",\"POLSKA\",\"POLSKA\"],\"legendgroup\":\"POLSKA\",\"line\":{\"color\":\"#636efa\",\"dash\":\"solid\",\"shape\":\"spline\"},\"marker\":{\"symbol\":\"circle\"},\"mode\":\"lines\",\"name\":\"POLSKA\",\"orientation\":\"v\",\"showlegend\":true,\"x\":[2003,2004,2005,2006,2007,2008,2009,2010,2011,2012,2013,2014,2015,2016,2017],\"xaxis\":\"x\",\"y\":[12.8,16.9,22.5,28.4,36.6,45.7,53.4,59.6,62.3,64.7,68.8,71.2,72.8,74.0,74.8],\"yaxis\":\"y\",\"type\":\"scatter\"},{\"hovertemplate\":\"<b>%{hovertext}</b><br><br>Nazwa=DOLNO\\u015aL\\u0104SKIE<br>Rok=%{x}<br>Wartosc=%{y}<extra></extra>\",\"hovertext\":[\"DOLNO\\u015aL\\u0104SKIE\",\"DOLNO\\u015aL\\u0104SKIE\",\"DOLNO\\u015aL\\u0104SKIE\",\"DOLNO\\u015aL\\u0104SKIE\",\"DOLNO\\u015aL\\u0104SKIE\",\"DOLNO\\u015aL\\u0104SKIE\",\"DOLNO\\u015aL\\u0104SKIE\",\"DOLNO\\u015aL\\u0104SKIE\",\"DOLNO\\u015aL\\u0104SKIE\",\"DOLNO\\u015aL\\u0104SKIE\",\"DOLNO\\u015aL\\u0104SKIE\",\"DOLNO\\u015aL\\u0104SKIE\",\"DOLNO\\u015aL\\u0104SKIE\",\"DOLNO\\u015aL\\u0104SKIE\",\"DOLNO\\u015aL\\u0104SKIE\"],\"legendgroup\":\"DOLNO\\u015aL\\u0104SKIE\",\"line\":{\"color\":\"#EF553B\",\"dash\":\"solid\",\"shape\":\"spline\"},\"marker\":{\"symbol\":\"circle\"},\"mode\":\"lines\",\"name\":\"DOLNO\\u015aL\\u0104SKIE\",\"orientation\":\"v\",\"showlegend\":true,\"x\":[2003,2004,2005,2006,2007,2008,2009,2010,2011,2012,2013,2014,2015,2016,2017],\"xaxis\":\"x\",\"y\":[13.9,17.1,22.7,28.4,36.2,46.4,53.6,59.3,60.9,62.6,66.0,68.4,72.2,72.9,73.4],\"yaxis\":\"y\",\"type\":\"scatter\"},{\"hovertemplate\":\"<b>%{hovertext}</b><br><br>Nazwa=KUJAWSKO-POMORSKIE<br>Rok=%{x}<br>Wartosc=%{y}<extra></extra>\",\"hovertext\":[\"KUJAWSKO-POMORSKIE\",\"KUJAWSKO-POMORSKIE\",\"KUJAWSKO-POMORSKIE\",\"KUJAWSKO-POMORSKIE\",\"KUJAWSKO-POMORSKIE\",\"KUJAWSKO-POMORSKIE\",\"KUJAWSKO-POMORSKIE\",\"KUJAWSKO-POMORSKIE\",\"KUJAWSKO-POMORSKIE\",\"KUJAWSKO-POMORSKIE\",\"KUJAWSKO-POMORSKIE\",\"KUJAWSKO-POMORSKIE\",\"KUJAWSKO-POMORSKIE\",\"KUJAWSKO-POMORSKIE\",\"KUJAWSKO-POMORSKIE\"],\"legendgroup\":\"KUJAWSKO-POMORSKIE\",\"line\":{\"color\":\"#00cc96\",\"dash\":\"solid\",\"shape\":\"spline\"},\"marker\":{\"symbol\":\"circle\"},\"mode\":\"lines\",\"name\":\"KUJAWSKO-POMORSKIE\",\"orientation\":\"v\",\"showlegend\":true,\"x\":[2003,2004,2005,2006,2007,2008,2009,2010,2011,2012,2013,2014,2015,2016,2017],\"xaxis\":\"x\",\"y\":[9.9,14.9,16.8,20.8,33.6,43.1,53.7,58.6,59.5,59.2,64.5,70.2,69.5,74.4,74.3],\"yaxis\":\"y\",\"type\":\"scatter\"},{\"hovertemplate\":\"<b>%{hovertext}</b><br><br>Nazwa=LUBELSKIE<br>Rok=%{x}<br>Wartosc=%{y}<extra></extra>\",\"hovertext\":[\"LUBELSKIE\",\"LUBELSKIE\",\"LUBELSKIE\",\"LUBELSKIE\",\"LUBELSKIE\",\"LUBELSKIE\",\"LUBELSKIE\",\"LUBELSKIE\",\"LUBELSKIE\",\"LUBELSKIE\",\"LUBELSKIE\",\"LUBELSKIE\",\"LUBELSKIE\",\"LUBELSKIE\",\"LUBELSKIE\"],\"legendgroup\":\"LUBELSKIE\",\"line\":{\"color\":\"#ab63fa\",\"dash\":\"solid\",\"shape\":\"spline\"},\"marker\":{\"symbol\":\"circle\"},\"mode\":\"lines\",\"name\":\"LUBELSKIE\",\"orientation\":\"v\",\"showlegend\":true,\"x\":[2003,2004,2005,2006,2007,2008,2009,2010,2011,2012,2013,2014,2015,2016,2017],\"xaxis\":\"x\",\"y\":[10.7,14.6,16.4,19.4,28.1,36.4,46.0,50.6,55.4,59.5,65.4,67.9,68.4,69.5,68.5],\"yaxis\":\"y\",\"type\":\"scatter\"},{\"hovertemplate\":\"<b>%{hovertext}</b><br><br>Nazwa=LUBUSKIE<br>Rok=%{x}<br>Wartosc=%{y}<extra></extra>\",\"hovertext\":[\"LUBUSKIE\",\"LUBUSKIE\",\"LUBUSKIE\",\"LUBUSKIE\",\"LUBUSKIE\",\"LUBUSKIE\",\"LUBUSKIE\",\"LUBUSKIE\",\"LUBUSKIE\",\"LUBUSKIE\",\"LUBUSKIE\",\"LUBUSKIE\",\"LUBUSKIE\",\"LUBUSKIE\",\"LUBUSKIE\"],\"legendgroup\":\"LUBUSKIE\",\"line\":{\"color\":\"#FFA15A\",\"dash\":\"solid\",\"shape\":\"spline\"},\"marker\":{\"symbol\":\"circle\"},\"mode\":\"lines\",\"name\":\"LUBUSKIE\",\"orientation\":\"v\",\"showlegend\":true,\"x\":[2003,2004,2005,2006,2007,2008,2009,2010,2011,2012,2013,2014,2015,2016,2017],\"xaxis\":\"x\",\"y\":[9.7,13.1,24.5,31.1,34.7,45.8,55.9,60.5,59.9,59.7,65.9,71.0,74.1,75.1,74.1],\"yaxis\":\"y\",\"type\":\"scatter\"},{\"hovertemplate\":\"<b>%{hovertext}</b><br><br>Nazwa=\\u0141\\u00d3DZKIE<br>Rok=%{x}<br>Wartosc=%{y}<extra></extra>\",\"hovertext\":[\"\\u0141\\u00d3DZKIE\",\"\\u0141\\u00d3DZKIE\",\"\\u0141\\u00d3DZKIE\",\"\\u0141\\u00d3DZKIE\",\"\\u0141\\u00d3DZKIE\",\"\\u0141\\u00d3DZKIE\",\"\\u0141\\u00d3DZKIE\",\"\\u0141\\u00d3DZKIE\",\"\\u0141\\u00d3DZKIE\",\"\\u0141\\u00d3DZKIE\",\"\\u0141\\u00d3DZKIE\",\"\\u0141\\u00d3DZKIE\",\"\\u0141\\u00d3DZKIE\",\"\\u0141\\u00d3DZKIE\",\"\\u0141\\u00d3DZKIE\"],\"legendgroup\":\"\\u0141\\u00d3DZKIE\",\"line\":{\"color\":\"#19d3f3\",\"dash\":\"solid\",\"shape\":\"spline\"},\"marker\":{\"symbol\":\"circle\"},\"mode\":\"lines\",\"name\":\"\\u0141\\u00d3DZKIE\",\"orientation\":\"v\",\"showlegend\":true,\"x\":[2003,2004,2005,2006,2007,2008,2009,2010,2011,2012,2013,2014,2015,2016,2017],\"xaxis\":\"x\",\"y\":[12.2,14.4,18.4,25.4,32.5,40.6,47.0,52.3,54.9,59.2,62.8,67.3,71.1,71.8,70.8],\"yaxis\":\"y\",\"type\":\"scatter\"},{\"hovertemplate\":\"<b>%{hovertext}</b><br><br>Nazwa=MA\\u0141OPOLSKIE<br>Rok=%{x}<br>Wartosc=%{y}<extra></extra>\",\"hovertext\":[\"MA\\u0141OPOLSKIE\",\"MA\\u0141OPOLSKIE\",\"MA\\u0141OPOLSKIE\",\"MA\\u0141OPOLSKIE\",\"MA\\u0141OPOLSKIE\",\"MA\\u0141OPOLSKIE\",\"MA\\u0141OPOLSKIE\",\"MA\\u0141OPOLSKIE\",\"MA\\u0141OPOLSKIE\",\"MA\\u0141OPOLSKIE\",\"MA\\u0141OPOLSKIE\",\"MA\\u0141OPOLSKIE\",\"MA\\u0141OPOLSKIE\",\"MA\\u0141OPOLSKIE\",\"MA\\u0141OPOLSKIE\"],\"legendgroup\":\"MA\\u0141OPOLSKIE\",\"line\":{\"color\":\"#FF6692\",\"dash\":\"solid\",\"shape\":\"spline\"},\"marker\":{\"symbol\":\"circle\"},\"mode\":\"lines\",\"name\":\"MA\\u0141OPOLSKIE\",\"orientation\":\"v\",\"showlegend\":true,\"x\":[2003,2004,2005,2006,2007,2008,2009,2010,2011,2012,2013,2014,2015,2016,2017],\"xaxis\":\"x\",\"y\":[12.5,20.0,27.7,32.5,41.8,51.0,57.4,63.6,64.2,67.2,72.7,74.6,75.2,76.1,78.1],\"yaxis\":\"y\",\"type\":\"scatter\"},{\"hovertemplate\":\"<b>%{hovertext}</b><br><br>Nazwa=MAZOWIECKIE<br>Rok=%{x}<br>Wartosc=%{y}<extra></extra>\",\"hovertext\":[\"MAZOWIECKIE\",\"MAZOWIECKIE\",\"MAZOWIECKIE\",\"MAZOWIECKIE\",\"MAZOWIECKIE\",\"MAZOWIECKIE\",\"MAZOWIECKIE\",\"MAZOWIECKIE\",\"MAZOWIECKIE\",\"MAZOWIECKIE\",\"MAZOWIECKIE\",\"MAZOWIECKIE\",\"MAZOWIECKIE\",\"MAZOWIECKIE\",\"MAZOWIECKIE\"],\"legendgroup\":\"MAZOWIECKIE\",\"line\":{\"color\":\"#B6E880\",\"dash\":\"solid\",\"shape\":\"spline\"},\"marker\":{\"symbol\":\"circle\"},\"mode\":\"lines\",\"name\":\"MAZOWIECKIE\",\"orientation\":\"v\",\"showlegend\":true,\"x\":[2003,2004,2005,2006,2007,2008,2009,2010,2011,2012,2013,2014,2015,2016,2017],\"xaxis\":\"x\",\"y\":[16.0,20.2,26.9,32.5,40.5,49.4,56.5,64.2,67.5,69.2,73.0,75.5,77.3,77.5,78.6],\"yaxis\":\"y\",\"type\":\"scatter\"},{\"hovertemplate\":\"<b>%{hovertext}</b><br><br>Nazwa=OPOLSKIE<br>Rok=%{x}<br>Wartosc=%{y}<extra></extra>\",\"hovertext\":[\"OPOLSKIE\",\"OPOLSKIE\",\"OPOLSKIE\",\"OPOLSKIE\",\"OPOLSKIE\",\"OPOLSKIE\",\"OPOLSKIE\",\"OPOLSKIE\",\"OPOLSKIE\",\"OPOLSKIE\",\"OPOLSKIE\",\"OPOLSKIE\",\"OPOLSKIE\",\"OPOLSKIE\",\"OPOLSKIE\"],\"legendgroup\":\"OPOLSKIE\",\"line\":{\"color\":\"#FF97FF\",\"dash\":\"solid\",\"shape\":\"spline\"},\"marker\":{\"symbol\":\"circle\"},\"mode\":\"lines\",\"name\":\"OPOLSKIE\",\"orientation\":\"v\",\"showlegend\":true,\"x\":[2003,2004,2005,2006,2007,2008,2009,2010,2011,2012,2013,2014,2015,2016,2017],\"xaxis\":\"x\",\"y\":[8.8,13.1,19.3,23.9,34.3,44.1,52.5,57.3,63.4,66.7,66.5,66.7,68.6,70.8,71.4],\"yaxis\":\"y\",\"type\":\"scatter\"},{\"hovertemplate\":\"<b>%{hovertext}</b><br><br>Nazwa=PODKARPACKIE<br>Rok=%{x}<br>Wartosc=%{y}<extra></extra>\",\"hovertext\":[\"PODKARPACKIE\",\"PODKARPACKIE\",\"PODKARPACKIE\",\"PODKARPACKIE\",\"PODKARPACKIE\",\"PODKARPACKIE\",\"PODKARPACKIE\",\"PODKARPACKIE\",\"PODKARPACKIE\",\"PODKARPACKIE\",\"PODKARPACKIE\",\"PODKARPACKIE\",\"PODKARPACKIE\",\"PODKARPACKIE\",\"PODKARPACKIE\"],\"legendgroup\":\"PODKARPACKIE\",\"line\":{\"color\":\"#FECB52\",\"dash\":\"solid\",\"shape\":\"spline\"},\"marker\":{\"symbol\":\"circle\"},\"mode\":\"lines\",\"name\":\"PODKARPACKIE\",\"orientation\":\"v\",\"showlegend\":true,\"x\":[2003,2004,2005,2006,2007,2008,2009,2010,2011,2012,2013,2014,2015,2016,2017],\"xaxis\":\"x\",\"y\":[12.3,15.8,22.0,24.8,30.9,41.9,50.4,59.5,62.2,62.6,67.6,71.4,73.8,74.8,74.9],\"yaxis\":\"y\",\"type\":\"scatter\"},{\"hovertemplate\":\"<b>%{hovertext}</b><br><br>Nazwa=PODLASKIE<br>Rok=%{x}<br>Wartosc=%{y}<extra></extra>\",\"hovertext\":[\"PODLASKIE\",\"PODLASKIE\",\"PODLASKIE\",\"PODLASKIE\",\"PODLASKIE\",\"PODLASKIE\",\"PODLASKIE\",\"PODLASKIE\",\"PODLASKIE\",\"PODLASKIE\",\"PODLASKIE\",\"PODLASKIE\",\"PODLASKIE\",\"PODLASKIE\",\"PODLASKIE\"],\"legendgroup\":\"PODLASKIE\",\"line\":{\"color\":\"#636efa\",\"dash\":\"solid\",\"shape\":\"spline\"},\"marker\":{\"symbol\":\"circle\"},\"mode\":\"lines\",\"name\":\"PODLASKIE\",\"orientation\":\"v\",\"showlegend\":true,\"x\":[2003,2004,2005,2006,2007,2008,2009,2010,2011,2012,2013,2014,2015,2016,2017],\"xaxis\":\"x\",\"y\":[15.3,17.4,19.7,28.0,33.9,44.1,51.5,52.6,57.5,59.4,61.0,65.4,67.1,66.4,66.6],\"yaxis\":\"y\",\"type\":\"scatter\"},{\"hovertemplate\":\"<b>%{hovertext}</b><br><br>Nazwa=POMORSKIE<br>Rok=%{x}<br>Wartosc=%{y}<extra></extra>\",\"hovertext\":[\"POMORSKIE\",\"POMORSKIE\",\"POMORSKIE\",\"POMORSKIE\",\"POMORSKIE\",\"POMORSKIE\",\"POMORSKIE\",\"POMORSKIE\",\"POMORSKIE\",\"POMORSKIE\",\"POMORSKIE\",\"POMORSKIE\",\"POMORSKIE\",\"POMORSKIE\",\"POMORSKIE\"],\"legendgroup\":\"POMORSKIE\",\"line\":{\"color\":\"#EF553B\",\"dash\":\"solid\",\"shape\":\"spline\"},\"marker\":{\"symbol\":\"circle\"},\"mode\":\"lines\",\"name\":\"POMORSKIE\",\"orientation\":\"v\",\"showlegend\":true,\"x\":[2003,2004,2005,2006,2007,2008,2009,2010,2011,2012,2013,2014,2015,2016,2017],\"xaxis\":\"x\",\"y\":[18.0,21.8,24.8,37.3,47.0,53.0,58.0,64.2,69.4,71.0,76.1,76.6,75.1,76.5,76.8],\"yaxis\":\"y\",\"type\":\"scatter\"},{\"hovertemplate\":\"<b>%{hovertext}</b><br><br>Nazwa=\\u015aL\\u0104SKIE<br>Rok=%{x}<br>Wartosc=%{y}<extra></extra>\",\"hovertext\":[\"\\u015aL\\u0104SKIE\",\"\\u015aL\\u0104SKIE\",\"\\u015aL\\u0104SKIE\",\"\\u015aL\\u0104SKIE\",\"\\u015aL\\u0104SKIE\",\"\\u015aL\\u0104SKIE\",\"\\u015aL\\u0104SKIE\",\"\\u015aL\\u0104SKIE\",\"\\u015aL\\u0104SKIE\",\"\\u015aL\\u0104SKIE\",\"\\u015aL\\u0104SKIE\",\"\\u015aL\\u0104SKIE\",\"\\u015aL\\u0104SKIE\",\"\\u015aL\\u0104SKIE\",\"\\u015aL\\u0104SKIE\"],\"legendgroup\":\"\\u015aL\\u0104SKIE\",\"line\":{\"color\":\"#00cc96\",\"dash\":\"solid\",\"shape\":\"spline\"},\"marker\":{\"symbol\":\"circle\"},\"mode\":\"lines\",\"name\":\"\\u015aL\\u0104SKIE\",\"orientation\":\"v\",\"showlegend\":true,\"x\":[2003,2004,2005,2006,2007,2008,2009,2010,2011,2012,2013,2014,2015,2016,2017],\"xaxis\":\"x\",\"y\":[12.6,18.3,27.3,33.9,42.2,51.3,57.6,64.1,65.2,67.9,72.9,72.5,75.1,75.5,77.0],\"yaxis\":\"y\",\"type\":\"scatter\"},{\"hovertemplate\":\"<b>%{hovertext}</b><br><br>Nazwa=\\u015aWI\\u0118TOKRZYSKIE<br>Rok=%{x}<br>Wartosc=%{y}<extra></extra>\",\"hovertext\":[\"\\u015aWI\\u0118TOKRZYSKIE\",\"\\u015aWI\\u0118TOKRZYSKIE\",\"\\u015aWI\\u0118TOKRZYSKIE\",\"\\u015aWI\\u0118TOKRZYSKIE\",\"\\u015aWI\\u0118TOKRZYSKIE\",\"\\u015aWI\\u0118TOKRZYSKIE\",\"\\u015aWI\\u0118TOKRZYSKIE\",\"\\u015aWI\\u0118TOKRZYSKIE\",\"\\u015aWI\\u0118TOKRZYSKIE\",\"\\u015aWI\\u0118TOKRZYSKIE\",\"\\u015aWI\\u0118TOKRZYSKIE\",\"\\u015aWI\\u0118TOKRZYSKIE\",\"\\u015aWI\\u0118TOKRZYSKIE\",\"\\u015aWI\\u0118TOKRZYSKIE\",\"\\u015aWI\\u0118TOKRZYSKIE\"],\"legendgroup\":\"\\u015aWI\\u0118TOKRZYSKIE\",\"line\":{\"color\":\"#ab63fa\",\"dash\":\"solid\",\"shape\":\"spline\"},\"marker\":{\"symbol\":\"circle\"},\"mode\":\"lines\",\"name\":\"\\u015aWI\\u0118TOKRZYSKIE\",\"orientation\":\"v\",\"showlegend\":true,\"x\":[2003,2004,2005,2006,2007,2008,2009,2010,2011,2012,2013,2014,2015,2016,2017],\"xaxis\":\"x\",\"y\":[7.7,11.0,13.5,18.2,22.2,32.5,43.3,52.2,52.5,56.7,64.3,65.0,65.7,67.1,68.2],\"yaxis\":\"y\",\"type\":\"scatter\"},{\"hovertemplate\":\"<b>%{hovertext}</b><br><br>Nazwa=WARMI\\u0143SKO-MAZURSKIE<br>Rok=%{x}<br>Wartosc=%{y}<extra></extra>\",\"hovertext\":[\"WARMI\\u0143SKO-MAZURSKIE\",\"WARMI\\u0143SKO-MAZURSKIE\",\"WARMI\\u0143SKO-MAZURSKIE\",\"WARMI\\u0143SKO-MAZURSKIE\",\"WARMI\\u0143SKO-MAZURSKIE\",\"WARMI\\u0143SKO-MAZURSKIE\",\"WARMI\\u0143SKO-MAZURSKIE\",\"WARMI\\u0143SKO-MAZURSKIE\",\"WARMI\\u0143SKO-MAZURSKIE\",\"WARMI\\u0143SKO-MAZURSKIE\",\"WARMI\\u0143SKO-MAZURSKIE\",\"WARMI\\u0143SKO-MAZURSKIE\",\"WARMI\\u0143SKO-MAZURSKIE\",\"WARMI\\u0143SKO-MAZURSKIE\",\"WARMI\\u0143SKO-MAZURSKIE\"],\"legendgroup\":\"WARMI\\u0143SKO-MAZURSKIE\",\"line\":{\"color\":\"#FFA15A\",\"dash\":\"solid\",\"shape\":\"spline\"},\"marker\":{\"symbol\":\"circle\"},\"mode\":\"lines\",\"name\":\"WARMI\\u0143SKO-MAZURSKIE\",\"orientation\":\"v\",\"showlegend\":true,\"x\":[2003,2004,2005,2006,2007,2008,2009,2010,2011,2012,2013,2014,2015,2016,2017],\"xaxis\":\"x\",\"y\":[11.6,13.9,17.8,22.1,28.7,39.0,48.8,55.8,58.1,58.2,61.5,65.1,65.9,71.4,73.6],\"yaxis\":\"y\",\"type\":\"scatter\"},{\"hovertemplate\":\"<b>%{hovertext}</b><br><br>Nazwa=WIELKOPOLSKIE<br>Rok=%{x}<br>Wartosc=%{y}<extra></extra>\",\"hovertext\":[\"WIELKOPOLSKIE\",\"WIELKOPOLSKIE\",\"WIELKOPOLSKIE\",\"WIELKOPOLSKIE\",\"WIELKOPOLSKIE\",\"WIELKOPOLSKIE\",\"WIELKOPOLSKIE\",\"WIELKOPOLSKIE\",\"WIELKOPOLSKIE\",\"WIELKOPOLSKIE\",\"WIELKOPOLSKIE\",\"WIELKOPOLSKIE\",\"WIELKOPOLSKIE\",\"WIELKOPOLSKIE\",\"WIELKOPOLSKIE\"],\"legendgroup\":\"WIELKOPOLSKIE\",\"line\":{\"color\":\"#19d3f3\",\"dash\":\"solid\",\"shape\":\"spline\"},\"marker\":{\"symbol\":\"circle\"},\"mode\":\"lines\",\"name\":\"WIELKOPOLSKIE\",\"orientation\":\"v\",\"showlegend\":true,\"x\":[2003,2004,2005,2006,2007,2008,2009,2010,2011,2012,2013,2014,2015,2016,2017],\"xaxis\":\"x\",\"y\":[12.4,14.1,20.4,26.7,36.5,42.9,51.0,59.4,64.3,68.5,71.7,72.7,72.9,75.5,77.5],\"yaxis\":\"y\",\"type\":\"scatter\"},{\"hovertemplate\":\"<b>%{hovertext}</b><br><br>Nazwa=ZACHODNIOPOMORSKIE<br>Rok=%{x}<br>Wartosc=%{y}<extra></extra>\",\"hovertext\":[\"ZACHODNIOPOMORSKIE\",\"ZACHODNIOPOMORSKIE\",\"ZACHODNIOPOMORSKIE\",\"ZACHODNIOPOMORSKIE\",\"ZACHODNIOPOMORSKIE\",\"ZACHODNIOPOMORSKIE\",\"ZACHODNIOPOMORSKIE\",\"ZACHODNIOPOMORSKIE\",\"ZACHODNIOPOMORSKIE\",\"ZACHODNIOPOMORSKIE\",\"ZACHODNIOPOMORSKIE\",\"ZACHODNIOPOMORSKIE\",\"ZACHODNIOPOMORSKIE\",\"ZACHODNIOPOMORSKIE\",\"ZACHODNIOPOMORSKIE\"],\"legendgroup\":\"ZACHODNIOPOMORSKIE\",\"line\":{\"color\":\"#FF6692\",\"dash\":\"solid\",\"shape\":\"spline\"},\"marker\":{\"symbol\":\"circle\"},\"mode\":\"lines\",\"name\":\"ZACHODNIOPOMORSKIE\",\"orientation\":\"v\",\"showlegend\":true,\"x\":[2003,2004,2005,2006,2007,2008,2009,2010,2011,2012,2013,2014,2015,2016,2017],\"xaxis\":\"x\",\"y\":[12.1,16.2,20.3,27.6,35.6,46.4,55.3,57.4,61.0,64.0,65.5,68.2,70.6,71.5,72.1],\"yaxis\":\"y\",\"type\":\"scatter\"}],                        {\"template\":{\"data\":{\"bar\":[{\"error_x\":{\"color\":\"#2a3f5f\"},\"error_y\":{\"color\":\"#2a3f5f\"},\"marker\":{\"line\":{\"color\":\"#E5ECF6\",\"width\":0.5},\"pattern\":{\"fillmode\":\"overlay\",\"size\":10,\"solidity\":0.2}},\"type\":\"bar\"}],\"barpolar\":[{\"marker\":{\"line\":{\"color\":\"#E5ECF6\",\"width\":0.5},\"pattern\":{\"fillmode\":\"overlay\",\"size\":10,\"solidity\":0.2}},\"type\":\"barpolar\"}],\"carpet\":[{\"aaxis\":{\"endlinecolor\":\"#2a3f5f\",\"gridcolor\":\"white\",\"linecolor\":\"white\",\"minorgridcolor\":\"white\",\"startlinecolor\":\"#2a3f5f\"},\"baxis\":{\"endlinecolor\":\"#2a3f5f\",\"gridcolor\":\"white\",\"linecolor\":\"white\",\"minorgridcolor\":\"white\",\"startlinecolor\":\"#2a3f5f\"},\"type\":\"carpet\"}],\"choropleth\":[{\"colorbar\":{\"outlinewidth\":0,\"ticks\":\"\"},\"type\":\"choropleth\"}],\"contour\":[{\"colorbar\":{\"outlinewidth\":0,\"ticks\":\"\"},\"colorscale\":[[0.0,\"#0d0887\"],[0.1111111111111111,\"#46039f\"],[0.2222222222222222,\"#7201a8\"],[0.3333333333333333,\"#9c179e\"],[0.4444444444444444,\"#bd3786\"],[0.5555555555555556,\"#d8576b\"],[0.6666666666666666,\"#ed7953\"],[0.7777777777777778,\"#fb9f3a\"],[0.8888888888888888,\"#fdca26\"],[1.0,\"#f0f921\"]],\"type\":\"contour\"}],\"contourcarpet\":[{\"colorbar\":{\"outlinewidth\":0,\"ticks\":\"\"},\"type\":\"contourcarpet\"}],\"heatmap\":[{\"colorbar\":{\"outlinewidth\":0,\"ticks\":\"\"},\"colorscale\":[[0.0,\"#0d0887\"],[0.1111111111111111,\"#46039f\"],[0.2222222222222222,\"#7201a8\"],[0.3333333333333333,\"#9c179e\"],[0.4444444444444444,\"#bd3786\"],[0.5555555555555556,\"#d8576b\"],[0.6666666666666666,\"#ed7953\"],[0.7777777777777778,\"#fb9f3a\"],[0.8888888888888888,\"#fdca26\"],[1.0,\"#f0f921\"]],\"type\":\"heatmap\"}],\"heatmapgl\":[{\"colorbar\":{\"outlinewidth\":0,\"ticks\":\"\"},\"colorscale\":[[0.0,\"#0d0887\"],[0.1111111111111111,\"#46039f\"],[0.2222222222222222,\"#7201a8\"],[0.3333333333333333,\"#9c179e\"],[0.4444444444444444,\"#bd3786\"],[0.5555555555555556,\"#d8576b\"],[0.6666666666666666,\"#ed7953\"],[0.7777777777777778,\"#fb9f3a\"],[0.8888888888888888,\"#fdca26\"],[1.0,\"#f0f921\"]],\"type\":\"heatmapgl\"}],\"histogram\":[{\"marker\":{\"pattern\":{\"fillmode\":\"overlay\",\"size\":10,\"solidity\":0.2}},\"type\":\"histogram\"}],\"histogram2d\":[{\"colorbar\":{\"outlinewidth\":0,\"ticks\":\"\"},\"colorscale\":[[0.0,\"#0d0887\"],[0.1111111111111111,\"#46039f\"],[0.2222222222222222,\"#7201a8\"],[0.3333333333333333,\"#9c179e\"],[0.4444444444444444,\"#bd3786\"],[0.5555555555555556,\"#d8576b\"],[0.6666666666666666,\"#ed7953\"],[0.7777777777777778,\"#fb9f3a\"],[0.8888888888888888,\"#fdca26\"],[1.0,\"#f0f921\"]],\"type\":\"histogram2d\"}],\"histogram2dcontour\":[{\"colorbar\":{\"outlinewidth\":0,\"ticks\":\"\"},\"colorscale\":[[0.0,\"#0d0887\"],[0.1111111111111111,\"#46039f\"],[0.2222222222222222,\"#7201a8\"],[0.3333333333333333,\"#9c179e\"],[0.4444444444444444,\"#bd3786\"],[0.5555555555555556,\"#d8576b\"],[0.6666666666666666,\"#ed7953\"],[0.7777777777777778,\"#fb9f3a\"],[0.8888888888888888,\"#fdca26\"],[1.0,\"#f0f921\"]],\"type\":\"histogram2dcontour\"}],\"mesh3d\":[{\"colorbar\":{\"outlinewidth\":0,\"ticks\":\"\"},\"type\":\"mesh3d\"}],\"parcoords\":[{\"line\":{\"colorbar\":{\"outlinewidth\":0,\"ticks\":\"\"}},\"type\":\"parcoords\"}],\"pie\":[{\"automargin\":true,\"type\":\"pie\"}],\"scatter\":[{\"marker\":{\"colorbar\":{\"outlinewidth\":0,\"ticks\":\"\"}},\"type\":\"scatter\"}],\"scatter3d\":[{\"line\":{\"colorbar\":{\"outlinewidth\":0,\"ticks\":\"\"}},\"marker\":{\"colorbar\":{\"outlinewidth\":0,\"ticks\":\"\"}},\"type\":\"scatter3d\"}],\"scattercarpet\":[{\"marker\":{\"colorbar\":{\"outlinewidth\":0,\"ticks\":\"\"}},\"type\":\"scattercarpet\"}],\"scattergeo\":[{\"marker\":{\"colorbar\":{\"outlinewidth\":0,\"ticks\":\"\"}},\"type\":\"scattergeo\"}],\"scattergl\":[{\"marker\":{\"colorbar\":{\"outlinewidth\":0,\"ticks\":\"\"}},\"type\":\"scattergl\"}],\"scattermapbox\":[{\"marker\":{\"colorbar\":{\"outlinewidth\":0,\"ticks\":\"\"}},\"type\":\"scattermapbox\"}],\"scatterpolar\":[{\"marker\":{\"colorbar\":{\"outlinewidth\":0,\"ticks\":\"\"}},\"type\":\"scatterpolar\"}],\"scatterpolargl\":[{\"marker\":{\"colorbar\":{\"outlinewidth\":0,\"ticks\":\"\"}},\"type\":\"scatterpolargl\"}],\"scatterternary\":[{\"marker\":{\"colorbar\":{\"outlinewidth\":0,\"ticks\":\"\"}},\"type\":\"scatterternary\"}],\"surface\":[{\"colorbar\":{\"outlinewidth\":0,\"ticks\":\"\"},\"colorscale\":[[0.0,\"#0d0887\"],[0.1111111111111111,\"#46039f\"],[0.2222222222222222,\"#7201a8\"],[0.3333333333333333,\"#9c179e\"],[0.4444444444444444,\"#bd3786\"],[0.5555555555555556,\"#d8576b\"],[0.6666666666666666,\"#ed7953\"],[0.7777777777777778,\"#fb9f3a\"],[0.8888888888888888,\"#fdca26\"],[1.0,\"#f0f921\"]],\"type\":\"surface\"}],\"table\":[{\"cells\":{\"fill\":{\"color\":\"#EBF0F8\"},\"line\":{\"color\":\"white\"}},\"header\":{\"fill\":{\"color\":\"#C8D4E3\"},\"line\":{\"color\":\"white\"}},\"type\":\"table\"}]},\"layout\":{\"annotationdefaults\":{\"arrowcolor\":\"#2a3f5f\",\"arrowhead\":0,\"arrowwidth\":1},\"autotypenumbers\":\"strict\",\"coloraxis\":{\"colorbar\":{\"outlinewidth\":0,\"ticks\":\"\"}},\"colorscale\":{\"diverging\":[[0,\"#8e0152\"],[0.1,\"#c51b7d\"],[0.2,\"#de77ae\"],[0.3,\"#f1b6da\"],[0.4,\"#fde0ef\"],[0.5,\"#f7f7f7\"],[0.6,\"#e6f5d0\"],[0.7,\"#b8e186\"],[0.8,\"#7fbc41\"],[0.9,\"#4d9221\"],[1,\"#276419\"]],\"sequential\":[[0.0,\"#0d0887\"],[0.1111111111111111,\"#46039f\"],[0.2222222222222222,\"#7201a8\"],[0.3333333333333333,\"#9c179e\"],[0.4444444444444444,\"#bd3786\"],[0.5555555555555556,\"#d8576b\"],[0.6666666666666666,\"#ed7953\"],[0.7777777777777778,\"#fb9f3a\"],[0.8888888888888888,\"#fdca26\"],[1.0,\"#f0f921\"]],\"sequentialminus\":[[0.0,\"#0d0887\"],[0.1111111111111111,\"#46039f\"],[0.2222222222222222,\"#7201a8\"],[0.3333333333333333,\"#9c179e\"],[0.4444444444444444,\"#bd3786\"],[0.5555555555555556,\"#d8576b\"],[0.6666666666666666,\"#ed7953\"],[0.7777777777777778,\"#fb9f3a\"],[0.8888888888888888,\"#fdca26\"],[1.0,\"#f0f921\"]]},\"colorway\":[\"#636efa\",\"#EF553B\",\"#00cc96\",\"#ab63fa\",\"#FFA15A\",\"#19d3f3\",\"#FF6692\",\"#B6E880\",\"#FF97FF\",\"#FECB52\"],\"font\":{\"color\":\"#2a3f5f\"},\"geo\":{\"bgcolor\":\"white\",\"lakecolor\":\"white\",\"landcolor\":\"#E5ECF6\",\"showlakes\":true,\"showland\":true,\"subunitcolor\":\"white\"},\"hoverlabel\":{\"align\":\"left\"},\"hovermode\":\"closest\",\"mapbox\":{\"style\":\"light\"},\"paper_bgcolor\":\"white\",\"plot_bgcolor\":\"#E5ECF6\",\"polar\":{\"angularaxis\":{\"gridcolor\":\"white\",\"linecolor\":\"white\",\"ticks\":\"\"},\"bgcolor\":\"#E5ECF6\",\"radialaxis\":{\"gridcolor\":\"white\",\"linecolor\":\"white\",\"ticks\":\"\"}},\"scene\":{\"xaxis\":{\"backgroundcolor\":\"#E5ECF6\",\"gridcolor\":\"white\",\"gridwidth\":2,\"linecolor\":\"white\",\"showbackground\":true,\"ticks\":\"\",\"zerolinecolor\":\"white\"},\"yaxis\":{\"backgroundcolor\":\"#E5ECF6\",\"gridcolor\":\"white\",\"gridwidth\":2,\"linecolor\":\"white\",\"showbackground\":true,\"ticks\":\"\",\"zerolinecolor\":\"white\"},\"zaxis\":{\"backgroundcolor\":\"#E5ECF6\",\"gridcolor\":\"white\",\"gridwidth\":2,\"linecolor\":\"white\",\"showbackground\":true,\"ticks\":\"\",\"zerolinecolor\":\"white\"}},\"shapedefaults\":{\"line\":{\"color\":\"#2a3f5f\"}},\"ternary\":{\"aaxis\":{\"gridcolor\":\"white\",\"linecolor\":\"white\",\"ticks\":\"\"},\"baxis\":{\"gridcolor\":\"white\",\"linecolor\":\"white\",\"ticks\":\"\"},\"bgcolor\":\"#E5ECF6\",\"caxis\":{\"gridcolor\":\"white\",\"linecolor\":\"white\",\"ticks\":\"\"}},\"title\":{\"x\":0.05},\"xaxis\":{\"automargin\":true,\"gridcolor\":\"white\",\"linecolor\":\"white\",\"ticks\":\"\",\"title\":{\"standoff\":15},\"zerolinecolor\":\"white\",\"zerolinewidth\":2},\"yaxis\":{\"automargin\":true,\"gridcolor\":\"white\",\"linecolor\":\"white\",\"ticks\":\"\",\"title\":{\"standoff\":15},\"zerolinecolor\":\"white\",\"zerolinewidth\":2}}},\"xaxis\":{\"anchor\":\"y\",\"domain\":[0.0,1.0],\"title\":{\"text\":\"Rok\"}},\"yaxis\":{\"anchor\":\"x\",\"domain\":[0.0,1.0],\"title\":{\"text\":\"Wartosc\"}},\"legend\":{\"title\":{\"text\":\"Nazwa\"},\"tracegroupgap\":0},\"title\":{\"text\":\"Good with highest variance: komputer osobisty z dost\\u0119pem do Internetu\"}},                        {\"responsive\": true}                    ).then(function(){\n                            \nvar gd = document.getElementById('935a99ba-1d9e-49d4-8220-a349955b6b6c');\nvar x = new MutationObserver(function (mutations, observer) {{\n        var display = window.getComputedStyle(gd).display;\n        if (!display || display === 'none') {{\n            console.log([gd, 'removed!']);\n            Plotly.purge(gd);\n            observer.disconnect();\n        }}\n}});\n\n// Listen for the removal of the full notebook cells\nvar notebookContainer = gd.closest('#notebook-container');\nif (notebookContainer) {{\n    x.observe(notebookContainer, {childList: true});\n}}\n\n// Listen for the clearing of the current output cell\nvar outputEl = gd.closest('.output');\nif (outputEl) {{\n    x.observe(outputEl, {childList: true});\n}}\n\n                        })                };                });            </script>        </div>"
     },
     "metadata": {},
     "output_type": "display_data"
    }
   ],
   "source": [
    "good_with_highest_variance = max(wartosc_std.values(), key=lambda k: k.Wartosc.std())\n",
    "good_with_highest_variance_name = good_with_highest_variance.Zmienna.iloc[0]\n",
    "fig = px.line(good_with_highest_variance,\n",
    "              x=\"Rok\", y=\"Wartosc\", color=\"Nazwa\", hover_name=\"Nazwa\",title=f\"Good with highest variance: {good_with_highest_variance_name}\",\n",
    "              line_shape=\"spline\", render_mode=\"svg\")\n",
    "\n",
    "fig.show()"
   ],
   "metadata": {
    "collapsed": false,
    "pycharm": {
     "name": "#%%\n"
    }
   }
  },
  {
   "cell_type": "code",
   "execution_count": 98,
   "outputs": [
    {
     "data": {
      "text/plain": "          Kategoria      Kod               Nazwa  \\\n0      Gospodarstwa        0              POLSKA   \n1      Gospodarstwa        0              POLSKA   \n2      Gospodarstwa        0              POLSKA   \n3      Gospodarstwa        0              POLSKA   \n4      Gospodarstwa        0              POLSKA   \n...             ...      ...                 ...   \n25869       Wydatki  3200000  ZACHODNIOPOMORSKIE   \n25870       Wydatki  3200000  ZACHODNIOPOMORSKIE   \n25871       Wydatki  3200000  ZACHODNIOPOMORSKIE   \n25872       Wydatki  3200000  ZACHODNIOPOMORSKIE   \n25873       Wydatki  3200000  ZACHODNIOPOMORSKIE   \n\n                                                 Zmienna   Rok  Wartosc  \\\n0                    gospodarstwa domowe objęte badaniem  1999  31428.0   \n1                    gospodarstwa domowe objęte badaniem  2000  36163.0   \n2                    gospodarstwa domowe objęte badaniem  2001  31847.0   \n3                    gospodarstwa domowe objęte badaniem  2002  32342.0   \n4                    gospodarstwa domowe objęte badaniem  2003  32452.0   \n...                                                  ...   ...      ...   \n25869  udział wydatków na użytkowanie mieszkania i no...  2016     19.9   \n25870  udział wydatków na użytkowanie mieszkania i no...  2017     19.5   \n25871  udział wydatków na użytkowanie mieszkania i no...  2018     19.5   \n25872  udział wydatków na użytkowanie mieszkania i no...  2019     19.3   \n25873  udział wydatków na użytkowanie mieszkania i no...  2020     20.3   \n\n      Jednostka miary Atrybut  Unnamed: 8  \n0               gosp.     NaN         NaN  \n1               gosp.     NaN         NaN  \n2               gosp.     NaN         NaN  \n3               gosp.     NaN         NaN  \n4               gosp.     NaN         NaN  \n...               ...     ...         ...  \n25869               %     NaN         NaN  \n25870               %     NaN         NaN  \n25871               %     NaN         NaN  \n25872               %     NaN         NaN  \n25873               %     NaN         NaN  \n\n[25874 rows x 9 columns]",
      "text/html": "<div>\n<style scoped>\n    .dataframe tbody tr th:only-of-type {\n        vertical-align: middle;\n    }\n\n    .dataframe tbody tr th {\n        vertical-align: top;\n    }\n\n    .dataframe thead th {\n        text-align: right;\n    }\n</style>\n<table border=\"1\" class=\"dataframe\">\n  <thead>\n    <tr style=\"text-align: right;\">\n      <th></th>\n      <th>Kategoria</th>\n      <th>Kod</th>\n      <th>Nazwa</th>\n      <th>Zmienna</th>\n      <th>Rok</th>\n      <th>Wartosc</th>\n      <th>Jednostka miary</th>\n      <th>Atrybut</th>\n      <th>Unnamed: 8</th>\n    </tr>\n  </thead>\n  <tbody>\n    <tr>\n      <th>0</th>\n      <td>Gospodarstwa</td>\n      <td>0</td>\n      <td>POLSKA</td>\n      <td>gospodarstwa domowe objęte badaniem</td>\n      <td>1999</td>\n      <td>31428.0</td>\n      <td>gosp.</td>\n      <td>NaN</td>\n      <td>NaN</td>\n    </tr>\n    <tr>\n      <th>1</th>\n      <td>Gospodarstwa</td>\n      <td>0</td>\n      <td>POLSKA</td>\n      <td>gospodarstwa domowe objęte badaniem</td>\n      <td>2000</td>\n      <td>36163.0</td>\n      <td>gosp.</td>\n      <td>NaN</td>\n      <td>NaN</td>\n    </tr>\n    <tr>\n      <th>2</th>\n      <td>Gospodarstwa</td>\n      <td>0</td>\n      <td>POLSKA</td>\n      <td>gospodarstwa domowe objęte badaniem</td>\n      <td>2001</td>\n      <td>31847.0</td>\n      <td>gosp.</td>\n      <td>NaN</td>\n      <td>NaN</td>\n    </tr>\n    <tr>\n      <th>3</th>\n      <td>Gospodarstwa</td>\n      <td>0</td>\n      <td>POLSKA</td>\n      <td>gospodarstwa domowe objęte badaniem</td>\n      <td>2002</td>\n      <td>32342.0</td>\n      <td>gosp.</td>\n      <td>NaN</td>\n      <td>NaN</td>\n    </tr>\n    <tr>\n      <th>4</th>\n      <td>Gospodarstwa</td>\n      <td>0</td>\n      <td>POLSKA</td>\n      <td>gospodarstwa domowe objęte badaniem</td>\n      <td>2003</td>\n      <td>32452.0</td>\n      <td>gosp.</td>\n      <td>NaN</td>\n      <td>NaN</td>\n    </tr>\n    <tr>\n      <th>...</th>\n      <td>...</td>\n      <td>...</td>\n      <td>...</td>\n      <td>...</td>\n      <td>...</td>\n      <td>...</td>\n      <td>...</td>\n      <td>...</td>\n      <td>...</td>\n    </tr>\n    <tr>\n      <th>25869</th>\n      <td>Wydatki</td>\n      <td>3200000</td>\n      <td>ZACHODNIOPOMORSKIE</td>\n      <td>udział wydatków na użytkowanie mieszkania i no...</td>\n      <td>2016</td>\n      <td>19.9</td>\n      <td>%</td>\n      <td>NaN</td>\n      <td>NaN</td>\n    </tr>\n    <tr>\n      <th>25870</th>\n      <td>Wydatki</td>\n      <td>3200000</td>\n      <td>ZACHODNIOPOMORSKIE</td>\n      <td>udział wydatków na użytkowanie mieszkania i no...</td>\n      <td>2017</td>\n      <td>19.5</td>\n      <td>%</td>\n      <td>NaN</td>\n      <td>NaN</td>\n    </tr>\n    <tr>\n      <th>25871</th>\n      <td>Wydatki</td>\n      <td>3200000</td>\n      <td>ZACHODNIOPOMORSKIE</td>\n      <td>udział wydatków na użytkowanie mieszkania i no...</td>\n      <td>2018</td>\n      <td>19.5</td>\n      <td>%</td>\n      <td>NaN</td>\n      <td>NaN</td>\n    </tr>\n    <tr>\n      <th>25872</th>\n      <td>Wydatki</td>\n      <td>3200000</td>\n      <td>ZACHODNIOPOMORSKIE</td>\n      <td>udział wydatków na użytkowanie mieszkania i no...</td>\n      <td>2019</td>\n      <td>19.3</td>\n      <td>%</td>\n      <td>NaN</td>\n      <td>NaN</td>\n    </tr>\n    <tr>\n      <th>25873</th>\n      <td>Wydatki</td>\n      <td>3200000</td>\n      <td>ZACHODNIOPOMORSKIE</td>\n      <td>udział wydatków na użytkowanie mieszkania i no...</td>\n      <td>2020</td>\n      <td>20.3</td>\n      <td>%</td>\n      <td>NaN</td>\n      <td>NaN</td>\n    </tr>\n  </tbody>\n</table>\n<p>25874 rows × 9 columns</p>\n</div>"
     },
     "execution_count": 98,
     "metadata": {},
     "output_type": "execute_result"
    }
   ],
   "source": [
    "df_ludnosc_plot = df_ludnosc[df_ludnosc['Rok'].notna()]\n",
    "df_ludnosc_plot"
   ],
   "metadata": {
    "collapsed": false,
    "pycharm": {
     "name": "#%%\n"
    }
   }
  }
 ],
 "metadata": {
  "kernelspec": {
   "display_name": "Python 3",
   "language": "python",
   "name": "python3"
  },
  "language_info": {
   "codemirror_mode": {
    "name": "ipython",
    "version": 3
   },
   "file_extension": ".py",
   "mimetype": "text/x-python",
   "name": "python",
   "nbconvert_exporter": "python",
   "pygments_lexer": "ipython3",
   "version": "3.7.3"
  }
 },
 "nbformat": 4,
 "nbformat_minor": 1
}