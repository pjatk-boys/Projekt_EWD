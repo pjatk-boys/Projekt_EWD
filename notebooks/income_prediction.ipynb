{
 "cells": [
  {
   "cell_type": "markdown",
   "metadata": {
    "pycharm": {
     "name": "#%% md\n"
    }
   },
   "source": [
    "# prognozy dochodów na 2021"
   ]
  },
  {
   "cell_type": "code",
   "execution_count": 1,
   "metadata": {
    "pycharm": {
     "name": "#%%\n"
    }
   },
   "outputs": [],
   "source": [
    "import pandas as pd"
   ]
  },
  {
   "cell_type": "code",
   "execution_count": 2,
   "metadata": {
    "pycharm": {
     "name": "#%%\n"
    }
   },
   "outputs": [],
   "source": [
    "data_path_gminy = \"../gminy.csv\""
   ]
  },
  {
   "cell_type": "code",
   "execution_count": 3,
   "metadata": {
    "pycharm": {
     "name": "#%%\n"
    }
   },
   "outputs": [
    {
     "name": "stderr",
     "output_type": "stream",
     "text": [
      "/Library/Frameworks/Python.framework/Versions/3.7/lib/python3.7/site-packages/IPython/core/interactiveshell.py:3072: DtypeWarning: Columns (7) have mixed types.Specify dtype option on import or set low_memory=False.\n",
      "  interactivity=interactivity, compiler=compiler, result=result)\n"
     ]
    }
   ],
   "source": [
    "df_gminy = pd.read_csv(data_path_gminy, sep=\";\", decimal=',')"
   ]
  },
  {
   "cell_type": "markdown",
   "source": [
    "Zostaw tylko te kolumny, które zawierają informacje o dochodach"
   ],
   "metadata": {
    "collapsed": false,
    "pycharm": {
     "name": "#%% md\n"
    }
   }
  },
  {
   "cell_type": "code",
   "execution_count": 4,
   "metadata": {
    "pycharm": {
     "name": "#%%\n"
    }
   },
   "outputs": [
    {
     "data": {
      "text/plain": "                  Kategoria      Kod            Nazwa Zmienna   Rok   Wartosc  \\\n1620238  Dochody per capita        0           POLSKA  ogółem  2002   1663.00   \n1620239  Dochody per capita        0           POLSKA  ogółem  2003   1662.00   \n1620240  Dochody per capita        0           POLSKA  ogółem  2004   1887.00   \n1620241  Dochody per capita        0           POLSKA  ogółem  2005   2151.00   \n1620242  Dochody per capita        0           POLSKA  ogółem  2006   2431.28   \n...                     ...      ...              ...     ...   ...       ...   \n1676226  Dochody per capita  3263011  Świnoujście (1)  ogółem  2016   8043.11   \n1676227  Dochody per capita  3263011  Świnoujście (1)  ogółem  2017   8082.01   \n1676228  Dochody per capita  3263011  Świnoujście (1)  ogółem  2018   9170.99   \n1676229  Dochody per capita  3263011  Świnoujście (1)  ogółem  2019   7860.86   \n1676230  Dochody per capita  3263011  Świnoujście (1)  ogółem  2020  14753.11   \n\n        Jednostka miary Atrybut  Unnamed: 8  \n1620238              zł     NaN         NaN  \n1620239              zł     NaN         NaN  \n1620240              zł     NaN         NaN  \n1620241              zł     NaN         NaN  \n1620242              zł     NaN         NaN  \n...                 ...     ...         ...  \n1676226              zł     NaN         NaN  \n1676227              zł     NaN         NaN  \n1676228              zł     NaN         NaN  \n1676229              zł     NaN         NaN  \n1676230              zł     NaN         NaN  \n\n[55993 rows x 9 columns]",
      "text/html": "<div>\n<style scoped>\n    .dataframe tbody tr th:only-of-type {\n        vertical-align: middle;\n    }\n\n    .dataframe tbody tr th {\n        vertical-align: top;\n    }\n\n    .dataframe thead th {\n        text-align: right;\n    }\n</style>\n<table border=\"1\" class=\"dataframe\">\n  <thead>\n    <tr style=\"text-align: right;\">\n      <th></th>\n      <th>Kategoria</th>\n      <th>Kod</th>\n      <th>Nazwa</th>\n      <th>Zmienna</th>\n      <th>Rok</th>\n      <th>Wartosc</th>\n      <th>Jednostka miary</th>\n      <th>Atrybut</th>\n      <th>Unnamed: 8</th>\n    </tr>\n  </thead>\n  <tbody>\n    <tr>\n      <th>1620238</th>\n      <td>Dochody per capita</td>\n      <td>0</td>\n      <td>POLSKA</td>\n      <td>ogółem</td>\n      <td>2002</td>\n      <td>1663.00</td>\n      <td>zł</td>\n      <td>NaN</td>\n      <td>NaN</td>\n    </tr>\n    <tr>\n      <th>1620239</th>\n      <td>Dochody per capita</td>\n      <td>0</td>\n      <td>POLSKA</td>\n      <td>ogółem</td>\n      <td>2003</td>\n      <td>1662.00</td>\n      <td>zł</td>\n      <td>NaN</td>\n      <td>NaN</td>\n    </tr>\n    <tr>\n      <th>1620240</th>\n      <td>Dochody per capita</td>\n      <td>0</td>\n      <td>POLSKA</td>\n      <td>ogółem</td>\n      <td>2004</td>\n      <td>1887.00</td>\n      <td>zł</td>\n      <td>NaN</td>\n      <td>NaN</td>\n    </tr>\n    <tr>\n      <th>1620241</th>\n      <td>Dochody per capita</td>\n      <td>0</td>\n      <td>POLSKA</td>\n      <td>ogółem</td>\n      <td>2005</td>\n      <td>2151.00</td>\n      <td>zł</td>\n      <td>NaN</td>\n      <td>NaN</td>\n    </tr>\n    <tr>\n      <th>1620242</th>\n      <td>Dochody per capita</td>\n      <td>0</td>\n      <td>POLSKA</td>\n      <td>ogółem</td>\n      <td>2006</td>\n      <td>2431.28</td>\n      <td>zł</td>\n      <td>NaN</td>\n      <td>NaN</td>\n    </tr>\n    <tr>\n      <th>...</th>\n      <td>...</td>\n      <td>...</td>\n      <td>...</td>\n      <td>...</td>\n      <td>...</td>\n      <td>...</td>\n      <td>...</td>\n      <td>...</td>\n      <td>...</td>\n    </tr>\n    <tr>\n      <th>1676226</th>\n      <td>Dochody per capita</td>\n      <td>3263011</td>\n      <td>Świnoujście (1)</td>\n      <td>ogółem</td>\n      <td>2016</td>\n      <td>8043.11</td>\n      <td>zł</td>\n      <td>NaN</td>\n      <td>NaN</td>\n    </tr>\n    <tr>\n      <th>1676227</th>\n      <td>Dochody per capita</td>\n      <td>3263011</td>\n      <td>Świnoujście (1)</td>\n      <td>ogółem</td>\n      <td>2017</td>\n      <td>8082.01</td>\n      <td>zł</td>\n      <td>NaN</td>\n      <td>NaN</td>\n    </tr>\n    <tr>\n      <th>1676228</th>\n      <td>Dochody per capita</td>\n      <td>3263011</td>\n      <td>Świnoujście (1)</td>\n      <td>ogółem</td>\n      <td>2018</td>\n      <td>9170.99</td>\n      <td>zł</td>\n      <td>NaN</td>\n      <td>NaN</td>\n    </tr>\n    <tr>\n      <th>1676229</th>\n      <td>Dochody per capita</td>\n      <td>3263011</td>\n      <td>Świnoujście (1)</td>\n      <td>ogółem</td>\n      <td>2019</td>\n      <td>7860.86</td>\n      <td>zł</td>\n      <td>NaN</td>\n      <td>NaN</td>\n    </tr>\n    <tr>\n      <th>1676230</th>\n      <td>Dochody per capita</td>\n      <td>3263011</td>\n      <td>Świnoujście (1)</td>\n      <td>ogółem</td>\n      <td>2020</td>\n      <td>14753.11</td>\n      <td>zł</td>\n      <td>NaN</td>\n      <td>NaN</td>\n    </tr>\n  </tbody>\n</table>\n<p>55993 rows × 9 columns</p>\n</div>"
     },
     "execution_count": 4,
     "metadata": {},
     "output_type": "execute_result"
    }
   ],
   "source": [
    "df_gminy[df_gminy.Kategoria == 'Dochody per capita']"
   ]
  },
  {
   "cell_type": "markdown",
   "source": [
    "ustaw rok jako index"
   ],
   "metadata": {
    "collapsed": false,
    "pycharm": {
     "name": "#%% md\n"
    }
   }
  },
  {
   "cell_type": "code",
   "execution_count": 5,
   "metadata": {
    "pycharm": {
     "name": "#%%\n"
    }
   },
   "outputs": [
    {
     "data": {
      "text/plain": "                     Kategoria  Kod   Nazwa Zmienna  Wartosc Jednostka miary  \\\nRok                                                                            \n2002-01-01  Dochody per capita    0  POLSKA  ogółem  1663.00              zł   \n2003-01-01  Dochody per capita    0  POLSKA  ogółem  1662.00              zł   \n2004-01-01  Dochody per capita    0  POLSKA  ogółem  1887.00              zł   \n2005-01-01  Dochody per capita    0  POLSKA  ogółem  2151.00              zł   \n2006-01-01  Dochody per capita    0  POLSKA  ogółem  2431.28              zł   \n2007-01-01  Dochody per capita    0  POLSKA  ogółem  2725.28              zł   \n2008-01-01  Dochody per capita    0  POLSKA  ogółem  2932.15              zł   \n2009-01-01  Dochody per capita    0  POLSKA  ogółem  3019.64              zł   \n2010-01-01  Dochody per capita    0  POLSKA  ogółem  3276.40              zł   \n2011-01-01  Dochody per capita    0  POLSKA  ogółem  3444.21              zł   \n2012-01-01  Dochody per capita    0  POLSKA  ogółem  3624.21              zł   \n2013-01-01  Dochody per capita    0  POLSKA  ogółem  3746.78              zł   \n2014-01-01  Dochody per capita    0  POLSKA  ogółem  3970.71              zł   \n2015-01-01  Dochody per capita    0  POLSKA  ogółem  4114.66              zł   \n2016-01-01  Dochody per capita    0  POLSKA  ogółem  4585.73              zł   \n2017-01-01  Dochody per capita    0  POLSKA  ogółem  4937.72              zł   \n2018-01-01  Dochody per capita    0  POLSKA  ogółem  5387.05              zł   \n2019-01-01  Dochody per capita    0  POLSKA  ogółem  5969.49              zł   \n2020-01-01  Dochody per capita    0  POLSKA  ogółem  6502.68              zł   \n\n           Atrybut  Unnamed: 8  \nRok                             \n2002-01-01     NaN         NaN  \n2003-01-01     NaN         NaN  \n2004-01-01     NaN         NaN  \n2005-01-01     NaN         NaN  \n2006-01-01     NaN         NaN  \n2007-01-01     NaN         NaN  \n2008-01-01     NaN         NaN  \n2009-01-01     NaN         NaN  \n2010-01-01     NaN         NaN  \n2011-01-01     NaN         NaN  \n2012-01-01     NaN         NaN  \n2013-01-01     NaN         NaN  \n2014-01-01     NaN         NaN  \n2015-01-01     NaN         NaN  \n2016-01-01     NaN         NaN  \n2017-01-01     NaN         NaN  \n2018-01-01     NaN         NaN  \n2019-01-01       k         NaN  \n2020-01-01     NaN         NaN  ",
      "text/html": "<div>\n<style scoped>\n    .dataframe tbody tr th:only-of-type {\n        vertical-align: middle;\n    }\n\n    .dataframe tbody tr th {\n        vertical-align: top;\n    }\n\n    .dataframe thead th {\n        text-align: right;\n    }\n</style>\n<table border=\"1\" class=\"dataframe\">\n  <thead>\n    <tr style=\"text-align: right;\">\n      <th></th>\n      <th>Kategoria</th>\n      <th>Kod</th>\n      <th>Nazwa</th>\n      <th>Zmienna</th>\n      <th>Wartosc</th>\n      <th>Jednostka miary</th>\n      <th>Atrybut</th>\n      <th>Unnamed: 8</th>\n    </tr>\n    <tr>\n      <th>Rok</th>\n      <th></th>\n      <th></th>\n      <th></th>\n      <th></th>\n      <th></th>\n      <th></th>\n      <th></th>\n      <th></th>\n    </tr>\n  </thead>\n  <tbody>\n    <tr>\n      <th>2002-01-01</th>\n      <td>Dochody per capita</td>\n      <td>0</td>\n      <td>POLSKA</td>\n      <td>ogółem</td>\n      <td>1663.00</td>\n      <td>zł</td>\n      <td>NaN</td>\n      <td>NaN</td>\n    </tr>\n    <tr>\n      <th>2003-01-01</th>\n      <td>Dochody per capita</td>\n      <td>0</td>\n      <td>POLSKA</td>\n      <td>ogółem</td>\n      <td>1662.00</td>\n      <td>zł</td>\n      <td>NaN</td>\n      <td>NaN</td>\n    </tr>\n    <tr>\n      <th>2004-01-01</th>\n      <td>Dochody per capita</td>\n      <td>0</td>\n      <td>POLSKA</td>\n      <td>ogółem</td>\n      <td>1887.00</td>\n      <td>zł</td>\n      <td>NaN</td>\n      <td>NaN</td>\n    </tr>\n    <tr>\n      <th>2005-01-01</th>\n      <td>Dochody per capita</td>\n      <td>0</td>\n      <td>POLSKA</td>\n      <td>ogółem</td>\n      <td>2151.00</td>\n      <td>zł</td>\n      <td>NaN</td>\n      <td>NaN</td>\n    </tr>\n    <tr>\n      <th>2006-01-01</th>\n      <td>Dochody per capita</td>\n      <td>0</td>\n      <td>POLSKA</td>\n      <td>ogółem</td>\n      <td>2431.28</td>\n      <td>zł</td>\n      <td>NaN</td>\n      <td>NaN</td>\n    </tr>\n    <tr>\n      <th>2007-01-01</th>\n      <td>Dochody per capita</td>\n      <td>0</td>\n      <td>POLSKA</td>\n      <td>ogółem</td>\n      <td>2725.28</td>\n      <td>zł</td>\n      <td>NaN</td>\n      <td>NaN</td>\n    </tr>\n    <tr>\n      <th>2008-01-01</th>\n      <td>Dochody per capita</td>\n      <td>0</td>\n      <td>POLSKA</td>\n      <td>ogółem</td>\n      <td>2932.15</td>\n      <td>zł</td>\n      <td>NaN</td>\n      <td>NaN</td>\n    </tr>\n    <tr>\n      <th>2009-01-01</th>\n      <td>Dochody per capita</td>\n      <td>0</td>\n      <td>POLSKA</td>\n      <td>ogółem</td>\n      <td>3019.64</td>\n      <td>zł</td>\n      <td>NaN</td>\n      <td>NaN</td>\n    </tr>\n    <tr>\n      <th>2010-01-01</th>\n      <td>Dochody per capita</td>\n      <td>0</td>\n      <td>POLSKA</td>\n      <td>ogółem</td>\n      <td>3276.40</td>\n      <td>zł</td>\n      <td>NaN</td>\n      <td>NaN</td>\n    </tr>\n    <tr>\n      <th>2011-01-01</th>\n      <td>Dochody per capita</td>\n      <td>0</td>\n      <td>POLSKA</td>\n      <td>ogółem</td>\n      <td>3444.21</td>\n      <td>zł</td>\n      <td>NaN</td>\n      <td>NaN</td>\n    </tr>\n    <tr>\n      <th>2012-01-01</th>\n      <td>Dochody per capita</td>\n      <td>0</td>\n      <td>POLSKA</td>\n      <td>ogółem</td>\n      <td>3624.21</td>\n      <td>zł</td>\n      <td>NaN</td>\n      <td>NaN</td>\n    </tr>\n    <tr>\n      <th>2013-01-01</th>\n      <td>Dochody per capita</td>\n      <td>0</td>\n      <td>POLSKA</td>\n      <td>ogółem</td>\n      <td>3746.78</td>\n      <td>zł</td>\n      <td>NaN</td>\n      <td>NaN</td>\n    </tr>\n    <tr>\n      <th>2014-01-01</th>\n      <td>Dochody per capita</td>\n      <td>0</td>\n      <td>POLSKA</td>\n      <td>ogółem</td>\n      <td>3970.71</td>\n      <td>zł</td>\n      <td>NaN</td>\n      <td>NaN</td>\n    </tr>\n    <tr>\n      <th>2015-01-01</th>\n      <td>Dochody per capita</td>\n      <td>0</td>\n      <td>POLSKA</td>\n      <td>ogółem</td>\n      <td>4114.66</td>\n      <td>zł</td>\n      <td>NaN</td>\n      <td>NaN</td>\n    </tr>\n    <tr>\n      <th>2016-01-01</th>\n      <td>Dochody per capita</td>\n      <td>0</td>\n      <td>POLSKA</td>\n      <td>ogółem</td>\n      <td>4585.73</td>\n      <td>zł</td>\n      <td>NaN</td>\n      <td>NaN</td>\n    </tr>\n    <tr>\n      <th>2017-01-01</th>\n      <td>Dochody per capita</td>\n      <td>0</td>\n      <td>POLSKA</td>\n      <td>ogółem</td>\n      <td>4937.72</td>\n      <td>zł</td>\n      <td>NaN</td>\n      <td>NaN</td>\n    </tr>\n    <tr>\n      <th>2018-01-01</th>\n      <td>Dochody per capita</td>\n      <td>0</td>\n      <td>POLSKA</td>\n      <td>ogółem</td>\n      <td>5387.05</td>\n      <td>zł</td>\n      <td>NaN</td>\n      <td>NaN</td>\n    </tr>\n    <tr>\n      <th>2019-01-01</th>\n      <td>Dochody per capita</td>\n      <td>0</td>\n      <td>POLSKA</td>\n      <td>ogółem</td>\n      <td>5969.49</td>\n      <td>zł</td>\n      <td>k</td>\n      <td>NaN</td>\n    </tr>\n    <tr>\n      <th>2020-01-01</th>\n      <td>Dochody per capita</td>\n      <td>0</td>\n      <td>POLSKA</td>\n      <td>ogółem</td>\n      <td>6502.68</td>\n      <td>zł</td>\n      <td>NaN</td>\n      <td>NaN</td>\n    </tr>\n  </tbody>\n</table>\n</div>"
     },
     "execution_count": 5,
     "metadata": {},
     "output_type": "execute_result"
    }
   ],
   "source": [
    "df_gminy = df_gminy[(df_gminy.Kategoria == 'Dochody per capita') & (df_gminy.Nazwa == \"POLSKA\")]\n",
    "df_gminy['Rok'] = pd.to_datetime(df_gminy['Rok'], format='%Y')\n",
    "df_gminy = df_gminy.set_index('Rok')\n",
    "df_gminy"
   ]
  },
  {
   "cell_type": "markdown",
   "source": [
    "własna funkcja do oceny modeli"
   ],
   "metadata": {
    "collapsed": false,
    "pycharm": {
     "name": "#%% md\n"
    }
   }
  },
  {
   "cell_type": "code",
   "execution_count": 6,
   "metadata": {
    "pycharm": {
     "name": "#%%\n"
    }
   },
   "outputs": [],
   "source": [
    "import sklearn.metrics as metrics\n",
    "import numpy as np\n",
    "\n",
    "def regression_results(y_true, y_pred):\n",
    "    # Regression metrics\n",
    "    explained_variance=metrics.explained_variance_score(y_true, y_pred)\n",
    "    mean_absolute_error=metrics.mean_absolute_error(y_true, y_pred)\n",
    "    mse=metrics.mean_squared_error(y_true, y_pred)\n",
    "    mean_squared_log_error=metrics.mean_squared_log_error(y_true, y_pred)\n",
    "    median_absolute_error=metrics.median_absolute_error(y_true, y_pred)\n",
    "    r2=metrics.r2_score(y_true, y_pred)\n",
    "    print('explained_variance: ', round(explained_variance,4))\n",
    "    print('mean_squared_log_error: ', round(mean_squared_log_error,4))\n",
    "    print('r2: ', round(r2,4))\n",
    "    print('MAE: ', round(mean_absolute_error,4))\n",
    "    print('MSE: ', round(mse,4))\n",
    "    print('RMSE: ', round(np.sqrt(mse),4))"
   ]
  },
  {
   "cell_type": "markdown",
   "source": [
    "data engeneering: stwórz dodatkowe kolumny informujące o dochodach w poprzednim roku i różnicy pomiędzy nim a teraźniejszością"
   ],
   "metadata": {
    "collapsed": false,
    "pycharm": {
     "name": "#%% md\n"
    }
   }
  },
  {
   "cell_type": "code",
   "execution_count": 7,
   "metadata": {
    "pycharm": {
     "name": "#%%\n"
    }
   },
   "outputs": [
    {
     "name": "stderr",
     "output_type": "stream",
     "text": [
      "/Library/Frameworks/Python.framework/Versions/3.7/lib/python3.7/site-packages/pandas/core/indexing.py:1596: SettingWithCopyWarning: \n",
      "A value is trying to be set on a copy of a slice from a DataFrame.\n",
      "Try using .loc[row_indexer,col_indexer] = value instead\n",
      "\n",
      "See the caveats in the documentation: https://pandas.pydata.org/pandas-docs/stable/user_guide/indexing.html#returning-a-view-versus-a-copy\n",
      "  self.obj[key] = _infer_fill_value(value)\n",
      "/Library/Frameworks/Python.framework/Versions/3.7/lib/python3.7/site-packages/pandas/core/indexing.py:1781: SettingWithCopyWarning: \n",
      "A value is trying to be set on a copy of a slice from a DataFrame.\n",
      "Try using .loc[row_indexer,col_indexer] = value instead\n",
      "\n",
      "See the caveats in the documentation: https://pandas.pydata.org/pandas-docs/stable/user_guide/indexing.html#returning-a-view-versus-a-copy\n",
      "  self.obj[item_labels[indexer[info_axis]]] = value\n"
     ]
    }
   ],
   "source": [
    "# creating new dataframe from consumption column\n",
    "dochody = df_gminy[['Wartosc']]\n",
    "# inserting new column with yesterday's consumption values\n",
    "dochody.loc[:,'Yesterday'] = dochody.loc[:,'Wartosc'].shift()\n",
    "# inserting another column with difference between yesterday and day before yesterday's consumption values.\n",
    "dochody.loc[:,'Yesterday_Diff'] = dochody.loc[:,'Yesterday'].diff()\n",
    "# dropping NAs\n",
    "dochody = dochody.dropna()"
   ]
  },
  {
   "cell_type": "markdown",
   "source": [
    "podziel zbiór danych na treningowy i testowy"
   ],
   "metadata": {
    "collapsed": false,
    "pycharm": {
     "name": "#%% md\n"
    }
   },
   "outputs": [
    {
     "ename": "SyntaxError",
     "evalue": "invalid syntax (<ipython-input-1-01cc1ca3c8ba>, line 1)",
     "output_type": "error",
     "traceback": [
      "\u001B[0;36m  File \u001B[0;32m\"<ipython-input-1-01cc1ca3c8ba>\"\u001B[0;36m, line \u001B[0;32m1\u001B[0m\n\u001B[0;31m    podziel zbiór danych na treningowy i testowy\u001B[0m\n\u001B[0m                ^\u001B[0m\n\u001B[0;31mSyntaxError\u001B[0m\u001B[0;31m:\u001B[0m invalid syntax\n"
     ]
    }
   ],
   "execution_count": 1
  },
  {
   "cell_type": "code",
   "execution_count": 8,
   "metadata": {
    "pycharm": {
     "name": "#%%\n"
    }
   },
   "outputs": [],
   "source": [
    "X_train = dochody[:'2018'].drop(['Wartosc'], axis = 1)\n",
    "y_train = dochody[:'2018'].reset_index().drop(['Yesterday', 'Yesterday_Diff', 'Rok'], axis = 1)\n",
    "X_test = dochody[:'2019'].drop(['Wartosc'], axis = 1)\n",
    "y_test = dochody[:'2019'].reset_index().drop(['Yesterday', 'Yesterday_Diff', 'Rok'], axis = 1)"
   ]
  },
  {
   "cell_type": "markdown",
   "source": [
    "## Wybór modelu"
   ],
   "metadata": {
    "collapsed": false,
    "pycharm": {
     "name": "#%% md\n"
    }
   }
  },
  {
   "cell_type": "markdown",
   "source": [
    "Znajdź najlepszy model"
   ],
   "metadata": {
    "collapsed": false,
    "pycharm": {
     "name": "#%% md\n"
    }
   }
  },
  {
   "cell_type": "code",
   "execution_count": 9,
   "metadata": {
    "pycharm": {
     "name": "#%%\n"
    }
   },
   "outputs": [
    {
     "name": "stdout",
     "output_type": "stream",
     "text": [
      "LR: 0.326795 (0.272192)\n",
      "NN: 0.675496 (0.150557)\n",
      "KNN: -6.707606 (7.076182)\n",
      "RF: -7.071456 (5.520678)\n",
      "SVR: -29.475276 (16.251868)\n"
     ]
    },
    {
     "data": {
      "text/plain": "<Figure size 432x288 with 1 Axes>",
      "image/png": "[encoded data removed]"
     },
     "metadata": {
      "needs_background": "light"
     },
     "output_type": "display_data"
    }
   ],
   "source": [
    "from matplotlib import pyplot as plt\n",
    "from sklearn.svm import SVR\n",
    "from sklearn.neighbors import KNeighborsRegressor\n",
    "from sklearn.ensemble import RandomForestRegressor\n",
    "from sklearn.linear_model import LinearRegression\n",
    "from sklearn.neural_network import MLPRegressor\n",
    "from sklearn.model_selection import TimeSeriesSplit, cross_val_score\n",
    "\n",
    "# Spot Check Algorithms\n",
    "models = []\n",
    "models.append(('LR', LinearRegression()))\n",
    "models.append(('NN', MLPRegressor(solver = 'lbfgs')))  #neural network\n",
    "models.append(('KNN', KNeighborsRegressor()))\n",
    "models.append(('RF', RandomForestRegressor(n_estimators = 10))) # Ensemble method - collection of many decision trees\n",
    "models.append(('SVR', SVR(gamma='auto'))) # kernel = linear\n",
    "# Evaluate each model in turn\n",
    "results = []\n",
    "names = []\n",
    "for name, model in models:\n",
    "    # TimeSeries Cross validation\n",
    "\n",
    "    cv_results = cross_val_score(model, X_train, y_train.values.ravel(), scoring='r2')\n",
    "    results.append(cv_results)\n",
    "    names.append(name)\n",
    "    print('%s: %f (%f)' % (name, cv_results.mean(), cv_results.std()))\n",
    "\n",
    "# Compare Algorithms\n",
    "plt.boxplot(results, labels=names)\n",
    "plt.title('Algorithm Comparison')\n",
    "plt.show(\n",
    ")#%%"
   ]
  },
  {
   "cell_type": "code",
   "execution_count": 10,
   "metadata": {
    "pycharm": {
     "name": "#%%\n"
    }
   },
   "outputs": [],
   "source": [
    "from sklearn.metrics import make_scorer\n",
    "def rmse(actual, predict):\n",
    "    predict = np.array(predict)\n",
    "    actual = np.array(actual)\n",
    "    distance = predict - actual\n",
    "    square_distance = distance ** 2\n",
    "    mean_square_distance = square_distance.mean()\n",
    "    score = np.sqrt(mean_square_distance)\n",
    "    return score\n",
    "rmse_score = make_scorer(rmse, greater_is_better = False)"
   ]
  },
  {
   "cell_type": "markdown",
   "source": [
    "## Hyperparameters tuning"
   ],
   "metadata": {
    "collapsed": false,
    "pycharm": {
     "name": "#%% md\n"
    }
   }
  },
  {
   "cell_type": "markdown",
   "source": [
    "znajdź najlepsze parametry dla wybranego modelu przy pomocy metody grid search"
   ],
   "metadata": {
    "collapsed": false,
    "pycharm": {
     "name": "#%% md\n"
    }
   }
  },
  {
   "cell_type": "code",
   "execution_count": 11,
   "metadata": {
    "pycharm": {
     "name": "#%%\n"
    }
   },
   "outputs": [
    {
     "name": "stderr",
     "output_type": "stream",
     "text": [
      "/Library/Frameworks/Python.framework/Versions/3.7/lib/python3.7/site-packages/sklearn/neural_network/_multilayer_perceptron.py:471: ConvergenceWarning: lbfgs failed to converge (status=1):\n",
      "STOP: TOTAL NO. of ITERATIONS REACHED LIMIT.\n",
      "\n",
      "Increase the number of iterations (max_iter) or scale the data as shown in:\n",
      "    https://scikit-learn.org/stable/modules/preprocessing.html\n",
      "  self.n_iter_ = _check_optimize_result(\"lbfgs\", opt_res, self.max_iter)\n",
      "/Library/Frameworks/Python.framework/Versions/3.7/lib/python3.7/site-packages/sklearn/neural_network/_multilayer_perceptron.py:471: ConvergenceWarning: lbfgs failed to converge (status=1):\n",
      "STOP: TOTAL NO. of ITERATIONS REACHED LIMIT.\n",
      "\n",
      "Increase the number of iterations (max_iter) or scale the data as shown in:\n",
      "    https://scikit-learn.org/stable/modules/preprocessing.html\n",
      "  self.n_iter_ = _check_optimize_result(\"lbfgs\", opt_res, self.max_iter)\n",
      "/Library/Frameworks/Python.framework/Versions/3.7/lib/python3.7/site-packages/sklearn/neural_network/_multilayer_perceptron.py:471: ConvergenceWarning: lbfgs failed to converge (status=1):\n",
      "STOP: TOTAL NO. of ITERATIONS REACHED LIMIT.\n",
      "\n",
      "Increase the number of iterations (max_iter) or scale the data as shown in:\n",
      "    https://scikit-learn.org/stable/modules/preprocessing.html\n",
      "  self.n_iter_ = _check_optimize_result(\"lbfgs\", opt_res, self.max_iter)\n",
      "/Library/Frameworks/Python.framework/Versions/3.7/lib/python3.7/site-packages/sklearn/neural_network/_multilayer_perceptron.py:471: ConvergenceWarning: lbfgs failed to converge (status=1):\n",
      "STOP: TOTAL NO. of ITERATIONS REACHED LIMIT.\n",
      "\n",
      "Increase the number of iterations (max_iter) or scale the data as shown in:\n",
      "    https://scikit-learn.org/stable/modules/preprocessing.html\n",
      "  self.n_iter_ = _check_optimize_result(\"lbfgs\", opt_res, self.max_iter)\n",
      "/Library/Frameworks/Python.framework/Versions/3.7/lib/python3.7/site-packages/sklearn/neural_network/_multilayer_perceptron.py:471: ConvergenceWarning: lbfgs failed to converge (status=1):\n",
      "STOP: TOTAL NO. of ITERATIONS REACHED LIMIT.\n",
      "\n",
      "Increase the number of iterations (max_iter) or scale the data as shown in:\n",
      "    https://scikit-learn.org/stable/modules/preprocessing.html\n",
      "  self.n_iter_ = _check_optimize_result(\"lbfgs\", opt_res, self.max_iter)\n",
      "/Library/Frameworks/Python.framework/Versions/3.7/lib/python3.7/site-packages/sklearn/neural_network/_multilayer_perceptron.py:471: ConvergenceWarning: lbfgs failed to converge (status=1):\n",
      "STOP: TOTAL NO. of ITERATIONS REACHED LIMIT.\n",
      "\n",
      "Increase the number of iterations (max_iter) or scale the data as shown in:\n",
      "    https://scikit-learn.org/stable/modules/preprocessing.html\n",
      "  self.n_iter_ = _check_optimize_result(\"lbfgs\", opt_res, self.max_iter)\n",
      "/Library/Frameworks/Python.framework/Versions/3.7/lib/python3.7/site-packages/sklearn/neural_network/_multilayer_perceptron.py:471: ConvergenceWarning: lbfgs failed to converge (status=1):\n",
      "STOP: TOTAL NO. of ITERATIONS REACHED LIMIT.\n",
      "\n",
      "Increase the number of iterations (max_iter) or scale the data as shown in:\n",
      "    https://scikit-learn.org/stable/modules/preprocessing.html\n",
      "  self.n_iter_ = _check_optimize_result(\"lbfgs\", opt_res, self.max_iter)\n",
      "/Library/Frameworks/Python.framework/Versions/3.7/lib/python3.7/site-packages/sklearn/neural_network/_multilayer_perceptron.py:471: ConvergenceWarning: lbfgs failed to converge (status=1):\n",
      "STOP: TOTAL NO. of ITERATIONS REACHED LIMIT.\n",
      "\n",
      "Increase the number of iterations (max_iter) or scale the data as shown in:\n",
      "    https://scikit-learn.org/stable/modules/preprocessing.html\n",
      "  self.n_iter_ = _check_optimize_result(\"lbfgs\", opt_res, self.max_iter)\n",
      "/Library/Frameworks/Python.framework/Versions/3.7/lib/python3.7/site-packages/sklearn/neural_network/_multilayer_perceptron.py:471: ConvergenceWarning: lbfgs failed to converge (status=1):\n",
      "STOP: TOTAL NO. of ITERATIONS REACHED LIMIT.\n",
      "\n",
      "Increase the number of iterations (max_iter) or scale the data as shown in:\n",
      "    https://scikit-learn.org/stable/modules/preprocessing.html\n",
      "  self.n_iter_ = _check_optimize_result(\"lbfgs\", opt_res, self.max_iter)\n",
      "/Library/Frameworks/Python.framework/Versions/3.7/lib/python3.7/site-packages/sklearn/neural_network/_multilayer_perceptron.py:471: ConvergenceWarning: lbfgs failed to converge (status=1):\n",
      "STOP: TOTAL NO. of ITERATIONS REACHED LIMIT.\n",
      "\n",
      "Increase the number of iterations (max_iter) or scale the data as shown in:\n",
      "    https://scikit-learn.org/stable/modules/preprocessing.html\n",
      "  self.n_iter_ = _check_optimize_result(\"lbfgs\", opt_res, self.max_iter)\n",
      "/Library/Frameworks/Python.framework/Versions/3.7/lib/python3.7/site-packages/sklearn/neural_network/_multilayer_perceptron.py:471: ConvergenceWarning: lbfgs failed to converge (status=1):\n",
      "STOP: TOTAL NO. of ITERATIONS REACHED LIMIT.\n",
      "\n",
      "Increase the number of iterations (max_iter) or scale the data as shown in:\n",
      "    https://scikit-learn.org/stable/modules/preprocessing.html\n",
      "  self.n_iter_ = _check_optimize_result(\"lbfgs\", opt_res, self.max_iter)\n",
      "/Library/Frameworks/Python.framework/Versions/3.7/lib/python3.7/site-packages/sklearn/neural_network/_multilayer_perceptron.py:471: ConvergenceWarning: lbfgs failed to converge (status=2):\n",
      "ABNORMAL_TERMINATION_IN_LNSRCH.\n",
      "\n",
      "Increase the number of iterations (max_iter) or scale the data as shown in:\n",
      "    https://scikit-learn.org/stable/modules/preprocessing.html\n",
      "  self.n_iter_ = _check_optimize_result(\"lbfgs\", opt_res, self.max_iter)\n",
      "/Library/Frameworks/Python.framework/Versions/3.7/lib/python3.7/site-packages/sklearn/neural_network/_multilayer_perceptron.py:471: ConvergenceWarning: lbfgs failed to converge (status=1):\n",
      "STOP: TOTAL NO. of ITERATIONS REACHED LIMIT.\n",
      "\n",
      "Increase the number of iterations (max_iter) or scale the data as shown in:\n",
      "    https://scikit-learn.org/stable/modules/preprocessing.html\n",
      "  self.n_iter_ = _check_optimize_result(\"lbfgs\", opt_res, self.max_iter)\n",
      "/Library/Frameworks/Python.framework/Versions/3.7/lib/python3.7/site-packages/sklearn/neural_network/_multilayer_perceptron.py:471: ConvergenceWarning: lbfgs failed to converge (status=1):\n",
      "STOP: TOTAL NO. of ITERATIONS REACHED LIMIT.\n",
      "\n",
      "Increase the number of iterations (max_iter) or scale the data as shown in:\n",
      "    https://scikit-learn.org/stable/modules/preprocessing.html\n",
      "  self.n_iter_ = _check_optimize_result(\"lbfgs\", opt_res, self.max_iter)\n",
      "/Library/Frameworks/Python.framework/Versions/3.7/lib/python3.7/site-packages/sklearn/neural_network/_multilayer_perceptron.py:471: ConvergenceWarning: lbfgs failed to converge (status=1):\n",
      "STOP: TOTAL NO. of ITERATIONS REACHED LIMIT.\n",
      "\n",
      "Increase the number of iterations (max_iter) or scale the data as shown in:\n",
      "    https://scikit-learn.org/stable/modules/preprocessing.html\n",
      "  self.n_iter_ = _check_optimize_result(\"lbfgs\", opt_res, self.max_iter)\n",
      "/Library/Frameworks/Python.framework/Versions/3.7/lib/python3.7/site-packages/sklearn/neural_network/_multilayer_perceptron.py:471: ConvergenceWarning: lbfgs failed to converge (status=1):\n",
      "STOP: TOTAL NO. of ITERATIONS REACHED LIMIT.\n",
      "\n",
      "Increase the number of iterations (max_iter) or scale the data as shown in:\n",
      "    https://scikit-learn.org/stable/modules/preprocessing.html\n",
      "  self.n_iter_ = _check_optimize_result(\"lbfgs\", opt_res, self.max_iter)\n",
      "/Library/Frameworks/Python.framework/Versions/3.7/lib/python3.7/site-packages/sklearn/neural_network/_multilayer_perceptron.py:471: ConvergenceWarning: lbfgs failed to converge (status=1):\n",
      "STOP: TOTAL NO. of ITERATIONS REACHED LIMIT.\n",
      "\n",
      "Increase the number of iterations (max_iter) or scale the data as shown in:\n",
      "    https://scikit-learn.org/stable/modules/preprocessing.html\n",
      "  self.n_iter_ = _check_optimize_result(\"lbfgs\", opt_res, self.max_iter)\n",
      "/Library/Frameworks/Python.framework/Versions/3.7/lib/python3.7/site-packages/sklearn/neural_network/_multilayer_perceptron.py:471: ConvergenceWarning: lbfgs failed to converge (status=1):\n",
      "STOP: TOTAL NO. of ITERATIONS REACHED LIMIT.\n",
      "\n",
      "Increase the number of iterations (max_iter) or scale the data as shown in:\n",
      "    https://scikit-learn.org/stable/modules/preprocessing.html\n",
      "  self.n_iter_ = _check_optimize_result(\"lbfgs\", opt_res, self.max_iter)\n",
      "/Library/Frameworks/Python.framework/Versions/3.7/lib/python3.7/site-packages/sklearn/neural_network/_multilayer_perceptron.py:471: ConvergenceWarning: lbfgs failed to converge (status=1):\n",
      "STOP: TOTAL NO. of ITERATIONS REACHED LIMIT.\n",
      "\n",
      "Increase the number of iterations (max_iter) or scale the data as shown in:\n",
      "    https://scikit-learn.org/stable/modules/preprocessing.html\n",
      "  self.n_iter_ = _check_optimize_result(\"lbfgs\", opt_res, self.max_iter)\n",
      "/Library/Frameworks/Python.framework/Versions/3.7/lib/python3.7/site-packages/sklearn/neural_network/_multilayer_perceptron.py:471: ConvergenceWarning: lbfgs failed to converge (status=1):\n",
      "STOP: TOTAL NO. of ITERATIONS REACHED LIMIT.\n",
      "\n",
      "Increase the number of iterations (max_iter) or scale the data as shown in:\n",
      "    https://scikit-learn.org/stable/modules/preprocessing.html\n",
      "  self.n_iter_ = _check_optimize_result(\"lbfgs\", opt_res, self.max_iter)\n",
      "/Library/Frameworks/Python.framework/Versions/3.7/lib/python3.7/site-packages/sklearn/neural_network/_multilayer_perceptron.py:471: ConvergenceWarning: lbfgs failed to converge (status=1):\n",
      "STOP: TOTAL NO. of ITERATIONS REACHED LIMIT.\n",
      "\n",
      "Increase the number of iterations (max_iter) or scale the data as shown in:\n",
      "    https://scikit-learn.org/stable/modules/preprocessing.html\n",
      "  self.n_iter_ = _check_optimize_result(\"lbfgs\", opt_res, self.max_iter)\n",
      "/Library/Frameworks/Python.framework/Versions/3.7/lib/python3.7/site-packages/sklearn/neural_network/_multilayer_perceptron.py:471: ConvergenceWarning: lbfgs failed to converge (status=1):\n",
      "STOP: TOTAL NO. of ITERATIONS REACHED LIMIT.\n",
      "\n",
      "Increase the number of iterations (max_iter) or scale the data as shown in:\n",
      "    https://scikit-learn.org/stable/modules/preprocessing.html\n",
      "  self.n_iter_ = _check_optimize_result(\"lbfgs\", opt_res, self.max_iter)\n",
      "/Library/Frameworks/Python.framework/Versions/3.7/lib/python3.7/site-packages/sklearn/neural_network/_multilayer_perceptron.py:471: ConvergenceWarning: lbfgs failed to converge (status=1):\n",
      "STOP: TOTAL NO. of ITERATIONS REACHED LIMIT.\n",
      "\n",
      "Increase the number of iterations (max_iter) or scale the data as shown in:\n",
      "    https://scikit-learn.org/stable/modules/preprocessing.html\n",
      "  self.n_iter_ = _check_optimize_result(\"lbfgs\", opt_res, self.max_iter)\n",
      "/Library/Frameworks/Python.framework/Versions/3.7/lib/python3.7/site-packages/sklearn/neural_network/_multilayer_perceptron.py:471: ConvergenceWarning: lbfgs failed to converge (status=1):\n",
      "STOP: TOTAL NO. of ITERATIONS REACHED LIMIT.\n",
      "\n",
      "Increase the number of iterations (max_iter) or scale the data as shown in:\n",
      "    https://scikit-learn.org/stable/modules/preprocessing.html\n",
      "  self.n_iter_ = _check_optimize_result(\"lbfgs\", opt_res, self.max_iter)\n",
      "/Library/Frameworks/Python.framework/Versions/3.7/lib/python3.7/site-packages/sklearn/neural_network/_multilayer_perceptron.py:471: ConvergenceWarning: lbfgs failed to converge (status=1):\n",
      "STOP: TOTAL NO. of ITERATIONS REACHED LIMIT.\n",
      "\n",
      "Increase the number of iterations (max_iter) or scale the data as shown in:\n",
      "    https://scikit-learn.org/stable/modules/preprocessing.html\n",
      "  self.n_iter_ = _check_optimize_result(\"lbfgs\", opt_res, self.max_iter)\n",
      "/Library/Frameworks/Python.framework/Versions/3.7/lib/python3.7/site-packages/sklearn/neural_network/_multilayer_perceptron.py:471: ConvergenceWarning: lbfgs failed to converge (status=1):\n",
      "STOP: TOTAL NO. of ITERATIONS REACHED LIMIT.\n",
      "\n",
      "Increase the number of iterations (max_iter) or scale the data as shown in:\n",
      "    https://scikit-learn.org/stable/modules/preprocessing.html\n",
      "  self.n_iter_ = _check_optimize_result(\"lbfgs\", opt_res, self.max_iter)\n",
      "/Library/Frameworks/Python.framework/Versions/3.7/lib/python3.7/site-packages/sklearn/neural_network/_multilayer_perceptron.py:471: ConvergenceWarning: lbfgs failed to converge (status=1):\n",
      "STOP: TOTAL NO. of ITERATIONS REACHED LIMIT.\n",
      "\n",
      "Increase the number of iterations (max_iter) or scale the data as shown in:\n",
      "    https://scikit-learn.org/stable/modules/preprocessing.html\n",
      "  self.n_iter_ = _check_optimize_result(\"lbfgs\", opt_res, self.max_iter)\n",
      "/Library/Frameworks/Python.framework/Versions/3.7/lib/python3.7/site-packages/sklearn/neural_network/_multilayer_perceptron.py:471: ConvergenceWarning: lbfgs failed to converge (status=1):\n",
      "STOP: TOTAL NO. of ITERATIONS REACHED LIMIT.\n",
      "\n",
      "Increase the number of iterations (max_iter) or scale the data as shown in:\n",
      "    https://scikit-learn.org/stable/modules/preprocessing.html\n",
      "  self.n_iter_ = _check_optimize_result(\"lbfgs\", opt_res, self.max_iter)\n",
      "/Library/Frameworks/Python.framework/Versions/3.7/lib/python3.7/site-packages/sklearn/neural_network/_multilayer_perceptron.py:471: ConvergenceWarning: lbfgs failed to converge (status=2):\n",
      "ABNORMAL_TERMINATION_IN_LNSRCH.\n",
      "\n",
      "Increase the number of iterations (max_iter) or scale the data as shown in:\n",
      "    https://scikit-learn.org/stable/modules/preprocessing.html\n",
      "  self.n_iter_ = _check_optimize_result(\"lbfgs\", opt_res, self.max_iter)\n",
      "/Library/Frameworks/Python.framework/Versions/3.7/lib/python3.7/site-packages/sklearn/neural_network/_multilayer_perceptron.py:471: ConvergenceWarning: lbfgs failed to converge (status=1):\n",
      "STOP: TOTAL NO. of ITERATIONS REACHED LIMIT.\n",
      "\n",
      "Increase the number of iterations (max_iter) or scale the data as shown in:\n",
      "    https://scikit-learn.org/stable/modules/preprocessing.html\n",
      "  self.n_iter_ = _check_optimize_result(\"lbfgs\", opt_res, self.max_iter)\n",
      "/Library/Frameworks/Python.framework/Versions/3.7/lib/python3.7/site-packages/sklearn/neural_network/_multilayer_perceptron.py:471: ConvergenceWarning: lbfgs failed to converge (status=1):\n",
      "STOP: TOTAL NO. of ITERATIONS REACHED LIMIT.\n",
      "\n",
      "Increase the number of iterations (max_iter) or scale the data as shown in:\n",
      "    https://scikit-learn.org/stable/modules/preprocessing.html\n",
      "  self.n_iter_ = _check_optimize_result(\"lbfgs\", opt_res, self.max_iter)\n",
      "/Library/Frameworks/Python.framework/Versions/3.7/lib/python3.7/site-packages/sklearn/neural_network/_multilayer_perceptron.py:471: ConvergenceWarning: lbfgs failed to converge (status=1):\n",
      "STOP: TOTAL NO. of ITERATIONS REACHED LIMIT.\n",
      "\n",
      "Increase the number of iterations (max_iter) or scale the data as shown in:\n",
      "    https://scikit-learn.org/stable/modules/preprocessing.html\n",
      "  self.n_iter_ = _check_optimize_result(\"lbfgs\", opt_res, self.max_iter)\n",
      "/Library/Frameworks/Python.framework/Versions/3.7/lib/python3.7/site-packages/sklearn/neural_network/_multilayer_perceptron.py:471: ConvergenceWarning: lbfgs failed to converge (status=1):\n",
      "STOP: TOTAL NO. of ITERATIONS REACHED LIMIT.\n",
      "\n",
      "Increase the number of iterations (max_iter) or scale the data as shown in:\n",
      "    https://scikit-learn.org/stable/modules/preprocessing.html\n",
      "  self.n_iter_ = _check_optimize_result(\"lbfgs\", opt_res, self.max_iter)\n",
      "/Library/Frameworks/Python.framework/Versions/3.7/lib/python3.7/site-packages/sklearn/neural_network/_multilayer_perceptron.py:471: ConvergenceWarning: lbfgs failed to converge (status=1):\n",
      "STOP: TOTAL NO. of ITERATIONS REACHED LIMIT.\n",
      "\n",
      "Increase the number of iterations (max_iter) or scale the data as shown in:\n",
      "    https://scikit-learn.org/stable/modules/preprocessing.html\n",
      "  self.n_iter_ = _check_optimize_result(\"lbfgs\", opt_res, self.max_iter)\n",
      "/Library/Frameworks/Python.framework/Versions/3.7/lib/python3.7/site-packages/sklearn/neural_network/_multilayer_perceptron.py:471: ConvergenceWarning: lbfgs failed to converge (status=1):\n",
      "STOP: TOTAL NO. of ITERATIONS REACHED LIMIT.\n",
      "\n",
      "Increase the number of iterations (max_iter) or scale the data as shown in:\n",
      "    https://scikit-learn.org/stable/modules/preprocessing.html\n",
      "  self.n_iter_ = _check_optimize_result(\"lbfgs\", opt_res, self.max_iter)\n",
      "/Library/Frameworks/Python.framework/Versions/3.7/lib/python3.7/site-packages/sklearn/neural_network/_multilayer_perceptron.py:471: ConvergenceWarning: lbfgs failed to converge (status=1):\n",
      "STOP: TOTAL NO. of ITERATIONS REACHED LIMIT.\n",
      "\n",
      "Increase the number of iterations (max_iter) or scale the data as shown in:\n",
      "    https://scikit-learn.org/stable/modules/preprocessing.html\n",
      "  self.n_iter_ = _check_optimize_result(\"lbfgs\", opt_res, self.max_iter)\n",
      "/Library/Frameworks/Python.framework/Versions/3.7/lib/python3.7/site-packages/sklearn/neural_network/_multilayer_perceptron.py:471: ConvergenceWarning: lbfgs failed to converge (status=1):\n",
      "STOP: TOTAL NO. of ITERATIONS REACHED LIMIT.\n",
      "\n",
      "Increase the number of iterations (max_iter) or scale the data as shown in:\n",
      "    https://scikit-learn.org/stable/modules/preprocessing.html\n",
      "  self.n_iter_ = _check_optimize_result(\"lbfgs\", opt_res, self.max_iter)\n",
      "/Library/Frameworks/Python.framework/Versions/3.7/lib/python3.7/site-packages/sklearn/neural_network/_multilayer_perceptron.py:471: ConvergenceWarning: lbfgs failed to converge (status=1):\n",
      "STOP: TOTAL NO. of ITERATIONS REACHED LIMIT.\n",
      "\n",
      "Increase the number of iterations (max_iter) or scale the data as shown in:\n",
      "    https://scikit-learn.org/stable/modules/preprocessing.html\n",
      "  self.n_iter_ = _check_optimize_result(\"lbfgs\", opt_res, self.max_iter)\n",
      "/Library/Frameworks/Python.framework/Versions/3.7/lib/python3.7/site-packages/sklearn/neural_network/_multilayer_perceptron.py:471: ConvergenceWarning: lbfgs failed to converge (status=1):\n",
      "STOP: TOTAL NO. of ITERATIONS REACHED LIMIT.\n",
      "\n",
      "Increase the number of iterations (max_iter) or scale the data as shown in:\n",
      "    https://scikit-learn.org/stable/modules/preprocessing.html\n",
      "  self.n_iter_ = _check_optimize_result(\"lbfgs\", opt_res, self.max_iter)\n",
      "/Library/Frameworks/Python.framework/Versions/3.7/lib/python3.7/site-packages/sklearn/neural_network/_multilayer_perceptron.py:471: ConvergenceWarning: lbfgs failed to converge (status=2):\n",
      "ABNORMAL_TERMINATION_IN_LNSRCH.\n",
      "\n",
      "Increase the number of iterations (max_iter) or scale the data as shown in:\n",
      "    https://scikit-learn.org/stable/modules/preprocessing.html\n",
      "  self.n_iter_ = _check_optimize_result(\"lbfgs\", opt_res, self.max_iter)\n",
      "/Library/Frameworks/Python.framework/Versions/3.7/lib/python3.7/site-packages/sklearn/neural_network/_multilayer_perceptron.py:471: ConvergenceWarning: lbfgs failed to converge (status=1):\n",
      "STOP: TOTAL NO. of ITERATIONS REACHED LIMIT.\n",
      "\n",
      "Increase the number of iterations (max_iter) or scale the data as shown in:\n",
      "    https://scikit-learn.org/stable/modules/preprocessing.html\n",
      "  self.n_iter_ = _check_optimize_result(\"lbfgs\", opt_res, self.max_iter)\n",
      "/Library/Frameworks/Python.framework/Versions/3.7/lib/python3.7/site-packages/sklearn/neural_network/_multilayer_perceptron.py:471: ConvergenceWarning: lbfgs failed to converge (status=1):\n",
      "STOP: TOTAL NO. of ITERATIONS REACHED LIMIT.\n",
      "\n",
      "Increase the number of iterations (max_iter) or scale the data as shown in:\n",
      "    https://scikit-learn.org/stable/modules/preprocessing.html\n",
      "  self.n_iter_ = _check_optimize_result(\"lbfgs\", opt_res, self.max_iter)\n",
      "/Library/Frameworks/Python.framework/Versions/3.7/lib/python3.7/site-packages/sklearn/neural_network/_multilayer_perceptron.py:471: ConvergenceWarning: lbfgs failed to converge (status=1):\n",
      "STOP: TOTAL NO. of ITERATIONS REACHED LIMIT.\n",
      "\n",
      "Increase the number of iterations (max_iter) or scale the data as shown in:\n",
      "    https://scikit-learn.org/stable/modules/preprocessing.html\n",
      "  self.n_iter_ = _check_optimize_result(\"lbfgs\", opt_res, self.max_iter)\n",
      "/Library/Frameworks/Python.framework/Versions/3.7/lib/python3.7/site-packages/sklearn/neural_network/_multilayer_perceptron.py:471: ConvergenceWarning: lbfgs failed to converge (status=1):\n",
      "STOP: TOTAL NO. of ITERATIONS REACHED LIMIT.\n",
      "\n",
      "Increase the number of iterations (max_iter) or scale the data as shown in:\n",
      "    https://scikit-learn.org/stable/modules/preprocessing.html\n",
      "  self.n_iter_ = _check_optimize_result(\"lbfgs\", opt_res, self.max_iter)\n",
      "/Library/Frameworks/Python.framework/Versions/3.7/lib/python3.7/site-packages/sklearn/neural_network/_multilayer_perceptron.py:471: ConvergenceWarning: lbfgs failed to converge (status=1):\n",
      "STOP: TOTAL NO. of ITERATIONS REACHED LIMIT.\n",
      "\n",
      "Increase the number of iterations (max_iter) or scale the data as shown in:\n",
      "    https://scikit-learn.org/stable/modules/preprocessing.html\n",
      "  self.n_iter_ = _check_optimize_result(\"lbfgs\", opt_res, self.max_iter)\n",
      "/Library/Frameworks/Python.framework/Versions/3.7/lib/python3.7/site-packages/sklearn/neural_network/_multilayer_perceptron.py:471: ConvergenceWarning: lbfgs failed to converge (status=1):\n",
      "STOP: TOTAL NO. of ITERATIONS REACHED LIMIT.\n",
      "\n",
      "Increase the number of iterations (max_iter) or scale the data as shown in:\n",
      "    https://scikit-learn.org/stable/modules/preprocessing.html\n",
      "  self.n_iter_ = _check_optimize_result(\"lbfgs\", opt_res, self.max_iter)\n",
      "/Library/Frameworks/Python.framework/Versions/3.7/lib/python3.7/site-packages/sklearn/neural_network/_multilayer_perceptron.py:471: ConvergenceWarning: lbfgs failed to converge (status=1):\n",
      "STOP: TOTAL NO. of ITERATIONS REACHED LIMIT.\n",
      "\n",
      "Increase the number of iterations (max_iter) or scale the data as shown in:\n",
      "    https://scikit-learn.org/stable/modules/preprocessing.html\n",
      "  self.n_iter_ = _check_optimize_result(\"lbfgs\", opt_res, self.max_iter)\n",
      "/Library/Frameworks/Python.framework/Versions/3.7/lib/python3.7/site-packages/sklearn/neural_network/_multilayer_perceptron.py:471: ConvergenceWarning: lbfgs failed to converge (status=1):\n",
      "STOP: TOTAL NO. of ITERATIONS REACHED LIMIT.\n",
      "\n",
      "Increase the number of iterations (max_iter) or scale the data as shown in:\n",
      "    https://scikit-learn.org/stable/modules/preprocessing.html\n",
      "  self.n_iter_ = _check_optimize_result(\"lbfgs\", opt_res, self.max_iter)\n",
      "/Library/Frameworks/Python.framework/Versions/3.7/lib/python3.7/site-packages/sklearn/neural_network/_multilayer_perceptron.py:471: ConvergenceWarning: lbfgs failed to converge (status=1):\n",
      "STOP: TOTAL NO. of ITERATIONS REACHED LIMIT.\n",
      "\n",
      "Increase the number of iterations (max_iter) or scale the data as shown in:\n",
      "    https://scikit-learn.org/stable/modules/preprocessing.html\n",
      "  self.n_iter_ = _check_optimize_result(\"lbfgs\", opt_res, self.max_iter)\n",
      "/Library/Frameworks/Python.framework/Versions/3.7/lib/python3.7/site-packages/sklearn/neural_network/_multilayer_perceptron.py:471: ConvergenceWarning: lbfgs failed to converge (status=1):\n",
      "STOP: TOTAL NO. of ITERATIONS REACHED LIMIT.\n",
      "\n",
      "Increase the number of iterations (max_iter) or scale the data as shown in:\n",
      "    https://scikit-learn.org/stable/modules/preprocessing.html\n",
      "  self.n_iter_ = _check_optimize_result(\"lbfgs\", opt_res, self.max_iter)\n",
      "/Library/Frameworks/Python.framework/Versions/3.7/lib/python3.7/site-packages/sklearn/neural_network/_multilayer_perceptron.py:471: ConvergenceWarning: lbfgs failed to converge (status=1):\n",
      "STOP: TOTAL NO. of ITERATIONS REACHED LIMIT.\n",
      "\n",
      "Increase the number of iterations (max_iter) or scale the data as shown in:\n",
      "    https://scikit-learn.org/stable/modules/preprocessing.html\n",
      "  self.n_iter_ = _check_optimize_result(\"lbfgs\", opt_res, self.max_iter)\n",
      "/Library/Frameworks/Python.framework/Versions/3.7/lib/python3.7/site-packages/sklearn/neural_network/_multilayer_perceptron.py:471: ConvergenceWarning: lbfgs failed to converge (status=1):\n",
      "STOP: TOTAL NO. of ITERATIONS REACHED LIMIT.\n",
      "\n",
      "Increase the number of iterations (max_iter) or scale the data as shown in:\n",
      "    https://scikit-learn.org/stable/modules/preprocessing.html\n",
      "  self.n_iter_ = _check_optimize_result(\"lbfgs\", opt_res, self.max_iter)\n",
      "/Library/Frameworks/Python.framework/Versions/3.7/lib/python3.7/site-packages/sklearn/neural_network/_multilayer_perceptron.py:471: ConvergenceWarning: lbfgs failed to converge (status=1):\n",
      "STOP: TOTAL NO. of ITERATIONS REACHED LIMIT.\n",
      "\n",
      "Increase the number of iterations (max_iter) or scale the data as shown in:\n",
      "    https://scikit-learn.org/stable/modules/preprocessing.html\n",
      "  self.n_iter_ = _check_optimize_result(\"lbfgs\", opt_res, self.max_iter)\n",
      "/Library/Frameworks/Python.framework/Versions/3.7/lib/python3.7/site-packages/sklearn/neural_network/_multilayer_perceptron.py:471: ConvergenceWarning: lbfgs failed to converge (status=1):\n",
      "STOP: TOTAL NO. of ITERATIONS REACHED LIMIT.\n",
      "\n",
      "Increase the number of iterations (max_iter) or scale the data as shown in:\n",
      "    https://scikit-learn.org/stable/modules/preprocessing.html\n",
      "  self.n_iter_ = _check_optimize_result(\"lbfgs\", opt_res, self.max_iter)\n",
      "/Library/Frameworks/Python.framework/Versions/3.7/lib/python3.7/site-packages/sklearn/neural_network/_multilayer_perceptron.py:471: ConvergenceWarning: lbfgs failed to converge (status=1):\n",
      "STOP: TOTAL NO. of ITERATIONS REACHED LIMIT.\n",
      "\n",
      "Increase the number of iterations (max_iter) or scale the data as shown in:\n",
      "    https://scikit-learn.org/stable/modules/preprocessing.html\n",
      "  self.n_iter_ = _check_optimize_result(\"lbfgs\", opt_res, self.max_iter)\n"
     ]
    }
   ],
   "source": [
    "from sklearn.model_selection import GridSearchCV\n",
    "model = MLPRegressor(solver = 'lbfgs')\n",
    "param_search = {\n",
    "    'hidden_layer_sizes': [15, 25, 30, 40, 60],\n",
    "    'max_iter': [i for i in range(100, 130, 5)],\n",
    "    'learning_rate' : ['constant', 'invscaling', 'adaptive']\n",
    "}\n",
    "tscv = TimeSeriesSplit(n_splits=2)\n",
    "gsearch = GridSearchCV(estimator=model, cv=tscv, param_grid=param_search, scoring = rmse_score)\n",
    "gsearch.fit(X_train, y_train.values.ravel())\n",
    "best_score = gsearch.best_score_\n",
    "best_model = gsearch.best_estimator_"
   ]
  },
  {
   "cell_type": "markdown",
   "source": [
    "pokaż najlepszy model"
   ],
   "metadata": {
    "collapsed": false,
    "pycharm": {
     "name": "#%% md\n"
    }
   }
  },
  {
   "cell_type": "code",
   "execution_count": 12,
   "outputs": [
    {
     "data": {
      "text/plain": "MLPRegressor(hidden_layer_sizes=30, learning_rate='adaptive', max_iter=120,\n             solver='lbfgs')"
     },
     "execution_count": 12,
     "metadata": {},
     "output_type": "execute_result"
    }
   ],
   "source": [
    "best_model"
   ],
   "metadata": {
    "collapsed": false,
    "pycharm": {
     "name": "#%%\n"
    }
   }
  },
  {
   "cell_type": "markdown",
   "source": [
    "## model evaluation"
   ],
   "metadata": {
    "collapsed": false,
    "pycharm": {
     "name": "#%% md\n"
    }
   }
  },
  {
   "cell_type": "code",
   "execution_count": 13,
   "metadata": {
    "pycharm": {
     "name": "#%%\n"
    }
   },
   "outputs": [
    {
     "name": "stdout",
     "output_type": "stream",
     "text": [
      "explained_variance:  0.9933\n",
      "mean_squared_log_error:  0.0005\n",
      "r2:  0.9932\n",
      "MAE:  72.6739\n",
      "MSE:  8499.6277\n",
      "RMSE:  92.1934\n"
     ]
    }
   ],
   "source": [
    "y_true = y_test.values\n",
    "y_pred = best_model.predict(X_test)\n",
    "regression_results(y_true, y_pred)"
   ]
  },
  {
   "cell_type": "code",
   "execution_count": 14,
   "metadata": {
    "pycharm": {
     "name": "#%%\n"
    },
    "scrolled": true
   },
   "outputs": [
    {
     "data": {
      "text/plain": "array([1917.84173861, 2104.96890872, 2398.41143682, 2689.17052671,\n       2991.38631203, 3123.9943082 , 3292.06641645, 3505.83852037,\n       3630.38285257, 3811.78668866, 4049.47748757, 4165.60298008,\n       4426.36406411, 4978.46469085, 5228.22367192, 5753.27125254])"
     },
     "execution_count": 14,
     "metadata": {},
     "output_type": "execute_result"
    }
   ],
   "source": [
    "y_pred"
   ]
  },
  {
   "cell_type": "code",
   "execution_count": 15,
   "metadata": {
    "pycharm": {
     "name": "#%%\n"
    }
   },
   "outputs": [
    {
     "data": {
      "text/plain": "array([1917.84173861, 2104.96890872, 2398.41143682, 2689.17052671,\n       2991.38631203, 3123.9943082 , 3292.06641645, 3505.83852037,\n       3630.38285257, 3811.78668866, 4049.47748757, 4165.60298008,\n       4426.36406411, 4978.46469085, 5228.22367192, 5753.27125254])"
     },
     "execution_count": 15,
     "metadata": {},
     "output_type": "execute_result"
    }
   ],
   "source": [
    "best_model.predict(X_test)"
   ]
  },
  {
   "cell_type": "markdown",
   "source": [
    "## final model training"
   ],
   "metadata": {
    "collapsed": false,
    "pycharm": {
     "name": "#%% md\n"
    }
   }
  },
  {
   "cell_type": "markdown",
   "source": [
    "stwórz zestaw treningowy z całego zbioru do trenowania ostatecznego modelu produkcyjnego"
   ],
   "metadata": {
    "collapsed": false,
    "pycharm": {
     "name": "#%% md\n"
    }
   }
  },
  {
   "cell_type": "code",
   "execution_count": 16,
   "metadata": {},
   "outputs": [
    {
     "data": {
      "text/plain": "            Yesterday  Yesterday_Diff\nRok                                  \n2004-01-01    1662.00           -1.00\n2005-01-01    1887.00          225.00\n2006-01-01    2151.00          264.00\n2007-01-01    2431.28          280.28\n2008-01-01    2725.28          294.00\n2009-01-01    2932.15          206.87\n2010-01-01    3019.64           87.49\n2011-01-01    3276.40          256.76\n2012-01-01    3444.21          167.81\n2013-01-01    3624.21          180.00\n2014-01-01    3746.78          122.57\n2015-01-01    3970.71          223.93\n2016-01-01    4114.66          143.95\n2017-01-01    4585.73          471.07\n2018-01-01    4937.72          351.99\n2019-01-01    5387.05          449.33\n2020-01-01    5969.49          582.44",
      "text/html": "<div>\n<style scoped>\n    .dataframe tbody tr th:only-of-type {\n        vertical-align: middle;\n    }\n\n    .dataframe tbody tr th {\n        vertical-align: top;\n    }\n\n    .dataframe thead th {\n        text-align: right;\n    }\n</style>\n<table border=\"1\" class=\"dataframe\">\n  <thead>\n    <tr style=\"text-align: right;\">\n      <th></th>\n      <th>Yesterday</th>\n      <th>Yesterday_Diff</th>\n    </tr>\n    <tr>\n      <th>Rok</th>\n      <th></th>\n      <th></th>\n    </tr>\n  </thead>\n  <tbody>\n    <tr>\n      <th>2004-01-01</th>\n      <td>1662.00</td>\n      <td>-1.00</td>\n    </tr>\n    <tr>\n      <th>2005-01-01</th>\n      <td>1887.00</td>\n      <td>225.00</td>\n    </tr>\n    <tr>\n      <th>2006-01-01</th>\n      <td>2151.00</td>\n      <td>264.00</td>\n    </tr>\n    <tr>\n      <th>2007-01-01</th>\n      <td>2431.28</td>\n      <td>280.28</td>\n    </tr>\n    <tr>\n      <th>2008-01-01</th>\n      <td>2725.28</td>\n      <td>294.00</td>\n    </tr>\n    <tr>\n      <th>2009-01-01</th>\n      <td>2932.15</td>\n      <td>206.87</td>\n    </tr>\n    <tr>\n      <th>2010-01-01</th>\n      <td>3019.64</td>\n      <td>87.49</td>\n    </tr>\n    <tr>\n      <th>2011-01-01</th>\n      <td>3276.40</td>\n      <td>256.76</td>\n    </tr>\n    <tr>\n      <th>2012-01-01</th>\n      <td>3444.21</td>\n      <td>167.81</td>\n    </tr>\n    <tr>\n      <th>2013-01-01</th>\n      <td>3624.21</td>\n      <td>180.00</td>\n    </tr>\n    <tr>\n      <th>2014-01-01</th>\n      <td>3746.78</td>\n      <td>122.57</td>\n    </tr>\n    <tr>\n      <th>2015-01-01</th>\n      <td>3970.71</td>\n      <td>223.93</td>\n    </tr>\n    <tr>\n      <th>2016-01-01</th>\n      <td>4114.66</td>\n      <td>143.95</td>\n    </tr>\n    <tr>\n      <th>2017-01-01</th>\n      <td>4585.73</td>\n      <td>471.07</td>\n    </tr>\n    <tr>\n      <th>2018-01-01</th>\n      <td>4937.72</td>\n      <td>351.99</td>\n    </tr>\n    <tr>\n      <th>2019-01-01</th>\n      <td>5387.05</td>\n      <td>449.33</td>\n    </tr>\n    <tr>\n      <th>2020-01-01</th>\n      <td>5969.49</td>\n      <td>582.44</td>\n    </tr>\n  </tbody>\n</table>\n</div>"
     },
     "execution_count": 16,
     "metadata": {},
     "output_type": "execute_result"
    }
   ],
   "source": [
    "X_train_prod = dochody.drop(['Wartosc'], axis = 1)\n",
    "y_train_prod = dochody.reset_index().drop(['Yesterday', 'Yesterday_Diff', 'Rok'], axis = 1)\n",
    "X_train_prod"
   ]
  },
  {
   "cell_type": "code",
   "execution_count": 17,
   "metadata": {},
   "outputs": [
    {
     "data": {
      "text/plain": "MLPRegressor(hidden_layer_sizes=30, learning_rate='adaptive', max_iter=120,\n             solver='lbfgs')"
     },
     "execution_count": 17,
     "metadata": {},
     "output_type": "execute_result"
    }
   ],
   "source": [
    "model_prod = best_model.fit(X_train_prod, y_train_prod.values.ravel())\n",
    "model_prod"
   ]
  },
  {
   "cell_type": "code",
   "execution_count": 18,
   "metadata": {},
   "outputs": [],
   "source": [
    "X_predict = dochody\n",
    "# X_predict.loc['2021-01-01', 'Yesterday'] = X_predict.loc['2020-01-01', 'Wartosc']\n",
    "wartosc = X_predict.loc['2020-01-01', 'Wartosc']\n",
    "yesterday = X_predict.loc['2020-01-01', 'Yesterday']\n",
    "diff = wartosc - yesterday"
   ]
  },
  {
   "cell_type": "code",
   "execution_count": 19,
   "metadata": {},
   "outputs": [
    {
     "data": {
      "text/plain": "                     Wartosc  Yesterday  Yesterday_Diff\nRok                                                    \n2004-01-01 00:00:00  1887.00    1662.00           -1.00\n2005-01-01 00:00:00  2151.00    1887.00          225.00\n2006-01-01 00:00:00  2431.28    2151.00          264.00\n2007-01-01 00:00:00  2725.28    2431.28          280.28\n2008-01-01 00:00:00  2932.15    2725.28          294.00\n2009-01-01 00:00:00  3019.64    2932.15          206.87\n2010-01-01 00:00:00  3276.40    3019.64           87.49\n2011-01-01 00:00:00  3444.21    3276.40          256.76\n2012-01-01 00:00:00  3624.21    3444.21          167.81\n2013-01-01 00:00:00  3746.78    3624.21          180.00\n2014-01-01 00:00:00  3970.71    3746.78          122.57\n2015-01-01 00:00:00  4114.66    3970.71          223.93\n2016-01-01 00:00:00  4585.73    4114.66          143.95\n2017-01-01 00:00:00  4937.72    4585.73          471.07\n2018-01-01 00:00:00  5387.05    4937.72          351.99\n2019-01-01 00:00:00  5969.49    5387.05          449.33\n2020-01-01 00:00:00  6502.68    5969.49          582.44\n2021-01-01               NaN    6502.68          533.19",
      "text/html": "<div>\n<style scoped>\n    .dataframe tbody tr th:only-of-type {\n        vertical-align: middle;\n    }\n\n    .dataframe tbody tr th {\n        vertical-align: top;\n    }\n\n    .dataframe thead th {\n        text-align: right;\n    }\n</style>\n<table border=\"1\" class=\"dataframe\">\n  <thead>\n    <tr style=\"text-align: right;\">\n      <th></th>\n      <th>Wartosc</th>\n      <th>Yesterday</th>\n      <th>Yesterday_Diff</th>\n    </tr>\n    <tr>\n      <th>Rok</th>\n      <th></th>\n      <th></th>\n      <th></th>\n    </tr>\n  </thead>\n  <tbody>\n    <tr>\n      <th>2004-01-01 00:00:00</th>\n      <td>1887.00</td>\n      <td>1662.00</td>\n      <td>-1.00</td>\n    </tr>\n    <tr>\n      <th>2005-01-01 00:00:00</th>\n      <td>2151.00</td>\n      <td>1887.00</td>\n      <td>225.00</td>\n    </tr>\n    <tr>\n      <th>2006-01-01 00:00:00</th>\n      <td>2431.28</td>\n      <td>2151.00</td>\n      <td>264.00</td>\n    </tr>\n    <tr>\n      <th>2007-01-01 00:00:00</th>\n      <td>2725.28</td>\n      <td>2431.28</td>\n      <td>280.28</td>\n    </tr>\n    <tr>\n      <th>2008-01-01 00:00:00</th>\n      <td>2932.15</td>\n      <td>2725.28</td>\n      <td>294.00</td>\n    </tr>\n    <tr>\n      <th>2009-01-01 00:00:00</th>\n      <td>3019.64</td>\n      <td>2932.15</td>\n      <td>206.87</td>\n    </tr>\n    <tr>\n      <th>2010-01-01 00:00:00</th>\n      <td>3276.40</td>\n      <td>3019.64</td>\n      <td>87.49</td>\n    </tr>\n    <tr>\n      <th>2011-01-01 00:00:00</th>\n      <td>3444.21</td>\n      <td>3276.40</td>\n      <td>256.76</td>\n    </tr>\n    <tr>\n      <th>2012-01-01 00:00:00</th>\n      <td>3624.21</td>\n      <td>3444.21</td>\n      <td>167.81</td>\n    </tr>\n    <tr>\n      <th>2013-01-01 00:00:00</th>\n      <td>3746.78</td>\n      <td>3624.21</td>\n      <td>180.00</td>\n    </tr>\n    <tr>\n      <th>2014-01-01 00:00:00</th>\n      <td>3970.71</td>\n      <td>3746.78</td>\n      <td>122.57</td>\n    </tr>\n    <tr>\n      <th>2015-01-01 00:00:00</th>\n      <td>4114.66</td>\n      <td>3970.71</td>\n      <td>223.93</td>\n    </tr>\n    <tr>\n      <th>2016-01-01 00:00:00</th>\n      <td>4585.73</td>\n      <td>4114.66</td>\n      <td>143.95</td>\n    </tr>\n    <tr>\n      <th>2017-01-01 00:00:00</th>\n      <td>4937.72</td>\n      <td>4585.73</td>\n      <td>471.07</td>\n    </tr>\n    <tr>\n      <th>2018-01-01 00:00:00</th>\n      <td>5387.05</td>\n      <td>4937.72</td>\n      <td>351.99</td>\n    </tr>\n    <tr>\n      <th>2019-01-01 00:00:00</th>\n      <td>5969.49</td>\n      <td>5387.05</td>\n      <td>449.33</td>\n    </tr>\n    <tr>\n      <th>2020-01-01 00:00:00</th>\n      <td>6502.68</td>\n      <td>5969.49</td>\n      <td>582.44</td>\n    </tr>\n    <tr>\n      <th>2021-01-01</th>\n      <td>NaN</td>\n      <td>6502.68</td>\n      <td>533.19</td>\n    </tr>\n  </tbody>\n</table>\n</div>"
     },
     "execution_count": 19,
     "metadata": {},
     "output_type": "execute_result"
    }
   ],
   "source": [
    "X_predict.loc['2021-01-01', 'Yesterday'] = wartosc\n",
    "X_predict.loc['2021-01-01', 'Yesterday_Diff'] = diff\n",
    "X_predict"
   ]
  },
  {
   "cell_type": "code",
   "execution_count": 20,
   "metadata": {},
   "outputs": [
    {
     "data": {
      "text/plain": "                     Yesterday  Yesterday_Diff\nRok                                           \n2004-01-01 00:00:00    1662.00           -1.00\n2005-01-01 00:00:00    1887.00          225.00\n2006-01-01 00:00:00    2151.00          264.00\n2007-01-01 00:00:00    2431.28          280.28\n2008-01-01 00:00:00    2725.28          294.00\n2009-01-01 00:00:00    2932.15          206.87\n2010-01-01 00:00:00    3019.64           87.49\n2011-01-01 00:00:00    3276.40          256.76\n2012-01-01 00:00:00    3444.21          167.81\n2013-01-01 00:00:00    3624.21          180.00\n2014-01-01 00:00:00    3746.78          122.57\n2015-01-01 00:00:00    3970.71          223.93\n2016-01-01 00:00:00    4114.66          143.95\n2017-01-01 00:00:00    4585.73          471.07\n2018-01-01 00:00:00    4937.72          351.99\n2019-01-01 00:00:00    5387.05          449.33\n2020-01-01 00:00:00    5969.49          582.44\n2021-01-01             6502.68          533.19",
      "text/html": "<div>\n<style scoped>\n    .dataframe tbody tr th:only-of-type {\n        vertical-align: middle;\n    }\n\n    .dataframe tbody tr th {\n        vertical-align: top;\n    }\n\n    .dataframe thead th {\n        text-align: right;\n    }\n</style>\n<table border=\"1\" class=\"dataframe\">\n  <thead>\n    <tr style=\"text-align: right;\">\n      <th></th>\n      <th>Yesterday</th>\n      <th>Yesterday_Diff</th>\n    </tr>\n    <tr>\n      <th>Rok</th>\n      <th></th>\n      <th></th>\n    </tr>\n  </thead>\n  <tbody>\n    <tr>\n      <th>2004-01-01 00:00:00</th>\n      <td>1662.00</td>\n      <td>-1.00</td>\n    </tr>\n    <tr>\n      <th>2005-01-01 00:00:00</th>\n      <td>1887.00</td>\n      <td>225.00</td>\n    </tr>\n    <tr>\n      <th>2006-01-01 00:00:00</th>\n      <td>2151.00</td>\n      <td>264.00</td>\n    </tr>\n    <tr>\n      <th>2007-01-01 00:00:00</th>\n      <td>2431.28</td>\n      <td>280.28</td>\n    </tr>\n    <tr>\n      <th>2008-01-01 00:00:00</th>\n      <td>2725.28</td>\n      <td>294.00</td>\n    </tr>\n    <tr>\n      <th>2009-01-01 00:00:00</th>\n      <td>2932.15</td>\n      <td>206.87</td>\n    </tr>\n    <tr>\n      <th>2010-01-01 00:00:00</th>\n      <td>3019.64</td>\n      <td>87.49</td>\n    </tr>\n    <tr>\n      <th>2011-01-01 00:00:00</th>\n      <td>3276.40</td>\n      <td>256.76</td>\n    </tr>\n    <tr>\n      <th>2012-01-01 00:00:00</th>\n      <td>3444.21</td>\n      <td>167.81</td>\n    </tr>\n    <tr>\n      <th>2013-01-01 00:00:00</th>\n      <td>3624.21</td>\n      <td>180.00</td>\n    </tr>\n    <tr>\n      <th>2014-01-01 00:00:00</th>\n      <td>3746.78</td>\n      <td>122.57</td>\n    </tr>\n    <tr>\n      <th>2015-01-01 00:00:00</th>\n      <td>3970.71</td>\n      <td>223.93</td>\n    </tr>\n    <tr>\n      <th>2016-01-01 00:00:00</th>\n      <td>4114.66</td>\n      <td>143.95</td>\n    </tr>\n    <tr>\n      <th>2017-01-01 00:00:00</th>\n      <td>4585.73</td>\n      <td>471.07</td>\n    </tr>\n    <tr>\n      <th>2018-01-01 00:00:00</th>\n      <td>4937.72</td>\n      <td>351.99</td>\n    </tr>\n    <tr>\n      <th>2019-01-01 00:00:00</th>\n      <td>5387.05</td>\n      <td>449.33</td>\n    </tr>\n    <tr>\n      <th>2020-01-01 00:00:00</th>\n      <td>5969.49</td>\n      <td>582.44</td>\n    </tr>\n    <tr>\n      <th>2021-01-01</th>\n      <td>6502.68</td>\n      <td>533.19</td>\n    </tr>\n  </tbody>\n</table>\n</div>"
     },
     "execution_count": 20,
     "metadata": {},
     "output_type": "execute_result"
    }
   ],
   "source": [
    "predicted_true = X_predict['Wartosc']\n",
    "X_predict = X_predict.drop('Wartosc', axis = 1)\n",
    "X_predict"
   ]
  },
  {
   "cell_type": "markdown",
   "source": [
    "## final prediction"
   ],
   "metadata": {
    "collapsed": false,
    "pycharm": {
     "name": "#%% md\n"
    }
   }
  },
  {
   "cell_type": "code",
   "execution_count": 21,
   "metadata": {},
   "outputs": [
    {
     "data": {
      "text/plain": "array([1771.15436925, 2077.14217044, 2366.95685262, 2666.95497197,\n       2980.61106632, 3171.69514558, 3227.25379547, 3549.31157129,\n       3698.72505483, 3891.91917123, 4003.35946244, 4270.08008356,\n       4397.12397641, 4993.0630127 , 5327.12009716, 5829.86143233,\n       6483.65723044, 7029.80986443])"
     },
     "execution_count": 21,
     "metadata": {},
     "output_type": "execute_result"
    }
   ],
   "source": [
    "y_pred = model_prod.predict(X_predict)\n",
    "y_pred"
   ]
  },
  {
   "cell_type": "code",
   "execution_count": 22,
   "metadata": {},
   "outputs": [
    {
     "data": {
      "text/plain": "                     Yesterday  Yesterday_Diff  pred_wartosc  true_wartosc\nRok                                                                       \n2004-01-01 00:00:00    1662.00           -1.00   1771.154369       1887.00\n2005-01-01 00:00:00    1887.00          225.00   2077.142170       2151.00\n2006-01-01 00:00:00    2151.00          264.00   2366.956853       2431.28\n2007-01-01 00:00:00    2431.28          280.28   2666.954972       2725.28\n2008-01-01 00:00:00    2725.28          294.00   2980.611066       2932.15\n2009-01-01 00:00:00    2932.15          206.87   3171.695146       3019.64\n2010-01-01 00:00:00    3019.64           87.49   3227.253795       3276.40\n2011-01-01 00:00:00    3276.40          256.76   3549.311571       3444.21\n2012-01-01 00:00:00    3444.21          167.81   3698.725055       3624.21\n2013-01-01 00:00:00    3624.21          180.00   3891.919171       3746.78\n2014-01-01 00:00:00    3746.78          122.57   4003.359462       3970.71\n2015-01-01 00:00:00    3970.71          223.93   4270.080084       4114.66\n2016-01-01 00:00:00    4114.66          143.95   4397.123976       4585.73\n2017-01-01 00:00:00    4585.73          471.07   4993.063013       4937.72\n2018-01-01 00:00:00    4937.72          351.99   5327.120097       5387.05\n2019-01-01 00:00:00    5387.05          449.33   5829.861432       5969.49\n2020-01-01 00:00:00    5969.49          582.44   6483.657230       6502.68\n2021-01-01             6502.68          533.19   7029.809864           NaN",
      "text/html": "<div>\n<style scoped>\n    .dataframe tbody tr th:only-of-type {\n        vertical-align: middle;\n    }\n\n    .dataframe tbody tr th {\n        vertical-align: top;\n    }\n\n    .dataframe thead th {\n        text-align: right;\n    }\n</style>\n<table border=\"1\" class=\"dataframe\">\n  <thead>\n    <tr style=\"text-align: right;\">\n      <th></th>\n      <th>Yesterday</th>\n      <th>Yesterday_Diff</th>\n      <th>pred_wartosc</th>\n      <th>true_wartosc</th>\n    </tr>\n    <tr>\n      <th>Rok</th>\n      <th></th>\n      <th></th>\n      <th></th>\n      <th></th>\n    </tr>\n  </thead>\n  <tbody>\n    <tr>\n      <th>2004-01-01 00:00:00</th>\n      <td>1662.00</td>\n      <td>-1.00</td>\n      <td>1771.154369</td>\n      <td>1887.00</td>\n    </tr>\n    <tr>\n      <th>2005-01-01 00:00:00</th>\n      <td>1887.00</td>\n      <td>225.00</td>\n      <td>2077.142170</td>\n      <td>2151.00</td>\n    </tr>\n    <tr>\n      <th>2006-01-01 00:00:00</th>\n      <td>2151.00</td>\n      <td>264.00</td>\n      <td>2366.956853</td>\n      <td>2431.28</td>\n    </tr>\n    <tr>\n      <th>2007-01-01 00:00:00</th>\n      <td>2431.28</td>\n      <td>280.28</td>\n      <td>2666.954972</td>\n      <td>2725.28</td>\n    </tr>\n    <tr>\n      <th>2008-01-01 00:00:00</th>\n      <td>2725.28</td>\n      <td>294.00</td>\n      <td>2980.611066</td>\n      <td>2932.15</td>\n    </tr>\n    <tr>\n      <th>2009-01-01 00:00:00</th>\n      <td>2932.15</td>\n      <td>206.87</td>\n      <td>3171.695146</td>\n      <td>3019.64</td>\n    </tr>\n    <tr>\n      <th>2010-01-01 00:00:00</th>\n      <td>3019.64</td>\n      <td>87.49</td>\n      <td>3227.253795</td>\n      <td>3276.40</td>\n    </tr>\n    <tr>\n      <th>2011-01-01 00:00:00</th>\n      <td>3276.40</td>\n      <td>256.76</td>\n      <td>3549.311571</td>\n      <td>3444.21</td>\n    </tr>\n    <tr>\n      <th>2012-01-01 00:00:00</th>\n      <td>3444.21</td>\n      <td>167.81</td>\n      <td>3698.725055</td>\n      <td>3624.21</td>\n    </tr>\n    <tr>\n      <th>2013-01-01 00:00:00</th>\n      <td>3624.21</td>\n      <td>180.00</td>\n      <td>3891.919171</td>\n      <td>3746.78</td>\n    </tr>\n    <tr>\n      <th>2014-01-01 00:00:00</th>\n      <td>3746.78</td>\n      <td>122.57</td>\n      <td>4003.359462</td>\n      <td>3970.71</td>\n    </tr>\n    <tr>\n      <th>2015-01-01 00:00:00</th>\n      <td>3970.71</td>\n      <td>223.93</td>\n      <td>4270.080084</td>\n      <td>4114.66</td>\n    </tr>\n    <tr>\n      <th>2016-01-01 00:00:00</th>\n      <td>4114.66</td>\n      <td>143.95</td>\n      <td>4397.123976</td>\n      <td>4585.73</td>\n    </tr>\n    <tr>\n      <th>2017-01-01 00:00:00</th>\n      <td>4585.73</td>\n      <td>471.07</td>\n      <td>4993.063013</td>\n      <td>4937.72</td>\n    </tr>\n    <tr>\n      <th>2018-01-01 00:00:00</th>\n      <td>4937.72</td>\n      <td>351.99</td>\n      <td>5327.120097</td>\n      <td>5387.05</td>\n    </tr>\n    <tr>\n      <th>2019-01-01 00:00:00</th>\n      <td>5387.05</td>\n      <td>449.33</td>\n      <td>5829.861432</td>\n      <td>5969.49</td>\n    </tr>\n    <tr>\n      <th>2020-01-01 00:00:00</th>\n      <td>5969.49</td>\n      <td>582.44</td>\n      <td>6483.657230</td>\n      <td>6502.68</td>\n    </tr>\n    <tr>\n      <th>2021-01-01</th>\n      <td>6502.68</td>\n      <td>533.19</td>\n      <td>7029.809864</td>\n      <td>NaN</td>\n    </tr>\n  </tbody>\n</table>\n</div>"
     },
     "execution_count": 22,
     "metadata": {},
     "output_type": "execute_result"
    }
   ],
   "source": [
    "X_predict['pred_wartosc'] = y_pred\n",
    "X_predict['true_wartosc'] = predicted_true\n",
    "X_predict"
   ]
  },
  {
   "cell_type": "markdown",
   "metadata": {},
   "source": [
    "### odpowiedź: przewidywane dochody per capita w 2021 roku"
   ]
  },
  {
   "cell_type": "code",
   "execution_count": 23,
   "metadata": {
    "pycharm": {
     "name": "#%%\n"
    }
   },
   "outputs": [
    {
     "data": {
      "text/plain": "7029.809864428937"
     },
     "execution_count": 23,
     "metadata": {},
     "output_type": "execute_result"
    }
   ],
   "source": [
    "X_predict.loc['2021-01-01'].pred_wartosc"
   ]
  }
 ],
 "metadata": {
  "kernelspec": {
   "display_name": "Python 3",
   "language": "python",
   "name": "python3"
  },
  "language_info": {
   "codemirror_mode": {
    "name": "ipython",
    "version": 3
   },
   "file_extension": ".py",
   "mimetype": "text/x-python",
   "name": "python",
   "nbconvert_exporter": "python",
   "pygments_lexer": "ipython3",
   "version": "3.8.3"
  }
 },
 "nbformat": 4,
 "nbformat_minor": 1
}