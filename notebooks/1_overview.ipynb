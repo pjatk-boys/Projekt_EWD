{
 "cells": [
  {
   "cell_type": "code",
   "execution_count": 1,
   "metadata": {},
   "outputs": [],
   "source": [
    "import pandas as pd\n",
    "import plotly.express as px"
   ]
  },
  {
   "cell_type": "code",
   "execution_count": 2,
   "metadata": {},
   "outputs": [],
   "source": [
    "data_path_ludnosc = \"../ludnosc.csv\"\n",
    "data_path_gminy = \"../gminy.csv\""
   ]
  },
  {
   "cell_type": "markdown",
   "metadata": {},
   "source": [
    "# ludnosc"
   ]
  },
  {
   "cell_type": "markdown",
   "metadata": {},
   "source": [
    "## przegląd danych"
   ]
  },
  {
   "cell_type": "code",
   "execution_count": 3,
   "metadata": {},
   "outputs": [],
   "source": [
    "df_ludnosc = pd.read_csv(data_path_ludnosc, sep=\";\", decimal=\".\")"
   ]
  },
  {
   "cell_type": "code",
   "execution_count": 4,
   "metadata": {},
   "outputs": [],
   "source": [
    "df_ludnosc.Wartosc = df_ludnosc.Wartosc.str.replace(',', '').astype(float)"
   ]
  },
  {
   "cell_type": "code",
   "execution_count": 5,
   "outputs": [
    {
     "name": "stdout",
     "output_type": "stream",
     "text": [
      "<class 'pandas.core.frame.DataFrame'>\n",
      "RangeIndex: 25874 entries, 0 to 25873\n",
      "Data columns (total 9 columns):\n",
      " #   Column           Non-Null Count  Dtype  \n",
      "---  ------           --------------  -----  \n",
      " 0   Kategoria        25874 non-null  object \n",
      " 1   Kod              25874 non-null  int64  \n",
      " 2   Nazwa            25874 non-null  object \n",
      " 3   Zmienna          25874 non-null  object \n",
      " 4   Rok              25874 non-null  int64  \n",
      " 5   Wartosc          19142 non-null  float64\n",
      " 6   Jednostka miary  25874 non-null  object \n",
      " 7   Atrybut          66 non-null     object \n",
      " 8   Unnamed: 8       0 non-null      float64\n",
      "dtypes: float64(2), int64(2), object(5)\n",
      "memory usage: 1.8+ MB\n"
     ]
    }
   ],
   "source": [
    "df_ludnosc.info()"
   ],
   "metadata": {
    "collapsed": false,
    "pycharm": {
     "name": "#%%\n"
    }
   }
  },
  {
   "cell_type": "code",
   "execution_count": 6,
   "metadata": {},
   "outputs": [
    {
     "name": "stdout",
     "output_type": "stream",
     "text": [
      "Kategoria: ['Gospodarstwa' 'Osoby' 'Wyposażenie' 'Artykuły' 'Dochody' 'Wydatki'] \n",
      "\n",
      "Kod: [      0  200000  400000  600000  800000 1000000 1200000 1400000 1600000\n",
      " 1800000 2000000 2200000 2400000 2600000 2800000 3000000 3200000] \n",
      "\n",
      "Nazwa: ['POLSKA' 'DOLNOŚLĄSKIE' 'KUJAWSKO-POMORSKIE' 'LUBELSKIE' 'LUBUSKIE'\n",
      " 'ŁÓDZKIE' 'MAŁOPOLSKIE' 'MAZOWIECKIE' 'OPOLSKIE' 'PODKARPACKIE'\n",
      " 'PODLASKIE' 'POMORSKIE' 'ŚLĄSKIE' 'ŚWIĘTOKRZYSKIE' 'WARMIŃSKO-MAZURSKIE'\n",
      " 'WIELKOPOLSKIE' 'ZACHODNIOPOMORSKIE'] \n",
      "\n",
      "Zmienna: ['gospodarstwa domowe objęte badaniem' 'ogółem' 'pracujących'\n",
      " 'pobierający świadczenia społeczne' 'emerytury i renty'\n",
      " 'pozostających na utrzymaniu'\n",
      " 'przeciętna liczba osób pobierających  świadczenia społeczne w relacji do przeciętnej liczby osób w gospodarstwie domowym'\n",
      " 'chłodziarka' 'automat pralniczy' 'zmywarka do naczyń'\n",
      " 'kuchenka mikrofalowa'\n",
      " 'kuchenka elektryczna z płytą ceramiczną, indukcyjną' 'samochód osobowy'\n",
      " 'odtwarzacz płyt kompaktowych'\n",
      " 'zestaw do odbioru, rejestracji i odtwarzania dźwięku (wieża HI-FI)'\n",
      " 'odbiornik telewizyjny' 'zestaw kina domowego' 'odtwarzacz DVD'\n",
      " 'telefon komórkowy' 'smartfon' 'magnetowid, odtwarzacz'\n",
      " 'urządzenie do odbioru telewizji satelitarnej'\n",
      " 'urządzenie do odbioru telewizji satelitarnej lub kablowej'\n",
      " 'komputer osobisty ogółem' 'komputer osobisty z dostępem do Internetu'\n",
      " 'komputer osobisty z szerokopasmowym dostępem do Internetu'\n",
      " 'urządzenie z dostępem do Internetu' 'drukarka' 'drukarka wielofunkcyjna'\n",
      " 'pieczywo i produkty zbożowe' 'pieczywo' 'mięso' 'mięso surowe'\n",
      " 'mięso surowe drobiowe' 'wędliny i inne przetwory mięsne' 'wędliny'\n",
      " 'ryby' 'ryby i owoce morza' 'mleko świeże' 'jogurty i napoje mleczne'\n",
      " 'jogurty'\n",
      " 'mleko (bez zagęszczonego i w proszku), napoje mleczne i jogurty'\n",
      " 'sery i twarogi' 'jaja' 'oleje i tłuszcze' 'owoce' 'warzywa' 'ziemniaki'\n",
      " 'cukier' 'z pracy najemnej' 'z gospodarstwa indywidualnego w rolnictwie'\n",
      " 'z pracy na własny rachunek'\n",
      " 'przeciętny miesięczny dochód rozporządzalny na 1 osobę  z gospodarstwa indywidualnego w rolnictwie w relacji do przeciętnego miesięcznego dochodu na 1 osobę z pracy na własny rachunek'\n",
      " 'ze świadczeń społecznych'\n",
      " 'ze świadczeń społecznych; w tym ze świadczenia wychowawczego Rodzina 500+\"\"'\n",
      " 'dochód do dyspozycji' 'ogółem, Polska = 100'\n",
      " 'towary i usługi konsumpcyjne' 'żywność i napoje bezalkoholowe'\n",
      " 'napoje alkoholowe i wyroby tytoniowe' 'odzież i obuwie'\n",
      " 'użytkowanie mieszkania lub domu i nośniki energii'\n",
      " 'wyposażenie mieszkania i prowadzenie gospodarstwa domowego' 'zdrowie'\n",
      " 'transport' 'łączność' 'rekreacja i kultura' 'edukacja'\n",
      " 'restauracje i hotele' 'pozostałe wydatki na towary i usługi'\n",
      " 'ogółem (BAEL)' 'towary i usługi konsumpcyjne (BAEL)'\n",
      " 'udział wydatków na żywność i napoje bezalkoholowe w wydatkach ogółem'\n",
      " 'udział wydatków na użytkowanie mieszkania i nośniki energii w wydatkach ogółem'] \n",
      "\n",
      "Rok: [1999 2000 2001 2002 2003 2004 2005 2006 2007 2008 2009 2010 2011 2012\n",
      " 2013 2014 2015 2016 2017 2018 2019 2020 1998] \n",
      "\n",
      "Wartosc: [31428. 36163. 31847. ...  7746.  7317. 65469.] \n",
      "\n",
      "Jednostka miary: ['gosp.' 'osoba' '-' '%' 'kg' 'l' 'szt.' 'zł'] \n",
      "\n",
      "Atrybut: [nan 'm' 'x'] \n",
      "\n",
      "Unnamed: 8: [nan] \n",
      "\n"
     ]
    }
   ],
   "source": [
    "# print unique values foreach column\n",
    "for column in df_ludnosc.columns:\n",
    "    print(f\"{column}: {df_ludnosc[column].unique()} \\n\")"
   ]
  },
  {
   "cell_type": "markdown",
   "metadata": {},
   "source": [
    "## zarobki"
   ]
  },
  {
   "cell_type": "code",
   "execution_count": null,
   "metadata": {},
   "outputs": [],
   "source": [
    "df_ludnosc[(df_ludnosc.Kategoria == \"Dochody\") & (df_ludnosc.Zmienna == \"ogółem\")]"
   ]
  },
  {
   "cell_type": "code",
   "execution_count": null,
   "metadata": {},
   "outputs": [],
   "source": [
    "df_ludnosc[(df_ludnosc.Kategoria == \"Dochody\") & (df_ludnosc.Zmienna == \"ogółem\")].groupby(\"Nazwa\").Wartosc.describe()"
   ]
  },
  {
   "cell_type": "markdown",
   "metadata": {},
   "source": [
    "### średnie dochody per województwo na przestrzeni lat"
   ]
  },
  {
   "cell_type": "code",
   "execution_count": null,
   "metadata": {},
   "outputs": [],
   "source": [
    "mean_income_annually = pd.DataFrame(\n",
    "    df_ludnosc[(df_ludnosc.Kategoria == \"Dochody\") & (df_ludnosc.Zmienna == \"ogółem\")].groupby(\n",
    "        [\"Nazwa\", \"Rok\"]).Wartosc.mean())\n",
    "mean_income_annually.reset_index(inplace=True)\n",
    "mean_income_annually"
   ]
  },
  {
   "cell_type": "code",
   "execution_count": null,
   "outputs": [],
   "source": [
    "fig = px.line(mean_income_annually,\n",
    "              x=\"Rok\", y=\"Wartosc\", color=\"Nazwa\", hover_name=\"Nazwa\",\n",
    "              line_shape=\"spline\", render_mode=\"svg\")\n",
    "\n",
    "fig.show()"
   ],
   "metadata": {
    "collapsed": false,
    "pycharm": {
     "name": "#%%\n"
    }
   }
  },
  {
   "cell_type": "markdown",
   "metadata": {},
   "source": [
    "### zmienność w dochodach na przestrzeni lat"
   ]
  },
  {
   "cell_type": "code",
   "execution_count": null,
   "metadata": {},
   "outputs": [],
   "source": [
    "incomes_variability = pd.DataFrame(df_ludnosc[(df_ludnosc.Kategoria == \"Dochody\") & (df_ludnosc.Zmienna == \"ogółem\")].groupby(\n",
    "    \"Nazwa\").Wartosc.std().sort_values(ascending=False))\n",
    "incomes_variability.reset_index(inplace=True)\n",
    "incomes_variability"
   ]
  },
  {
   "cell_type": "code",
   "execution_count": null,
   "outputs": [],
   "source": [
    "fig = px.bar(incomes_variability, x='Nazwa', y='Wartosc', title=\"zmienność w dochodach na przestrzeni lat\", labels={'Nazwa':\"województwo\"})\n",
    "fig.show()"
   ],
   "metadata": {
    "collapsed": false,
    "pycharm": {
     "name": "#%%\n"
    }
   }
  },
  {
   "cell_type": "markdown",
   "metadata": {},
   "source": [
    "### zmiana wydatków poszczególnych wojewóctw na przestrzeni lat"
   ]
  },
  {
   "cell_type": "markdown",
   "metadata": {},
   "source": [
    "#### zmiana ilościowa"
   ]
  },
  {
   "cell_type": "code",
   "execution_count": null,
   "metadata": {},
   "outputs": [],
   "source": [
    "pd.DataFrame(df_ludnosc[(df_ludnosc.Kategoria == \"Dochody\") & (df_ludnosc.Zmienna == \"ogółem\")].groupby(\n",
    "    [\"Nazwa\", \"Rok\"]).Wartosc.mean().diff())"
   ]
  },
  {
   "cell_type": "markdown",
   "metadata": {},
   "source": [
    "#### procentowa"
   ]
  },
  {
   "cell_type": "code",
   "execution_count": null,
   "metadata": {},
   "outputs": [],
   "source": [
    "incomes_change_percent = pd.DataFrame(df_ludnosc[(df_ludnosc.Kategoria == \"Dochody\") & (df_ludnosc.Zmienna == \"ogółem\")].groupby(\n",
    "    [\"Nazwa\", \"Rok\"]).Wartosc.mean().pct_change())\n",
    "incomes_change_percent.reset_index(inplace=True)\n",
    "incomes_change_percent"
   ]
  },
  {
   "cell_type": "code",
   "execution_count": null,
   "outputs": [],
   "source": [
    "# zmiana wydatków poszczególnych wojewóctw na przestrzeni lat\n",
    "fig = px.line(incomes_change_percent[incomes_change_percent.Rok != 1999],\n",
    "              x=\"Rok\", y=\"Wartosc\", color=\"Nazwa\", hover_name=\"Nazwa\",\n",
    "              line_shape=\"spline\", render_mode=\"svg\")\n",
    "\n",
    "fig.show()"
   ],
   "metadata": {
    "collapsed": false,
    "pycharm": {
     "name": "#%%\n"
    }
   }
  },
  {
   "cell_type": "markdown",
   "metadata": {},
   "source": [
    "## wydatki"
   ]
  },
  {
   "cell_type": "code",
   "execution_count": null,
   "metadata": {},
   "outputs": [],
   "source": [
    "df_ludnosc[(df_ludnosc.Kategoria == \"Wydatki\") & (df_ludnosc.Zmienna == \"ogółem\")]"
   ]
  },
  {
   "cell_type": "code",
   "execution_count": null,
   "metadata": {},
   "outputs": [],
   "source": [
    "df_ludnosc[(df_ludnosc.Kategoria == \"Wydatki\") & (df_ludnosc.Zmienna == \"ogółem\")].groupby(\"Nazwa\").Wartosc.describe()"
   ]
  },
  {
   "cell_type": "markdown",
   "metadata": {},
   "source": [
    "### średnie wydatki per województwo na przestrzeni lat"
   ]
  },
  {
   "cell_type": "code",
   "execution_count": null,
   "metadata": {},
   "outputs": [],
   "source": [
    "# to mean() jest niepotrzebne, ponieważ jest tylko jedna obserwacja per wojewódzwto, per rok, ale inaczej nie umiem.\n",
    "mean_spendings_annually = pd.DataFrame(\n",
    "    df_ludnosc[(df_ludnosc.Kategoria == \"Wydatki\") & (df_ludnosc.Zmienna == \"ogółem\")].groupby(\n",
    "        [\"Nazwa\", \"Rok\"]).Wartosc.mean())\n",
    "mean_spendings_annually.reset_index(inplace=True)\n",
    "mean_spendings_annually"
   ]
  },
  {
   "cell_type": "code",
   "execution_count": null,
   "outputs": [],
   "source": [
    "fig = px.line(mean_spendings_annually,\n",
    "              x=\"Rok\", y=\"Wartosc\", color=\"Nazwa\", hover_name=\"Nazwa\",\n",
    "              line_shape=\"spline\", render_mode=\"svg\")\n",
    "\n",
    "fig.show()"
   ],
   "metadata": {
    "collapsed": false,
    "pycharm": {
     "name": "#%%\n"
    }
   }
  },
  {
   "cell_type": "markdown",
   "metadata": {},
   "source": [
    "### zmienność w wydatkach na przestrzeni lat"
   ]
  },
  {
   "cell_type": "code",
   "execution_count": null,
   "metadata": {},
   "outputs": [],
   "source": [
    "spendings_variability = pd.DataFrame(df_ludnosc[(df_ludnosc.Kategoria == \"Wydatki\") & (df_ludnosc.Zmienna == \"ogółem\")].groupby(\n",
    "    \"Nazwa\").Wartosc.std().sort_values(ascending=False))\n",
    "spendings_variability.reset_index(inplace=True)\n"
   ]
  },
  {
   "cell_type": "code",
   "execution_count": null,
   "outputs": [],
   "source": [
    "fig = px.bar(spendings_variability, x='Nazwa', y='Wartosc', title=\"zmienność w wydatkach na przestrzeni lat\", labels={'Nazwa':\"województwo\"})\n",
    "fig.show()"
   ],
   "metadata": {
    "collapsed": false,
    "pycharm": {
     "name": "#%%\n"
    }
   }
  },
  {
   "cell_type": "markdown",
   "metadata": {},
   "source": [
    "### zmiana wydatków poszczególnych wojewóctw na przestrzeni lat"
   ]
  },
  {
   "cell_type": "markdown",
   "metadata": {},
   "source": [
    "#### zmiana ilościowa"
   ]
  },
  {
   "cell_type": "code",
   "execution_count": null,
   "metadata": {
    "scrolled": true
   },
   "outputs": [],
   "source": [
    "pd.DataFrame(df_ludnosc[(df_ludnosc.Kategoria == \"Wydatki\") & (df_ludnosc.Zmienna == \"ogółem\")].groupby(\n",
    "    [\"Nazwa\", \"Rok\"]).Wartosc.mean().diff())"
   ]
  },
  {
   "cell_type": "markdown",
   "metadata": {},
   "source": [
    "#### zmiana procentowa"
   ]
  },
  {
   "cell_type": "code",
   "execution_count": null,
   "metadata": {},
   "outputs": [],
   "source": [
    "spendings_change_percent = pd.DataFrame(df_ludnosc[(df_ludnosc.Kategoria == \"Wydatki\") & (df_ludnosc.Zmienna == \"ogółem\")].groupby(\n",
    "    [\"Nazwa\", \"Rok\"]).Wartosc.mean().pct_change())\n",
    "spendings_change_percent.reset_index(inplace=True)\n",
    "spendings_change_percent"
   ]
  },
  {
   "cell_type": "code",
   "execution_count": null,
   "outputs": [],
   "source": [
    "fig = px.line(spendings_change_percent[spendings_change_percent.Rok != 1998],\n",
    "              x=\"Rok\", y=\"Wartosc\", color=\"Nazwa\", hover_name=\"Nazwa\",\n",
    "              line_shape=\"spline\", render_mode=\"svg\")\n",
    "\n",
    "fig.show()"
   ],
   "metadata": {
    "collapsed": false,
    "pycharm": {
     "name": "#%%\n"
    }
   }
  },
  {
   "cell_type": "markdown",
   "metadata": {},
   "source": [
    "## zarobki vs wydatki"
   ]
  },
  {
   "cell_type": "code",
   "execution_count": null,
   "metadata": {},
   "outputs": [],
   "source": [
    "# źle\n",
    "mean_income_annually.merge(mean_spendings_annually, how='inner', on='Rok', suffixes=('_Wydatki', '_Zarobki'))"
   ]
  },
  {
   "cell_type": "code",
   "execution_count": null,
   "metadata": {},
   "outputs": [],
   "source": [
    "mean_income_annually"
   ]
  },
  {
   "cell_type": "code",
   "execution_count": null,
   "metadata": {},
   "outputs": [],
   "source": [
    "mean_spendings_annually"
   ]
  },
  {
   "cell_type": "code",
   "execution_count": null,
   "metadata": {},
   "outputs": [],
   "source": [
    "incomes_vs_spendings = pd.concat([mean_income_annually.Wartosc, mean_spendings_annually.Wartosc], axis=1,\n",
    "                                 keys=['Dochody', 'Wydatki'])\n",
    "incomes_vs_spendings[\"Oszczędności\"] = incomes_vs_spendings[\"Dochody\"] - incomes_vs_spendings[\"Wydatki\"]\n",
    "incomes_vs_spendings = incomes_vs_spendings.reset_index()\n",
    "incomes_vs_spendings"
   ]
  },
  {
   "cell_type": "code",
   "execution_count": null,
   "outputs": [],
   "source": [
    "fig = px.line(incomes_vs_spendings,\n",
    "              x=\"Rok\", y=\"Oszczędności\", color=\"Nazwa\", hover_name=\"Nazwa\",\n",
    "              line_shape=\"spline\", render_mode=\"svg\")\n",
    "\n",
    "fig.show()"
   ],
   "metadata": {
    "collapsed": false,
    "pycharm": {
     "name": "#%%\n"
    }
   }
  },
  {
   "cell_type": "markdown",
   "metadata": {},
   "source": [
    "# gminy"
   ]
  },
  {
   "cell_type": "code",
   "execution_count": null,
   "metadata": {},
   "outputs": [],
   "source": [
    "df_gminy = pd.read_csv(data_path_gminy, sep=\";\", thousands=',')"
   ]
  },
  {
   "cell_type": "code",
   "execution_count": null,
   "metadata": {},
   "outputs": [],
   "source": [
    "df_gminy"
   ]
  },
  {
   "cell_type": "code",
   "execution_count": null,
   "metadata": {
    "pycharm": {
     "name": "#%%\n"
    }
   },
   "outputs": [],
   "source": [
    "# print unique values foreach column\n",
    "for column in df_gminy.columns:\n",
    "    print(f\"{column}: {df_gminy[column].unique()} \\n\")"
   ]
  },
  {
   "cell_type": "code",
   "execution_count": null,
   "outputs": [],
   "source": [],
   "metadata": {
    "collapsed": false,
    "pycharm": {
     "name": "#%%\n"
    }
   }
  },
  {
   "cell_type": "code",
   "execution_count": null,
   "outputs": [],
   "source": [
    "def create_frequency_df(src_df):\n",
    "  temp_df = pd.DataFrame()\n",
    "  temp_df['Rok'] = src_df.Rok.unique()\n",
    "  temp_df.set_index('Rok', inplace=True)\n",
    "  p_k = src_df[src_df['Zmienna'] == 'kobiety'].set_index('Rok')['Wartosc'] / 100\n",
    "  p_o = src_df[src_df['Zmienna'] == 'ogółem'].set_index('Rok')['Wartosc'] / 100\n",
    "  l_k = df_gminy[(df_gminy['Kategoria'] == 'Kobiety wg grup wieku') & (df_gminy['Zmienna'] == 'ogółem') & (df_gminy['Kod'] == src_df['Kod'].unique()[0])].set_index('Rok')['Wartosc']\n",
    "  l_m = df_gminy[(df_gminy['Kategoria'] == 'Mężczyźni wg grup wieku') & (df_gminy['Zmienna'] == 'ogółem') & (df_gminy['Kod'] == src_df['Kod'].unique()[0])].set_index('Rok')['Wartosc']\n",
    "  temp_df['udział kobiet w bezrobociu'] = p_k * l_k / (p_o * (l_k + l_m))\n",
    "  temp_df['udział mężczyzn w bezrobociu'] = 1 - temp_df['udział kobiet w bezrobociu']\n",
    "\n",
    "  return temp_df"
   ],
   "metadata": {
    "collapsed": false,
    "pycharm": {
     "name": "#%%\n"
    }
   }
  },
  {
   "cell_type": "code",
   "execution_count": null,
   "outputs": [],
   "source": [
    "create_frequency_df(df_gminy)"
   ],
   "metadata": {
    "collapsed": false,
    "pycharm": {
     "name": "#%%\n"
    }
   }
  },
  {
   "cell_type": "code",
   "execution_count": null,
   "outputs": [],
   "source": [],
   "metadata": {
    "collapsed": false,
    "pycharm": {
     "name": "#%%\n"
    }
   }
  }
 ],
 "metadata": {
  "kernelspec": {
   "display_name": "Python 3",
   "language": "python",
   "name": "python3"
  },
  "language_info": {
   "codemirror_mode": {
    "name": "ipython",
    "version": 3
   },
   "file_extension": ".py",
   "mimetype": "text/x-python",
   "name": "python",
   "nbconvert_exporter": "python",
   "pygments_lexer": "ipython3",
   "version": "3.8.3"
  }
 },
 "nbformat": 4,
 "nbformat_minor": 4
}