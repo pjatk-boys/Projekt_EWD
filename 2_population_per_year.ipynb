{
 "cells": [
  {
   "cell_type": "code",
   "execution_count": 2,
   "id": "d75c91e2",
   "metadata": {},
   "outputs": [
    {
     "name": "stderr",
     "output_type": "stream",
     "text": [
      "C:\\Users\\kierz\\anaconda3\\lib\\site-packages\\IPython\\core\\interactiveshell.py:3165: DtypeWarning: Columns (7) have mixed types.Specify dtype option on import or set low_memory=False.\n",
      "  has_raised = await self.run_ast_nodes(code_ast.body, cell_name,\n"
     ]
    },
    {
     "data": {
      "text/html": [
       "<div>\n",
       "<style scoped>\n",
       "    .dataframe tbody tr th:only-of-type {\n",
       "        vertical-align: middle;\n",
       "    }\n",
       "\n",
       "    .dataframe tbody tr th {\n",
       "        vertical-align: top;\n",
       "    }\n",
       "\n",
       "    .dataframe thead th {\n",
       "        text-align: right;\n",
       "    }\n",
       "</style>\n",
       "<table border=\"1\" class=\"dataframe\">\n",
       "  <thead>\n",
       "    <tr style=\"text-align: right;\">\n",
       "      <th></th>\n",
       "      <th>Kategoria</th>\n",
       "      <th>Kod</th>\n",
       "      <th>Nazwa</th>\n",
       "      <th>Zmienna</th>\n",
       "      <th>Rok</th>\n",
       "      <th>Wartosc</th>\n",
       "      <th>Jednostka miary</th>\n",
       "      <th>Atrybut</th>\n",
       "      <th>Unnamed: 8</th>\n",
       "    </tr>\n",
       "  </thead>\n",
       "  <tbody>\n",
       "    <tr>\n",
       "      <th>0</th>\n",
       "      <td>Ludność</td>\n",
       "      <td>0</td>\n",
       "      <td>POLSKA</td>\n",
       "      <td>ludność na 1 km2</td>\n",
       "      <td>2002</td>\n",
       "      <td>122.0</td>\n",
       "      <td>osoba</td>\n",
       "      <td>NaN</td>\n",
       "      <td>NaN</td>\n",
       "    </tr>\n",
       "    <tr>\n",
       "      <th>1</th>\n",
       "      <td>Ludność</td>\n",
       "      <td>0</td>\n",
       "      <td>POLSKA</td>\n",
       "      <td>ludność na 1 km2</td>\n",
       "      <td>2003</td>\n",
       "      <td>122.0</td>\n",
       "      <td>osoba</td>\n",
       "      <td>NaN</td>\n",
       "      <td>NaN</td>\n",
       "    </tr>\n",
       "    <tr>\n",
       "      <th>2</th>\n",
       "      <td>Ludność</td>\n",
       "      <td>0</td>\n",
       "      <td>POLSKA</td>\n",
       "      <td>ludność na 1 km2</td>\n",
       "      <td>2004</td>\n",
       "      <td>122.0</td>\n",
       "      <td>osoba</td>\n",
       "      <td>NaN</td>\n",
       "      <td>NaN</td>\n",
       "    </tr>\n",
       "    <tr>\n",
       "      <th>3</th>\n",
       "      <td>Ludność</td>\n",
       "      <td>0</td>\n",
       "      <td>POLSKA</td>\n",
       "      <td>ludność na 1 km2</td>\n",
       "      <td>2005</td>\n",
       "      <td>122.0</td>\n",
       "      <td>osoba</td>\n",
       "      <td>NaN</td>\n",
       "      <td>NaN</td>\n",
       "    </tr>\n",
       "    <tr>\n",
       "      <th>4</th>\n",
       "      <td>Ludność</td>\n",
       "      <td>0</td>\n",
       "      <td>POLSKA</td>\n",
       "      <td>ludność na 1 km2</td>\n",
       "      <td>2006</td>\n",
       "      <td>122.0</td>\n",
       "      <td>osoba</td>\n",
       "      <td>NaN</td>\n",
       "      <td>NaN</td>\n",
       "    </tr>\n",
       "    <tr>\n",
       "      <th>...</th>\n",
       "      <td>...</td>\n",
       "      <td>...</td>\n",
       "      <td>...</td>\n",
       "      <td>...</td>\n",
       "      <td>...</td>\n",
       "      <td>...</td>\n",
       "      <td>...</td>\n",
       "      <td>...</td>\n",
       "      <td>...</td>\n",
       "    </tr>\n",
       "    <tr>\n",
       "      <th>1971426</th>\n",
       "      <td>Wydatki per capita</td>\n",
       "      <td>3263011</td>\n",
       "      <td>Świnoujście (1)</td>\n",
       "      <td>wydatki majątkowe</td>\n",
       "      <td>2016</td>\n",
       "      <td>1114.0</td>\n",
       "      <td>zł</td>\n",
       "      <td>NaN</td>\n",
       "      <td>NaN</td>\n",
       "    </tr>\n",
       "    <tr>\n",
       "      <th>1971427</th>\n",
       "      <td>Wydatki per capita</td>\n",
       "      <td>3263011</td>\n",
       "      <td>Świnoujście (1)</td>\n",
       "      <td>wydatki majątkowe</td>\n",
       "      <td>2017</td>\n",
       "      <td>1024.0</td>\n",
       "      <td>zł</td>\n",
       "      <td>NaN</td>\n",
       "      <td>NaN</td>\n",
       "    </tr>\n",
       "    <tr>\n",
       "      <th>1971428</th>\n",
       "      <td>Wydatki per capita</td>\n",
       "      <td>3263011</td>\n",
       "      <td>Świnoujście (1)</td>\n",
       "      <td>wydatki majątkowe</td>\n",
       "      <td>2018</td>\n",
       "      <td>3206.0</td>\n",
       "      <td>zł</td>\n",
       "      <td>NaN</td>\n",
       "      <td>NaN</td>\n",
       "    </tr>\n",
       "    <tr>\n",
       "      <th>1971429</th>\n",
       "      <td>Wydatki per capita</td>\n",
       "      <td>3263011</td>\n",
       "      <td>Świnoujście (1)</td>\n",
       "      <td>wydatki majątkowe</td>\n",
       "      <td>2019</td>\n",
       "      <td>5256.0</td>\n",
       "      <td>zł</td>\n",
       "      <td>NaN</td>\n",
       "      <td>NaN</td>\n",
       "    </tr>\n",
       "    <tr>\n",
       "      <th>1971430</th>\n",
       "      <td>Wydatki per capita</td>\n",
       "      <td>3263011</td>\n",
       "      <td>Świnoujście (1)</td>\n",
       "      <td>wydatki majątkowe</td>\n",
       "      <td>2020</td>\n",
       "      <td>9089.0</td>\n",
       "      <td>zł</td>\n",
       "      <td>NaN</td>\n",
       "      <td>NaN</td>\n",
       "    </tr>\n",
       "  </tbody>\n",
       "</table>\n",
       "<p>1971431 rows × 9 columns</p>\n",
       "</div>"
      ],
      "text/plain": [
       "                  Kategoria      Kod            Nazwa            Zmienna  \\\n",
       "0                   Ludność        0           POLSKA   ludność na 1 km2   \n",
       "1                   Ludność        0           POLSKA   ludność na 1 km2   \n",
       "2                   Ludność        0           POLSKA   ludność na 1 km2   \n",
       "3                   Ludność        0           POLSKA   ludność na 1 km2   \n",
       "4                   Ludność        0           POLSKA   ludność na 1 km2   \n",
       "...                     ...      ...              ...                ...   \n",
       "1971426  Wydatki per capita  3263011  Świnoujście (1)  wydatki majątkowe   \n",
       "1971427  Wydatki per capita  3263011  Świnoujście (1)  wydatki majątkowe   \n",
       "1971428  Wydatki per capita  3263011  Świnoujście (1)  wydatki majątkowe   \n",
       "1971429  Wydatki per capita  3263011  Świnoujście (1)  wydatki majątkowe   \n",
       "1971430  Wydatki per capita  3263011  Świnoujście (1)  wydatki majątkowe   \n",
       "\n",
       "          Rok  Wartosc Jednostka miary Atrybut  Unnamed: 8  \n",
       "0        2002    122.0           osoba     NaN         NaN  \n",
       "1        2003    122.0           osoba     NaN         NaN  \n",
       "2        2004    122.0           osoba     NaN         NaN  \n",
       "3        2005    122.0           osoba     NaN         NaN  \n",
       "4        2006    122.0           osoba     NaN         NaN  \n",
       "...       ...      ...             ...     ...         ...  \n",
       "1971426  2016   1114.0              zł     NaN         NaN  \n",
       "1971427  2017   1024.0              zł     NaN         NaN  \n",
       "1971428  2018   3206.0              zł     NaN         NaN  \n",
       "1971429  2019   5256.0              zł     NaN         NaN  \n",
       "1971430  2020   9089.0              zł     NaN         NaN  \n",
       "\n",
       "[1971431 rows x 9 columns]"
      ]
     },
     "execution_count": 2,
     "metadata": {},
     "output_type": "execute_result"
    }
   ],
   "source": [
    "import pandas as pd\n",
    "PATH = \"gminy.csv\"\n",
    "\n",
    "df_gminy = pd.read_csv(PATH, sep = ';', thousands = ',')\n",
    "df_gminy"
   ]
  },
  {
   "cell_type": "code",
   "execution_count": 3,
   "id": "fb6d0e11",
   "metadata": {},
   "outputs": [
    {
     "data": {
      "text/plain": [
       "array(['Ludność', 'Ludność wg grup wieku', 'Mężczyźni wg grup wieku',\n",
       "       'Kobiety wg grup wieku', 'Bezrobocie', 'Skolaryzacja',\n",
       "       'Dochody per capita', 'Wydatki per capita'], dtype=object)"
      ]
     },
     "execution_count": 3,
     "metadata": {},
     "output_type": "execute_result"
    }
   ],
   "source": [
    "df_gminy.Kategoria.unique()"
   ]
  },
  {
   "cell_type": "markdown",
   "id": "9adcde69",
   "metadata": {},
   "source": [
    "# df_gminy[(df_gminy.Kategoria == \"Ludność\") & (df_gminy.Zmienna == 'przyrost naturalny na 1000 ludności') & (df_gminy.Nazwa == \"PODKARPACKIE\")]"
   ]
  },
  {
   "cell_type": "code",
   "execution_count": 22,
   "id": "9cf601a3",
   "metadata": {},
   "outputs": [
    {
     "data": {
      "image/png": "[encoded data removed]",
      "text/plain": [
       "<Figure size 432x288 with 1 Axes>"
      ]
     },
     "metadata": {
      "needs_background": "light"
     },
     "output_type": "display_data"
    }
   ],
   "source": [
    "import matplotlib.pyplot as plt\n",
    "plt.scatter(df_gminy[(df_gminy.Kategoria == \"Ludność\") & (df_gminy.Zmienna == 'przyrost naturalny na 1000 ludności') & (df_gminy.Nazwa == \"PODKARPACKIE\")].Rok,\n",
    "           df_gminy[(df_gminy.Kategoria == \"Ludność\") & (df_gminy.Zmienna == 'przyrost naturalny na 1000 ludności') & (df_gminy.Nazwa == \"PODKARPACKIE\")].Wartosc)\n",
    "plt.show()"
   ]
  },
  {
   "cell_type": "code",
   "execution_count": null,
   "id": "c281e38d",
   "metadata": {},
   "outputs": [],
   "source": []
  }
 ],
 "metadata": {
  "kernelspec": {
   "display_name": "Python 3",
   "language": "python",
   "name": "python3"
  },
  "language_info": {
   "codemirror_mode": {
    "name": "ipython",
    "version": 3
   },
   "file_extension": ".py",
   "mimetype": "text/x-python",
   "name": "python",
   "nbconvert_exporter": "python",
   "pygments_lexer": "ipython3",
   "version": "3.8.8"
  }
 },
 "nbformat": 4,
 "nbformat_minor": 5
}
